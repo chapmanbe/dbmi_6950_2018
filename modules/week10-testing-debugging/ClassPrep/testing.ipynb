{
 "cells": [
  {
   "cell_type": "markdown",
   "metadata": {},
   "source": [
    "## Testing\n",
    "\n",
    "An important but often overlooked part of software development is testing. Software packages will often list how many lines of test code they have relative to software lines of code. Michael Cohn developed the idea of the Testing Pyramid. There is a useful article [here](https://martinfowler.com/articles/practical-test-pyramid.html) by Maratin Fowler describing this pyramid\n",
    "\n",
    "![Testing Pyramid](https://martinfowler.com/articles/practical-test-pyramid/testPyramid.png)\n",
    "\n",
    "We will primarily be looking at the unit test level of testing."
   ]
  },
  {
   "cell_type": "markdown",
   "metadata": {},
   "source": [
    "\n",
    ">The most important thing to say about testing is that its purpose is to show that bugs exist, not to show that a program is bug-free. To quote  Edsger Dijkstra, \"Program testing can be used to show the presence of bugs, but never to show their absence!\" Or, as Albert Einstein reputedly said, \"No amount of experimentation can ever prove me right; a single experiment can prove me wrong.\" (p. 86)\n",
    "\n",
    "* We are limited by combinatorics: there are too many possible program states to exhaustively test.\n",
    "* Create a **test suite** with reasonable coverage of program space\n",
    "\n",
    "\n",
    "### Black-box testing\n",
    "\n",
    "* Separate developer and tester\n",
    "* Homework\n",
    "* Test boundary conditions/extremes\n",
    "\n",
    "### Glass-box testing\n",
    "\n",
    "* Path complete testing\n",
    "* Partitioning test space\n",
    "\n",
    "#### Example\n",
    "```Python\n",
    "def isPrime(x):\n",
    "    \"\"\"Assumes x is a nonnegative int\n",
    "       Returns True if x is prime; False otherwise\"\"\"\n",
    "    if x <= 2:\n",
    "        return False\n",
    "    for i in range(2,x):\n",
    "        if x%i == 0:\n",
    "            return False\n",
    "    return True\n",
    "```\n",
    "\n",
    "#### Three return paths\n",
    "\n",
    "#### What are the boundary values defined by the code?\n",
    "\n",
    "#### What would be a reasonable set of numbers for a test suite for this function?\n",
    "\n",
    "### Python Testing Frameworks\n",
    "\n",
    "#### Unit Testing\n",
    "* [PyTest](https://docs.pytest.org/en/latest/) **current star**\n",
    "* [UnitTest](https://docs.python.org/3/library/unittest.html?highlight=unittest#module-unittest) **In Standard Library**\n",
    "* [DocTest](https://docs.python.org/3/library/doctest.html) **In Standard Library**\n",
    "\n",
    "#### Fuzz Testing\n",
    "\n",
    "* [hypothesis](https://github.com/HypothesisWorks/hypothesis-python) (Integrated into pytest?)"
   ]
  },
  {
   "cell_type": "markdown",
   "metadata": {},
   "source": [
    "## [Test Driven Development](https://goo.gl/YJR575)\n",
    "\n",
    "1. Write a test?\n",
    "1. Make sure it fails. Why?\n",
    "    1. Test should fail because there is no code to satisfy the test.\n",
    "1. Write the code to pass the test\n",
    "\n",
    "### The efficacy and usefullness of TDD is always hotly discussed\n",
    "\n",
    "* https://sdtimes.com/ca-technologies/test-driven-development-alive-well/\n"
   ]
  },
  {
   "cell_type": "markdown",
   "metadata": {},
   "source": []
  },
  {
   "cell_type": "code",
   "execution_count": null,
   "metadata": {
    "collapsed": true
   },
   "outputs": [],
   "source": []
  }
 ],
 "metadata": {
  "kernelspec": {
   "display_name": "Python [default]",
   "language": "python",
   "name": "python3"
  },
  "language_info": {
   "codemirror_mode": {
    "name": "ipython",
    "version": 3
   },
   "file_extension": ".py",
   "mimetype": "text/x-python",
   "name": "python",
   "nbconvert_exporter": "python",
   "pygments_lexer": "ipython3",
   "version": "3.6.4"
  },
  "toc": {
   "base_numbering": 1,
   "nav_menu": {},
   "number_sections": true,
   "sideBar": true,
   "skip_h1_title": false,
   "title_cell": "Table of Contents",
   "title_sidebar": "Contents",
   "toc_cell": false,
   "toc_position": {},
   "toc_section_display": true,
   "toc_window_display": false
  }
 },
 "nbformat": 4,
 "nbformat_minor": 2
}
