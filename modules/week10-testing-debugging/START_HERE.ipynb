{
 "cells": [
  {
   "cell_type": "markdown",
   "metadata": {},
   "source": [
    "# Class Prep\n",
    "\n",
    "* [Introduction to Debugging](ClassPrep/introduction_to_debugging.ipynb)\n",
    "* [Introduction to Testing](ClassPrep/testing.ipynb)\n",
    "\n",
    "\n",
    "## Readings\n",
    "\n",
    "* Chapter 6 \"TESTING AND DEBUGGING\" *Introduction to Computation and Programming Using Python: With Application to Understanding Data*"
   ]
  },
  {
   "cell_type": "code",
   "execution_count": null,
   "metadata": {},
   "outputs": [],
   "source": []
  }
 ],
 "metadata": {
  "kernelspec": {
   "display_name": "Python [default]",
   "language": "python",
   "name": "python3"
  },
  "language_info": {
   "codemirror_mode": {
    "name": "ipython",
    "version": 3
   },
   "file_extension": ".py",
   "mimetype": "text/x-python",
   "name": "python",
   "nbconvert_exporter": "python",
   "pygments_lexer": "ipython3",
   "version": "3.6.4"
  }
 },
 "nbformat": 4,
 "nbformat_minor": 2
}
