{
 "cells": [
  {
   "cell_type": "code",
   "execution_count": null,
   "metadata": {
    "collapsed": true
   },
   "outputs": [],
   "source": [
    "#%matplotlib inline"
   ]
  },
  {
   "cell_type": "code",
   "execution_count": 1,
   "metadata": {},
   "outputs": [],
   "source": [
    "#!conda install spacy -y"
   ]
  },
  {
   "cell_type": "code",
   "execution_count": 21,
   "metadata": {},
   "outputs": [
    {
     "name": "stdout",
     "output_type": "stream",
     "text": [
      "Collecting https://github.com/explosion/spacy-models/releases/download/en_core_web_sm-2.0.0/en_core_web_sm-2.0.0.tar.gz\n",
      "  Downloading https://github.com/explosion/spacy-models/releases/download/en_core_web_sm-2.0.0/en_core_web_sm-2.0.0.tar.gz (37.4MB)\n",
      "\u001b[K    100% |████████████████████████████████| 37.4MB 4.1MB/s ta 0:00:011   11% |███▊                            | 4.3MB 1.7MB/s eta 0:00:20    14% |████▋                           | 5.4MB 14.9MB/s eta 0:00:03    18% |██████                          | 7.1MB 4.7MB/s eta 0:00:07    20% |██████▌                         | 7.6MB 15.0MB/s eta 0:00:02    21% |███████                         | 8.2MB 4.8MB/s eta 0:00:07    22% |███████▎                        | 8.4MB 3.9MB/s eta 0:00:08    27% |████████▋                       | 10.1MB 8.1MB/s eta 0:00:04    29% |█████████▍                      | 11.0MB 8.8MB/s eta 0:00:03    33% |██████████▉                     | 12.6MB 8.7MB/s eta 0:00:03    41% |█████████████▏                  | 15.3MB 7.4MB/s eta 0:00:03    42% |█████████████▋                  | 15.8MB 8.0MB/s eta 0:00:03    44% |██████████████▏                 | 16.6MB 5.1MB/s eta 0:00:05    45% |██████████████▋                 | 17.1MB 2.5MB/s eta 0:00:08    67% |█████████████████████▌          | 25.1MB 2.7MB/s eta 0:00:05    69% |██████████████████████▍         | 26.1MB 2.8MB/s eta 0:00:05    70% |██████████████████████▋         | 26.4MB 25.7MB/s eta 0:00:01    73% |███████████████████████▋        | 27.6MB 7.9MB/s eta 0:00:02    75% |████████████████████████▏       | 28.2MB 5.6MB/s eta 0:00:02    76% |████████████████████████▍       | 28.5MB 2.7MB/s eta 0:00:04    78% |█████████████████████████       | 29.2MB 9.4MB/s eta 0:00:01    85% |███████████████████████████▎    | 31.9MB 9.6MB/s eta 0:00:01    88% |████████████████████████████▏   | 32.9MB 13.1MB/s eta 0:00:01    94% |██████████████████████████████▍ | 35.5MB 9.8MB/s eta 0:00:01\n",
      "\u001b[?25hRequirement already satisfied: spacy>=2.0.0a18 in /opt/conda/lib/python3.5/site-packages (from en-core-web-sm==2.0.0)\n",
      "Requirement already satisfied: numpy>=1.7 in /opt/conda/lib/python3.5/site-packages (from spacy>=2.0.0a18->en-core-web-sm==2.0.0)\n",
      "Requirement already satisfied: murmurhash<0.29,>=0.28 in /opt/conda/lib/python3.5/site-packages (from spacy>=2.0.0a18->en-core-web-sm==2.0.0)\n",
      "Requirement already satisfied: cymem<1.32,>=1.30 in /opt/conda/lib/python3.5/site-packages (from spacy>=2.0.0a18->en-core-web-sm==2.0.0)\n",
      "Requirement already satisfied: preshed<2.0.0,>=1.0.0 in /opt/conda/lib/python3.5/site-packages (from spacy>=2.0.0a18->en-core-web-sm==2.0.0)\n",
      "Requirement already satisfied: thinc<6.11.0,>=6.10.0 in /opt/conda/lib/python3.5/site-packages (from spacy>=2.0.0a18->en-core-web-sm==2.0.0)\n",
      "Requirement already satisfied: plac<1.0.0,>=0.9.6 in /opt/conda/lib/python3.5/site-packages (from spacy>=2.0.0a18->en-core-web-sm==2.0.0)\n",
      "Requirement already satisfied: six in /opt/conda/lib/python3.5/site-packages (from spacy>=2.0.0a18->en-core-web-sm==2.0.0)\n",
      "Collecting pathlib (from spacy>=2.0.0a18->en-core-web-sm==2.0.0)\n",
      "  Downloading pathlib-1.0.1.tar.gz (49kB)\n",
      "\u001b[K    100% |████████████████████████████████| 51kB 1.2MB/s ta 0:00:01\n",
      "\u001b[?25hRequirement already satisfied: ujson>=1.35 in /opt/conda/lib/python3.5/site-packages (from spacy>=2.0.0a18->en-core-web-sm==2.0.0)\n",
      "Requirement already satisfied: dill<0.3,>=0.2 in /opt/conda/lib/python3.5/site-packages (from spacy>=2.0.0a18->en-core-web-sm==2.0.0)\n",
      "Requirement already satisfied: requests<3.0.0,>=2.13.0 in /opt/conda/lib/python3.5/site-packages (from spacy>=2.0.0a18->en-core-web-sm==2.0.0)\n",
      "Collecting regex==2017.4.5 (from spacy>=2.0.0a18->en-core-web-sm==2.0.0)\n",
      "  Downloading regex-2017.04.05.tar.gz (601kB)\n",
      "\u001b[K    100% |████████████████████████████████| 604kB 9.6MB/s ta 0:00:011\n",
      "\u001b[?25hRequirement already satisfied: ftfy<5.0.0,>=4.4.2 in /opt/conda/lib/python3.5/site-packages (from spacy>=2.0.0a18->en-core-web-sm==2.0.0)\n",
      "Requirement already satisfied: msgpack-python in /opt/conda/lib/python3.5/site-packages (from spacy>=2.0.0a18->en-core-web-sm==2.0.0)\n",
      "Requirement already satisfied: msgpack-numpy in /opt/conda/lib/python3.5/site-packages (from spacy>=2.0.0a18->en-core-web-sm==2.0.0)\n",
      "Requirement already satisfied: wrapt in /opt/conda/lib/python3.5/site-packages (from thinc<6.11.0,>=6.10.0->spacy>=2.0.0a18->en-core-web-sm==2.0.0)\n",
      "Requirement already satisfied: tqdm<5.0.0,>=4.10.0 in /opt/conda/lib/python3.5/site-packages (from thinc<6.11.0,>=6.10.0->spacy>=2.0.0a18->en-core-web-sm==2.0.0)\n",
      "Requirement already satisfied: cytoolz<0.9,>=0.8 in /opt/conda/lib/python3.5/site-packages (from thinc<6.11.0,>=6.10.0->spacy>=2.0.0a18->en-core-web-sm==2.0.0)\n",
      "Requirement already satisfied: termcolor in /opt/conda/lib/python3.5/site-packages (from thinc<6.11.0,>=6.10.0->spacy>=2.0.0a18->en-core-web-sm==2.0.0)\n",
      "Requirement already satisfied: chardet<3.1.0,>=3.0.2 in /opt/conda/lib/python3.5/site-packages (from requests<3.0.0,>=2.13.0->spacy>=2.0.0a18->en-core-web-sm==2.0.0)\n",
      "Requirement already satisfied: idna<2.7,>=2.5 in /opt/conda/lib/python3.5/site-packages (from requests<3.0.0,>=2.13.0->spacy>=2.0.0a18->en-core-web-sm==2.0.0)\n",
      "Requirement already satisfied: urllib3<1.23,>=1.21.1 in /opt/conda/lib/python3.5/site-packages (from requests<3.0.0,>=2.13.0->spacy>=2.0.0a18->en-core-web-sm==2.0.0)\n",
      "Requirement already satisfied: certifi>=2017.4.17 in /opt/conda/lib/python3.5/site-packages (from requests<3.0.0,>=2.13.0->spacy>=2.0.0a18->en-core-web-sm==2.0.0)\n",
      "Requirement already satisfied: html5lib in /opt/conda/lib/python3.5/site-packages (from ftfy<5.0.0,>=4.4.2->spacy>=2.0.0a18->en-core-web-sm==2.0.0)\n",
      "Requirement already satisfied: wcwidth in /opt/conda/lib/python3.5/site-packages (from ftfy<5.0.0,>=4.4.2->spacy>=2.0.0a18->en-core-web-sm==2.0.0)\n",
      "Requirement already satisfied: toolz>=0.8.0 in /opt/conda/lib/python3.5/site-packages (from cytoolz<0.9,>=0.8->thinc<6.11.0,>=6.10.0->spacy>=2.0.0a18->en-core-web-sm==2.0.0)\n",
      "Installing collected packages: en-core-web-sm, pathlib, regex\n",
      "  Running setup.py install for en-core-web-sm ... \u001b[?25ldone\n",
      "\u001b[?25h  Running setup.py install for pathlib ... \u001b[?25ldone\n",
      "\u001b[?25h  Found existing installation: regex 2017.9.23\n",
      "    Uninstalling regex-2017.9.23:\n",
      "      Successfully uninstalled regex-2017.9.23\n",
      "  Running setup.py install for regex ... \u001b[?25ldone\n",
      "\u001b[?25hSuccessfully installed en-core-web-sm-2.0.0 pathlib-1.0.1 regex-2017.4.5\n",
      "\n",
      "\u001b[93m    Linking successful\u001b[0m\n",
      "    /opt/conda/lib/python3.5/site-packages/en_core_web_sm -->\n",
      "    /opt/conda/lib/python3.5/site-packages/spacy/data/en\n",
      "\n",
      "    You can now load the model via spacy.load('en')\n",
      "\n"
     ]
    }
   ],
   "source": [
    "#!python -m spacy download en"
   ]
  },
  {
   "cell_type": "code",
   "execution_count": 2,
   "metadata": {},
   "outputs": [],
   "source": [
    "import pymysql\n",
    "import pandas as pd\n",
    "import getpass\n",
    "from textblob import TextBlob\n",
    "import re\n",
    "import spacy\n",
    "from spacy import displacy"
   ]
  },
  {
   "cell_type": "code",
   "execution_count": 3,
   "metadata": {},
   "outputs": [
    {
     "data": {
      "text/plain": [
       "'2.0.2'"
      ]
     },
     "execution_count": 3,
     "metadata": {},
     "output_type": "execute_result"
    }
   ],
   "source": [
    "spacy.__version__"
   ]
  },
  {
   "cell_type": "code",
   "execution_count": 4,
   "metadata": {},
   "outputs": [
    {
     "name": "stdout",
     "output_type": "stream",
     "text": [
      "Enter MySQL passwd for jovyan········\n"
     ]
    }
   ],
   "source": [
    "conn = pymysql.connect(host=\"mysql\",\n",
    "                       port=3306,user=\"jovyan\",\n",
    "                       passwd=getpass.getpass(\"Enter MySQL passwd for jovyan\"),db='mimic2')\n",
    "cursor = conn.cursor()"
   ]
  },
  {
   "cell_type": "markdown",
   "metadata": {},
   "source": [
    "### Use Pandas and SQL to create a dataframe with the following:\n",
    "* subject_id\n",
    "* hospital admission id\n",
    "* text of the radiology report\n",
    "* Limit the number of reports to 10000"
   ]
  },
  {
   "cell_type": "code",
   "execution_count": 5,
   "metadata": {},
   "outputs": [
    {
     "data": {
      "text/html": [
       "<div>\n",
       "<table border=\"1\" class=\"dataframe\">\n",
       "  <thead>\n",
       "    <tr style=\"text-align: right;\">\n",
       "      <th></th>\n",
       "      <th>subject_id</th>\n",
       "      <th>hadm_id</th>\n",
       "      <th>text</th>\n",
       "    </tr>\n",
       "  </thead>\n",
       "  <tbody>\n",
       "    <tr>\n",
       "      <th>0</th>\n",
       "      <td>56</td>\n",
       "      <td>28766.0</td>\n",
       "      <td>\\n\\n\\n     DATE: [**2644-1-17**] 10:53 AM\\n   ...</td>\n",
       "    </tr>\n",
       "    <tr>\n",
       "      <th>1</th>\n",
       "      <td>56</td>\n",
       "      <td>28766.0</td>\n",
       "      <td>\\n\\n\\n     DATE: [**2644-1-17**] 10:53 AM\\n   ...</td>\n",
       "    </tr>\n",
       "    <tr>\n",
       "      <th>2</th>\n",
       "      <td>56</td>\n",
       "      <td>28766.0</td>\n",
       "      <td>\\n\\n\\n     DATE: [**2644-1-17**] 10:43 AM\\n   ...</td>\n",
       "    </tr>\n",
       "    <tr>\n",
       "      <th>3</th>\n",
       "      <td>56</td>\n",
       "      <td>28766.0</td>\n",
       "      <td>\\n\\n\\n     DATE: [**2644-1-17**] 6:37 AM\\n    ...</td>\n",
       "    </tr>\n",
       "    <tr>\n",
       "      <th>4</th>\n",
       "      <td>56</td>\n",
       "      <td>28766.0</td>\n",
       "      <td>\\n\\n\\n     DATE: [**2644-1-19**] 12:09 PM\\n   ...</td>\n",
       "    </tr>\n",
       "  </tbody>\n",
       "</table>\n",
       "</div>"
      ],
      "text/plain": [
       "   subject_id  hadm_id                                               text\n",
       "0          56  28766.0  \\n\\n\\n     DATE: [**2644-1-17**] 10:53 AM\\n   ...\n",
       "1          56  28766.0  \\n\\n\\n     DATE: [**2644-1-17**] 10:53 AM\\n   ...\n",
       "2          56  28766.0  \\n\\n\\n     DATE: [**2644-1-17**] 10:43 AM\\n   ...\n",
       "3          56  28766.0  \\n\\n\\n     DATE: [**2644-1-17**] 6:37 AM\\n    ...\n",
       "4          56  28766.0  \\n\\n\\n     DATE: [**2644-1-19**] 12:09 PM\\n   ..."
      ]
     },
     "execution_count": 5,
     "metadata": {},
     "output_type": "execute_result"
    }
   ],
   "source": [
    "rad_data = \\\n",
    "pd.read_sql(\"\"\"SELECT noteevents.subject_id, \n",
    "                      noteevents.hadm_id,\n",
    "                      noteevents.text \n",
    "               FROM noteevents\n",
    "               WHERE noteevents.category = 'RADIOLOGY_REPORT' LIMIT 10000\"\"\",conn)\n",
    "rad_data.head(5)"
   ]
  },
  {
   "cell_type": "code",
   "execution_count": 6,
   "metadata": {},
   "outputs": [
    {
     "data": {
      "text/plain": [
       "(10000, 3)"
      ]
     },
     "execution_count": 6,
     "metadata": {},
     "output_type": "execute_result"
    }
   ],
   "source": [
    "rad_data.shape"
   ]
  },
  {
   "cell_type": "code",
   "execution_count": 7,
   "metadata": {},
   "outputs": [
    {
     "name": "stdout",
     "output_type": "stream",
     "text": [
      "\n",
      "\n",
      "\n",
      "     DATE: [**3352-7-6**] 10:20 AM\n",
      "     CHEST (PORTABLE AP)                                             Clip # [**Clip Number (Radiology) 1631**]\n",
      "     Reason: fever- eval for infection\n",
      "     Admitting Diagnosis: NON-HODGKIN'S LYMPHOMIA\\BONE MARROW TRANSPLANT\n",
      "     ______________________________________________________________________________\n",
      "     UNDERLYING MEDICAL CONDITION:\n",
      "      54 year old man with T-cell lymphoma, neutropenia\n",
      "     REASON FOR THIS EXAMINATION:\n",
      "      fever- eval for infection\n",
      "     ______________________________________________________________________________\n",
      "                                     FINAL REPORT\n",
      "     INDICATION:  Neutropenia and fever.\n",
      "     \n",
      "     COMPARISON: [**6-23**], [**6-6**] and [**3352-6-3**].\n",
      "     \n",
      "     CHEST AP PORTABLE RADIOGRAPH:  The cardiac, mediastinal and hilar contours are\n",
      "     unremarkable.  The left lung is clear.  There is a somewhat well circumscribed\n",
      "     opacity immediately overlying the catheter which runs along the lateral right\n",
      "     upper hemithorax.  No definite pulmonary infiltrates or effusions.  The\n",
      "     osseous structures are unremarkable.  The right internal jugular central\n",
      "     venous catheter tip extends to the distal SVC.  No pneumothorax.\n",
      "     \n",
      "     IMPRESSION:\n",
      "     1)  There is a somewhat well-circumscribed but subtle opacity immediately\n",
      "     adjacent to the external portion of the catheter overlying the right upper\n",
      "     lobe.  This may be related to the catheter itself but it is difficult to\n",
      "     exclude an underlying opacity in this region.  Correlation with physical exam\n",
      "     recommended.\n",
      "\n",
      "\n"
     ]
    }
   ],
   "source": [
    "print(rad_data.iloc[20][\"text\"])"
   ]
  },
  {
   "cell_type": "markdown",
   "metadata": {},
   "source": [
    "### Write a function that returns the impression section of a report\n",
    "\n",
    "#### Hints\n",
    "\n",
    "* Not every report will have an impression section\n",
    "* \"INTERPRETATION\" and \"CONCLUSIONS\" might be synonyms for \"IMPRESSION\""
   ]
  },
  {
   "cell_type": "code",
   "execution_count": 8,
   "metadata": {
    "collapsed": true
   },
   "outputs": [],
   "source": [
    "def get_impression(report):\n",
    "    headings = [\"INTERPRETATION:\", \"CONCLUSIONS:\", \"IMPRESSION:\"]\n",
    "    for heading in headings:\n",
    "        if heading in report:\n",
    "            return report.split(heading)[1]\n",
    "    return report    \n"
   ]
  },
  {
   "cell_type": "markdown",
   "metadata": {},
   "source": [
    "#### In how many reports did we find an impression section?"
   ]
  },
  {
   "cell_type": "code",
   "execution_count": 9,
   "metadata": {
    "collapsed": true
   },
   "outputs": [],
   "source": [
    "def count_impression(report):\n",
    "    headings = [\"INTERPRETATION:\", \"CONCLUSIONS:\", \"IMPRESSION:\"]\n",
    "    for heading in headings:\n",
    "        if heading in report:\n",
    "            return True\n",
    "    return False\n"
   ]
  },
  {
   "cell_type": "code",
   "execution_count": 10,
   "metadata": {},
   "outputs": [
    {
     "data": {
      "text/plain": [
       "8189"
      ]
     },
     "execution_count": 10,
     "metadata": {},
     "output_type": "execute_result"
    }
   ],
   "source": [
    "sum([count_impression(report) for report in rad_data[\"text\"]])"
   ]
  },
  {
   "cell_type": "markdown",
   "metadata": {},
   "source": [
    "### Define Regular expressions for data cleansing\n",
    "\n",
    "* Write a regular expression to replace dates in the reports with ``[**DATE**]``\n",
    "* Write a regular expression to replace times in the reports with ``[**TIME**]``\n",
    "* Write a regular expression to replaces digits with \"d\", (e.g. \"43 cc\" would become \"dd cm\")\n",
    "\n",
    "#### Hints\n",
    "\n",
    "* Look at some sample reports to see what dates and times look like in the reports\n",
    "* What order would you need to apply the regular expressions?"
   ]
  },
  {
   "cell_type": "code",
   "execution_count": 11,
   "metadata": {},
   "outputs": [
    {
     "name": "stdout",
     "output_type": "stream",
     "text": [
      "\n",
      "\n",
      "\n",
      "     DATE: [**2644-1-17**] 10:53 AM\n",
      "     MR HEAD W & W/O CONTRAST; MR CONTRAST GADOLIN                   Clip # [**Clip Number (Radiology) 12569**]\n",
      "     Reason: R ICB and HX brain mets - eval - also with DWI for CVA Do MR\n",
      "      Contrast: MAGNEVIST Amt: 15\n",
      "     ______________________________________________________________________________\n",
      "     UNDERLYING MEDICAL CONDITION:\n",
      "      [**Age over 90 **] year old woman with lung CA- mets to brain                                   \n",
      "     REASON FOR THIS EXAMINATION:\n",
      "      R ICB and HX brain mets - eval - also with DWI for CVA Do MRI both with and \n",
      "      without contast please\n",
      "     ______________________________________________________________________________\n",
      "                                     FINAL REPORT\n",
      "     EXAMINATION:  MRI of the brain with and without gadolinium.\n",
      "     \n",
      "     INDICATION:  [**Age over 90 **] year old woman with lung cancer and right intracranial bleed\n",
      "     and history of brain metastases.  Please evaluate for acute infarct.\n",
      "     \n",
      "     TECHNIQUE:  Multiplanar T1 and T2-weighted images of the brain with gadolinium\n",
      "     according to standard departmental protocol.  No prior study for comparison.\n",
      "     \n",
      "     FINDINGS:  On diffusion-weighted images there is a small area of restricted\n",
      "     diffusion along the falx within the left occipitotemporal lobe.  It is also\n",
      "     bright on FLAIR-weighted images and may represent a subacute infarct. Clinical\n",
      "     correlation is recommended.  On gradient echo images there is a large area of\n",
      "     intraparenchymal hemorrhage within the right parietal lobe and left thalamus\n",
      "     which following administration of gadolinium reveals ring-enhancing lesions.\n",
      "     These are suspicious for hemorrhagic metastases given the patient's history.\n",
      "     Additional ring-enhancing lesions throughout the supra- and infratentorial\n",
      "     compartments are visualized.  There is a moderate amount of peritumoral edema\n",
      "     involving the right parietal lobe lesion in addition to a second right\n",
      "     parietal lesion along the falx high in the vertex.  The other areas of\n",
      "     metastases reveal a minimal amount of peritumoral edema.\n",
      "     \n",
      "\n",
      "\n",
      "****************************************** \n",
      "\n",
      "\n",
      "\n",
      "\n",
      "\n",
      "     DATE: [**2644-1-17**] 10:53 AM\n",
      "     MR HEAD W & W/O CONTRAST; MR CONTRAST GADOLIN                   Clip # [**Clip Number (Radiology) 12569**]\n",
      "     Reason: R ICB and HX brain mets - eval - also with DWI for CVA Do MR\n",
      "      Contrast: MAGNEVIST Amt: 15\n",
      "     ______________________________________________________________________________\n",
      "     UNDERLYING MEDICAL CONDITION:\n",
      "      [**Age over 90 **] year old woman with lung CA- mets to brain                                   \n",
      "     REASON FOR THIS EXAMINATION:\n",
      "      R ICB and HX brain mets - eval - also with DWI for CVA Do MRI both with and \n",
      "      without contast please\n",
      "     ______________________________________________________________________________\n",
      "                                     FINAL REPORT\n",
      "     EXAMINATION:  MRI of the brain with and without gadolinium.\n",
      "     \n",
      "     INDICATION:  [**Age over 90 **] year old woman with lung cancer and right intracranial bleed\n",
      "     and history of brain metastases.  Please evaluate for acute infarct.\n",
      "     \n",
      "     TECHNIQUE:  Multiplanar T1 and T2-weighted images of the brain with gadolinium\n",
      "     according to standard departmental protocol.  No prior study for comparison.\n",
      "     \n",
      "     FINDINGS:  On diffusion-weighted images there is a small area of restricted\n",
      "     diffusion along the falx within the left occipitotemporal lobe.  It is also\n",
      "     bright on FLAIR-weighted images and may represent a subacute infarct. Clinical\n",
      "     correlation is recommended.  On gradient echo images there is a large area of\n",
      "     intraparenchymal hemorrhage within the right parietal lobe and left thalamus\n",
      "     which following administration of gadolinium reveals ring-enhancing lesions.\n",
      "     These are suspicious for hemorrhagic metastases given the patient's history.\n",
      "     Additional ring-enhancing lesions throughout the supra- and infratentorial\n",
      "     compartments are visualized.  There is a moderate amount of peritumoral edema\n",
      "     involving the right parietal lobe lesion in addition to a second right\n",
      "     parietal lesion along the falx high in the vertex.  The other areas of\n",
      "     metastases reveal a minimal amount of peritumoral edema.\n",
      "     \n",
      "\n",
      "\n",
      "****************************************** \n",
      "\n",
      "\n",
      "\n",
      "\n",
      "\n",
      "     DATE: [**2644-1-17**] 10:43 AM\n",
      "     CT HEAD W/O CONTRAST                                            Clip # [**Clip Number (Radiology) 12567**]\n",
      "     Reason: ? stability of bleed                                        \n",
      "     Admitting Diagnosis: HEAD BLEED\n",
      "     ______________________________________________________________________________\n",
      "     UNDERLYING MEDICAL CONDITION:\n",
      "      [**Age over 90 **] year old woman with ? hemorragic mass                                        \n",
      "     REASON FOR THIS EXAMINATION:\n",
      "      ? stability of bleed                                                            \n",
      "     No contraindications for IV contrast\n",
      "     ______________________________________________________________________________\n",
      "                                     FINAL REPORT  (REVISED)\n",
      "     HISTORY:  [**Age over 90 **] year-old woman with a history of metastatic lung cancer to the\n",
      "     brain.  Question hemorrhagic mass.  Question stability of bleed.\n",
      "     \n",
      "     COMPARISON:  Head CT from [**Hospital 12568**] Hospital dated [**2644-1-16**].\n",
      "     \n",
      "     TECHNIQUE:  Noncontrast head CT.\n",
      "     \n",
      "     FINDINGS:  Compared to the prior days study, there is stable appearance of the\n",
      "     right parietal intraparenchymal hemorrhage with surrounding edema.  At the\n",
      "     superior margin of the parenchymal hemorrhage there is a rounded heterogeneous\n",
      "     focus which could represent a metastatic lesion.  An additional 2mm hyperdense\n",
      "     focus, possibly hemorrhage, is noted in the posteromedial margin of the left\n",
      "     thalamus, with surroundng edema.  Low-attenuation foci seen in both basal\n",
      "     ganglia and insular regions are consistent with chronic lacunar infarcts.\n",
      "     There is no shift of midline structures.  The ventricles are stable in\n",
      "     appearance.  The osseous and soft tissue structures are unremarkable.\n",
      "     \n",
      "     IMPRESSION:  Stable appearance of right parietal lobe and left thalamic\n",
      "     hemorrhages, which are concerning for hemorrhagic metastasis in this patient\n",
      "     with known metastatic lung carcinoma to the brain.\n",
      "     \n",
      "     \n",
      "\n",
      "\n",
      "****************************************** \n",
      "\n",
      "\n",
      "\n",
      "\n",
      "\n",
      "     DATE: [**2644-1-17**] 6:37 AM\n",
      "     CHEST (PORTABLE AP)                                             Clip # [**Clip Number (Radiology) 12564**]\n",
      "     Reason: NGT placement                                               \n",
      "     Admitting Diagnosis: HEAD BLEED\n",
      "     ______________________________________________________________________________\n",
      "     UNDERLYING MEDICAL CONDITION:\n",
      "      [**Age over 90 **] year old woman with SAH                                                      \n",
      "     REASON FOR THIS EXAMINATION:\n",
      "      NGT placement                                                                   \n",
      "     ______________________________________________________________________________\n",
      "                                     FINAL REPORT\n",
      "     INDICATION:  A [**Age over 90 **]-year-old woman with SAH.  Nasogastric tube placement.\n",
      "     \n",
      "     TECHNIQUE:  Portable AP chest radiograph.\n",
      "     \n",
      "     There is no previous chest radiograph for comparison.\n",
      "     \n",
      "     FINDINGS:\n",
      "     \n",
      "     The patient is status post median sternotomy.  Scoliosis is noted.  The\n",
      "     patient is rotated.\n",
      "     \n",
      "     Note is made of mild cardiomegaly.  Note is made of rounded opacity overlying\n",
      "     the left hilum, which probably representing aspiration pneumonia; however,\n",
      "     left hilar mass cannot be totally excluded.  Mild CHF is noted.  No\n",
      "     pneumothorax is noted.  Nasogastric tube is coursing down below the left\n",
      "     hemidiaphragm.\n",
      "     \n",
      "     IMPRESSION:\n",
      "     \n",
      "     Cardiomegaly and mild CHF.  Nasogastric tube as described above.  Rounded\n",
      "     opacity overlying the left hilum, which probably representing aspiration\n",
      "     pneumonia; however, left hilar mass cannot be totally excluded.  Please\n",
      "     confirm resolution by repeated chest x-ray after treatment, and if the lesion\n",
      "     persists, please evaluate by CT scan.\n",
      "     \n",
      "     The information is communicated with the referring physician, [**Last Name (NamePattern4) 337**]. [**First Name8 (NamePattern2) 12565**] [**Last Name (NamePattern1) 12566**]\n",
      "     by telephone in the morning of [**2644-1-17**].\n",
      "                                                                           \n",
      "\n",
      "\n",
      "****************************************** \n",
      "\n",
      "\n",
      "\n",
      "\n",
      "\n",
      "     DATE: [**2644-1-19**] 12:09 PM\n",
      "     CHEST (PORTABLE AP)                                             Clip # [**Clip Number (Radiology) 12570**]\n",
      "     Reason: aspiration pna?                                             \n",
      "     Admitting Diagnosis: HEAD BLEED\n",
      "     ______________________________________________________________________________\n",
      "     UNDERLYING MEDICAL CONDITION:\n",
      "       [**Age over 90 **] year old woman with ICH and nmoe with increased secretions                  \n",
      "                                          \n",
      "     REASON FOR THIS EXAMINATION:\n",
      "      aspiration pna?                                                                 \n",
      "     ______________________________________________________________________________\n",
      "                                     FINAL REPORT\n",
      "     This is a portable semierect chest that is dated [**2644-1-19**] compared to\n",
      "     [**2644-1-17**].\n",
      "     \n",
      "     CLINICAL INDICATION:  Question aspiration pneumonia.\n",
      "     \n",
      "     Nasogastric tube terminates below the diaphragm.  The cardiac silhouette\n",
      "     appears enlarged, but stable.  There is a large mass-like opacity overlying\n",
      "     the left hilum, which has slightly lobulated margins.  This measures about 6\n",
      "     cm in greatest diameter.  Bilateral pleural effusions are noted, moderate on\n",
      "     the left and small on the right.  No pneumothorax is identified.\n",
      "     \n",
      "     As compared to the previous study, alveolar opacities adjacent to the\n",
      "     perihilar mass have resolved.\n",
      "     \n",
      "     IMPRESSION:\n",
      "     \n",
      "     Marked improvement in left perihilar alveolar process with residual\n",
      "     well-marginated mass-like opacity, concerning for neoplasm.  This could be\n",
      "     initially confirmed with PA and lateral chest radiographs, but CT may be\n",
      "     considered for more complete characterization.  Findings communicated to\n",
      "     clinical service caring for the patient.\n",
      "                                                                           \n",
      "\n",
      "\n",
      "****************************************** \n",
      "\n",
      "\n",
      "\n",
      "\n",
      "\n",
      "     DATE: [**3264-8-14**] 6:06 AM\n",
      "     CHEST (PORTABLE AP)                                             Clip # [**Clip Number (Radiology) 10697**]\n",
      "     Reason: r/o chf                                                     \n",
      "     ______________________________________________________________________________\n",
      "     UNDERLYING MEDICAL CONDITION:\n",
      "      68 year old man with sob, hx of chf                                             \n",
      "     REASON FOR THIS EXAMINATION:\n",
      "      r/o chf                                                                         \n",
      "     ______________________________________________________________________________\n",
      "                                     FINAL REPORT\n",
      "     INDICATION: Shortness of breath.\n",
      "     \n",
      "     COMPARISON: [**3264-1-29**].\n",
      "     \n",
      "     CHEST, AP PORTABLE RADIOGRAPH: There is stable moderate cardiomegaly in a\n",
      "     patient s/p CABG. There are multiple sternal wires which again appear\n",
      "     disrupted. There is mild to moderate pulmonary vascular redistribution and\n",
      "     hazy illdefined opacity obscuring the left cardiac silhouette. Tiny nodule in\n",
      "     the right upper lobe is unchanged. There is either a tiny nodule in the\n",
      "     lingula vs. vessel on end. The osseous structures are unremarkable.\n",
      "     \n",
      "     IMPRESSION: Stable cardiomegaly with pulmonary vascular redistribution and new\n",
      "     lingular opacity. This could either represent pneumonia vs. asymmetric\n",
      "     pulmonary edema.\n",
      "\n",
      "\n",
      "****************************************** \n",
      "\n",
      "\n",
      "\n",
      "\n",
      "\n",
      "     DATE: [**3264-8-14**] 10:57 AM\n",
      "     CHEST (PORTABLE AP)                                             Clip # [**Clip Number (Radiology) 10698**]\n",
      "     Reason: 68 yo M with CHF and possible pna, now with acute worsening \n",
      "     ______________________________________________________________________________\n",
      "     UNDERLYING MEDICAL CONDITION:\n",
      "      68 year old man with sob, hx of chf, cad s/p CABG\n",
      "     REASON FOR THIS EXAMINATION:\n",
      "      68 yo M with CHF and possible pna, now with acute worsening of SOB and\n",
      "      increasing O2 requirement, eval for worsening failure, new infiltrates or pulm\n",
      "      process\n",
      "     ______________________________________________________________________________\n",
      "                                     FINAL REPORT\n",
      "     PORTABLE CHEST:\n",
      "     \n",
      "     CLINICAL INDICATION:  Worsening shortness of breath and oxygen requirement.\n",
      "     \n",
      "     Comparison is made to prior chest radiographs of [**3264-1-29**] and [**8-14**], 2003.\n",
      "     \n",
      "     The heart is enlarged but stable in size.  There is persistent upper zone\n",
      "     vascular redistribution and perihilar haziness.  Additionally, there is an\n",
      "     area of increased opacity in the lingula which obscures the left heart border.\n",
      "     Note is made of disruption and malalignment of the sternal wires which is\n",
      "     unchanged dating back to [**3264-1-26**].\n",
      "     \n",
      "     IMPRESSION:\n",
      "     1)  Confluent lingular opacity concerning for pneumonia.  When the patient's\n",
      "     condition permits, more complete evaluation with standard PA and lateral chest\n",
      "     radiographs is recommended.\n",
      "     2)  Mild congestive heart failure pattern.\n",
      "     3)  Malalignment and disruption of multiple sternal wires which appears to be\n",
      "     chronic.  This may be due to a chronic sternal dehiscence.\n",
      "\n",
      "\n",
      "****************************************** \n",
      "\n",
      "\n",
      "\n",
      "\n",
      "\n",
      "     DATE: [**3264-8-15**] 9:26 AM\n",
      "     CT HEAD W/O CONTRAST                                            Clip # [**Clip Number (Radiology) 10699**]\n",
      "     Reason: Please r/o bleed - pt has been ruled in for MI and is on hep\n",
      "     Admitting Diagnosis: CONGESTIVE HEART FAILURE\n",
      "     ______________________________________________________________________________\n",
      "     UNDERLYING MEDICAL CONDITION:\n",
      "      68 year old man w/ CAD, s/p CABG, CHF, COPD, IDDM, presenting with NSTEMI.      \n",
      "     REASON FOR THIS EXAMINATION:\n",
      "      Please r/o bleed - pt has been ruled in for MI and is on heparin drip, but he \n",
      "      is experiencing some confusion and his Hct dropped from 33 --> 26.  Please do \n",
      "      STAT Head CT if possible, b/c we need to know if we should stop the heparin.\n",
      "     CONTRAINDICATIONS for IV CONTRAST:\n",
      "      h/o IDDM, borderline Cr\n",
      "     ______________________________________________________________________________\n",
      "                                     FINAL REPORT  (REVISED)\n",
      "     INDICATION:  Confusion and hematocrit drop while on Heparin.\n",
      "     \n",
      "     TECHNIQUE:  CT head without contrast.\n",
      "     \n",
      "     COMPARISONS: CT head of [**3264-2-17**].\n",
      "     \n",
      "     FINDINGS:  There is no intraparenchymal or extra axial hemorrhage. There is no\n",
      "     shift of normally midline structures or mass effect. There has been no\n",
      "     interval change in the appearance of the brain since the prior scan. There is\n",
      "     again demonstrated extensive atherosclerotic calcifications within the\n",
      "     cavernous portions of the internal carotid arteries bilaterally. The\n",
      "     surrounding osseous and visualized paranasal sinuses are unremarkable.\n",
      "     \n",
      "     IMPRESSION:  No intracranial hemorrhage or mass effect.\n",
      "     \n",
      "\n",
      "\n",
      "****************************************** \n",
      "\n",
      "\n",
      "\n",
      "\n",
      "\n",
      "     DATE: [**3264-8-15**] 3:49 PM\n",
      "     CT ABDOMEN W/O CONTRAST; CT PELVIS W/O CONTRAST                 Clip # [**Clip Number (Radiology) 10700**]\n",
      "     Reason: r/o bleed                                                   \n",
      "     Admitting Diagnosis: CONGESTIVE HEART FAILURE\n",
      "     ______________________________________________________________________________\n",
      "     UNDERLYING MEDICAL CONDITION:\n",
      "      68 year old man with CAD, s/p CABG, HTN, CHF, COPD here in hospital for cath on \n",
      "      Monday now with acute Hct drop from 33 - 26 - 24 overnight.\n",
      "     REASON FOR THIS EXAMINATION:\n",
      "      r/o bleed                                                                       \n",
      "     CONTRAINDICATIONS for IV CONTRAST:\n",
      "      h/o diabetes\n",
      "     ______________________________________________________________________________\n",
      "                                     FINAL REPORT\n",
      "     HISTORY:  68 y/o man status post CABG and acute drop in hematocrit.\n",
      "     \n",
      "     TECHNIQUE: Axial images of the abdomen and pelvis were obtained without IV\n",
      "     contrast.\n",
      "     \n",
      "     COMPARISONS: Not available.\n",
      "     \n",
      "     CT ABDOMEN W/O CONTRAST:  Lung bases demonstrate patchy opacity in the region\n",
      "     of the lingula. There is no pleural effusion. The liver appears unremarkable\n",
      "     without focal abnormality.  There are several small gallstones noted within\n",
      "     the gallbladder.  The pancreas, spleen, adrenal glands, and right kidney\n",
      "     appear unremarkable.  There is a small punctate calcification noted within the\n",
      "     mid pole of the left kidney which could represent a small renal stone. There\n",
      "     is no evidence of hydronephrosis.  Visualized large and small bowel loops\n",
      "     appear unremarkable. There is no significant mesenteric or retroperitoneal\n",
      "     lymphadenopathy.  There is no free air or free fluid within the abdomen.\n",
      "     \n",
      "     CT PELVIS W/O CONTRAST:  The prostate is slight enlarged. The urinary bladder\n",
      "     and rectum appear unremarkable.  There is no pelvic lymphadenopathy or pelvic\n",
      "     free fluid.\n",
      "     \n",
      "     BONE WINDOWS demonstrate no evidence of suspicious lytic or blastic lesions.\n",
      "     \n",
      "     IMPRESSION:\n",
      "     \n",
      "     1) No evidence of retroperitoneal hemorrhage.\n",
      "     2) Cholelithiasis without evidence of cholecystitis.\n",
      "     3) Lingular infiltrate and pneumonia should be considered in the appropriate\n",
      "     clinical setting.\n",
      "     4) There is a small subcentimeter stone within the left kidney without\n",
      "     evidence of hydronephrosis.\n",
      "\n",
      "\n",
      "****************************************** \n",
      "\n",
      "\n",
      "\n",
      "\n",
      "\n",
      "     DATE: [**3264-8-15**] 3:49 PM\n",
      "     CT ABDOMEN W/O CONTRAST; CT PELVIS W/O CONTRAST                 Clip # [**Clip Number (Radiology) 10700**]\n",
      "     Reason: r/o bleed                                                   \n",
      "     Admitting Diagnosis: CONGESTIVE HEART FAILURE\n",
      "     ______________________________________________________________________________\n",
      "     UNDERLYING MEDICAL CONDITION:\n",
      "      68 year old man with CAD, s/p CABG, HTN, CHF, COPD here in hospital for cath on \n",
      "      Monday now with acute Hct drop from 33 - 26 - 24 overnight.\n",
      "     REASON FOR THIS EXAMINATION:\n",
      "      r/o bleed                                                                       \n",
      "     CONTRAINDICATIONS for IV CONTRAST:\n",
      "      h/o diabetes\n",
      "     ______________________________________________________________________________\n",
      "                                     FINAL REPORT\n",
      "     HISTORY:  68 y/o man status post CABG and acute drop in hematocrit.\n",
      "     \n",
      "     TECHNIQUE: Axial images of the abdomen and pelvis were obtained without IV\n",
      "     contrast.\n",
      "     \n",
      "     COMPARISONS: Not available.\n",
      "     \n",
      "     CT ABDOMEN W/O CONTRAST:  Lung bases demonstrate patchy opacity in the region\n",
      "     of the lingula. There is no pleural effusion. The liver appears unremarkable\n",
      "     without focal abnormality.  There are several small gallstones noted within\n",
      "     the gallbladder.  The pancreas, spleen, adrenal glands, and right kidney\n",
      "     appear unremarkable.  There is a small punctate calcification noted within the\n",
      "     mid pole of the left kidney which could represent a small renal stone. There\n",
      "     is no evidence of hydronephrosis.  Visualized large and small bowel loops\n",
      "     appear unremarkable. There is no significant mesenteric or retroperitoneal\n",
      "     lymphadenopathy.  There is no free air or free fluid within the abdomen.\n",
      "     \n",
      "     CT PELVIS W/O CONTRAST:  The prostate is slight enlarged. The urinary bladder\n",
      "     and rectum appear unremarkable.  There is no pelvic lymphadenopathy or pelvic\n",
      "     free fluid.\n",
      "     \n",
      "     BONE WINDOWS demonstrate no evidence of suspicious lytic or blastic lesions.\n",
      "     \n",
      "     IMPRESSION:\n",
      "     \n",
      "     1) No evidence of retroperitoneal hemorrhage.\n",
      "     2) Cholelithiasis without evidence of cholecystitis.\n",
      "     3) Lingular infiltrate and pneumonia should be considered in the appropriate\n",
      "     clinical setting.\n",
      "     4) There is a small subcentimeter stone within the left kidney without\n",
      "     evidence of hydronephrosis.\n",
      "\n",
      "\n",
      "****************************************** \n",
      "\n",
      "\n"
     ]
    }
   ],
   "source": [
    "for i in range(10):\n",
    "    print(rad_data.iloc[i]['text'])\n",
    "    print(\"*\"*42,\"\\n\\n\")"
   ]
  },
  {
   "cell_type": "code",
   "execution_count": 12,
   "metadata": {
    "collapsed": true
   },
   "outputs": [],
   "source": [
    "date = re.compile(r\"\"\"\\d\"\"\")"
   ]
  },
  {
   "cell_type": "code",
   "execution_count": 13,
   "metadata": {},
   "outputs": [
    {
     "name": "stdout",
     "output_type": "stream",
     "text": [
      "\n",
      "\n",
      "\n",
      "     DATE: [**2644-1-17**] 10:53 AM\n",
      "     MR HEAD W & W/O CONTRAST; MR CONTRAST GADOLIN                   Clip # [**Clip Number (Radiology) 12569**]\n",
      "     Reason: R ICB and HX brain mets - eval - also with DWI for CVA Do MR\n",
      "      Contrast: MAGNEVIST Amt: 15\n",
      "     ______________________________________________________________________________\n",
      "     UNDERLYING MEDICAL CONDITION:\n",
      "      [**Age over 90 **] year old woman with lung CA- mets to brain                                   \n",
      "     REASON FOR THIS EXAMINATION:\n",
      "      R ICB and HX brain mets - eval - also with DWI for CVA Do MRI both with and \n",
      "      without contast please\n",
      "     ______________________________________________________________________________\n",
      "                                     FINAL REPORT\n",
      "     EXAMINATION:  MRI of the brain with and without gadolinium.\n",
      "     \n",
      "     INDICATION:  [**Age over 90 **] year old woman with lung cancer and right intracranial bleed\n",
      "     and history of brain metastases.  Please evaluate for acute infarct.\n",
      "     \n",
      "     TECHNIQUE:  Multiplanar T1 and T2-weighted images of the brain with gadolinium\n",
      "     according to standard departmental protocol.  No prior study for comparison.\n",
      "     \n",
      "     FINDINGS:  On diffusion-weighted images there is a small area of restricted\n",
      "     diffusion along the falx within the left occipitotemporal lobe.  It is also\n",
      "     bright on FLAIR-weighted images and may represent a subacute infarct. Clinical\n",
      "     correlation is recommended.  On gradient echo images there is a large area of\n",
      "     intraparenchymal hemorrhage within the right parietal lobe and left thalamus\n",
      "     which following administration of gadolinium reveals ring-enhancing lesions.\n",
      "     These are suspicious for hemorrhagic metastases given the patient's history.\n",
      "     Additional ring-enhancing lesions throughout the supra- and infratentorial\n",
      "     compartments are visualized.  There is a moderate amount of peritumoral edema\n",
      "     involving the right parietal lobe lesion in addition to a second right\n",
      "     parietal lesion along the falx high in the vertex.  The other areas of\n",
      "     metastases reveal a minimal amount of peritumoral edema.\n",
      "     \n",
      "\n",
      "\n"
     ]
    }
   ],
   "source": [
    "print(rad_data.iloc[0][\"text\"])"
   ]
  },
  {
   "cell_type": "code",
   "execution_count": 14,
   "metadata": {},
   "outputs": [
    {
     "name": "stdout",
     "output_type": "stream",
     "text": [
      "\n",
      "\n",
      "\n",
      "     DATE: [**2644-1-17**] 10:53 AM\n",
      "     MR HEAD W & W/O CONTRAST; MR CONTRAST GADOLIN                   Clip # [**Clip Number (Radiology) 12569**]\n",
      "     Reason: R ICB and HX brain mets - eval - also with DWI for CVA Do MR\n",
      "      Contrast: MAGNEVIST Amt: 15\n",
      "     ______________________________________________________________________________\n",
      "     UNDERLYING MEDICAL CONDITION:\n",
      "      [**Age over 90 **] year old woman with lung CA- mets to brain                                   \n",
      "     REASON FOR THIS EXAMINATION:\n",
      "      R ICB and HX brain mets - eval - also with DWI for CVA Do MRI both with and \n",
      "      without contast please\n",
      "     ______________________________________________________________________________\n",
      "                                     FINAL REPORT\n",
      "     EXAMINATION:  MRI of the brain with and without gadolinium.\n",
      "     \n",
      "     INDICATION:  [**Age over 90 **] year old woman with lung cancer and right intracranial bleed\n",
      "     and history of brain metastases.  Please evaluate for acute infarct.\n",
      "     \n",
      "     TECHNIQUE:  Multiplanar T1 and T2-weighted images of the brain with gadolinium\n",
      "     according to standard departmental protocol.  No prior study for comparison.\n",
      "     \n",
      "     FINDINGS:  On diffusion-weighted images there is a small area of restricted\n",
      "     diffusion along the falx within the left occipitotemporal lobe.  It is also\n",
      "     bright on FLAIR-weighted images and may represent a subacute infarct. Clinical\n",
      "     correlation is recommended.  On gradient echo images there is a large area of\n",
      "     intraparenchymal hemorrhage within the right parietal lobe and left thalamus\n",
      "     which following administration of gadolinium reveals ring-enhancing lesions.\n",
      "     These are suspicious for hemorrhagic metastases given the patient's history.\n",
      "     Additional ring-enhancing lesions throughout the supra- and infratentorial\n",
      "     compartments are visualized.  There is a moderate amount of peritumoral edema\n",
      "     involving the right parietal lobe lesion in addition to a second right\n",
      "     parietal lesion along the falx high in the vertex.  The other areas of\n",
      "     metastases reveal a minimal amount of peritumoral edema.\n",
      "     \n",
      "\n",
      "\n"
     ]
    }
   ],
   "source": [
    "print(rad_data.iloc[0][\"text\"])"
   ]
  },
  {
   "cell_type": "code",
   "execution_count": 15,
   "metadata": {
    "collapsed": true
   },
   "outputs": [],
   "source": [
    "digits = re.compile(r\"\"\"\\d\"\"\")"
   ]
  },
  {
   "cell_type": "code",
   "execution_count": 16,
   "metadata": {},
   "outputs": [
    {
     "name": "stdout",
     "output_type": "stream",
     "text": [
      "\n",
      "\n",
      "\n",
      "     DATE: [**dddd-d-dd**] dd:dd AM\n",
      "     MR HEAD W & W/O CONTRAST; MR CONTRAST GADOLIN                   Clip # [**Clip Number (Radiology) ddddd**]\n",
      "     Reason: R ICB and HX brain mets - eval - also with DWI for CVA Do MR\n",
      "      Contrast: MAGNEVIST Amt: dd\n",
      "     ______________________________________________________________________________\n",
      "     UNDERLYING MEDICAL CONDITION:\n",
      "      [**Age over dd **] year old woman with lung CA- mets to brain                                   \n",
      "     REASON FOR THIS EXAMINATION:\n",
      "      R ICB and HX brain mets - eval - also with DWI for CVA Do MRI both with and \n",
      "      without contast please\n",
      "     ______________________________________________________________________________\n",
      "                                     FINAL REPORT\n",
      "     EXAMINATION:  MRI of the brain with and without gadolinium.\n",
      "     \n",
      "     INDICATION:  [**Age over dd **] year old woman with lung cancer and right intracranial bleed\n",
      "     and history of brain metastases.  Please evaluate for acute infarct.\n",
      "     \n",
      "     TECHNIQUE:  Multiplanar Td and Td-weighted images of the brain with gadolinium\n",
      "     according to standard departmental protocol.  No prior study for comparison.\n",
      "     \n",
      "     FINDINGS:  On diffusion-weighted images there is a small area of restricted\n",
      "     diffusion along the falx within the left occipitotemporal lobe.  It is also\n",
      "     bright on FLAIR-weighted images and may represent a subacute infarct. Clinical\n",
      "     correlation is recommended.  On gradient echo images there is a large area of\n",
      "     intraparenchymal hemorrhage within the right parietal lobe and left thalamus\n",
      "     which following administration of gadolinium reveals ring-enhancing lesions.\n",
      "     These are suspicious for hemorrhagic metastases given the patient's history.\n",
      "     Additional ring-enhancing lesions throughout the supra- and infratentorial\n",
      "     compartments are visualized.  There is a moderate amount of peritumoral edema\n",
      "     involving the right parietal lobe lesion in addition to a second right\n",
      "     parietal lesion along the falx high in the vertex.  The other areas of\n",
      "     metastases reveal a minimal amount of peritumoral edema.\n",
      "     \n",
      "\n",
      "\n"
     ]
    }
   ],
   "source": [
    "print(digits.sub(\"d\", rad_data.iloc[0][\"text\"]))"
   ]
  },
  {
   "cell_type": "code",
   "execution_count": 17,
   "metadata": {
    "collapsed": true
   },
   "outputs": [],
   "source": [
    "rad_data[\"impression\"] = \\\n",
    "rad_data.apply(lambda row: digits.sub(\"d\", get_impression(row[\"text\"])).lower(), axis=1)"
   ]
  },
  {
   "cell_type": "code",
   "execution_count": 18,
   "metadata": {},
   "outputs": [
    {
     "data": {
      "text/html": [
       "<div>\n",
       "<table border=\"1\" class=\"dataframe\">\n",
       "  <thead>\n",
       "    <tr style=\"text-align: right;\">\n",
       "      <th></th>\n",
       "      <th>subject_id</th>\n",
       "      <th>hadm_id</th>\n",
       "      <th>text</th>\n",
       "      <th>impression</th>\n",
       "    </tr>\n",
       "  </thead>\n",
       "  <tbody>\n",
       "    <tr>\n",
       "      <th>0</th>\n",
       "      <td>56</td>\n",
       "      <td>28766.0</td>\n",
       "      <td>\\n\\n\\n     DATE: [**2644-1-17**] 10:53 AM\\n   ...</td>\n",
       "      <td>\\n\\n\\n     date: [**dddd-d-dd**] dd:dd am\\n   ...</td>\n",
       "    </tr>\n",
       "    <tr>\n",
       "      <th>1</th>\n",
       "      <td>56</td>\n",
       "      <td>28766.0</td>\n",
       "      <td>\\n\\n\\n     DATE: [**2644-1-17**] 10:53 AM\\n   ...</td>\n",
       "      <td>\\n\\n\\n     date: [**dddd-d-dd**] dd:dd am\\n   ...</td>\n",
       "    </tr>\n",
       "    <tr>\n",
       "      <th>2</th>\n",
       "      <td>56</td>\n",
       "      <td>28766.0</td>\n",
       "      <td>\\n\\n\\n     DATE: [**2644-1-17**] 10:43 AM\\n   ...</td>\n",
       "      <td>stable appearance of right parietal lobe and...</td>\n",
       "    </tr>\n",
       "    <tr>\n",
       "      <th>3</th>\n",
       "      <td>56</td>\n",
       "      <td>28766.0</td>\n",
       "      <td>\\n\\n\\n     DATE: [**2644-1-17**] 6:37 AM\\n    ...</td>\n",
       "      <td>\\n     \\n     cardiomegaly and mild chf.  naso...</td>\n",
       "    </tr>\n",
       "    <tr>\n",
       "      <th>4</th>\n",
       "      <td>56</td>\n",
       "      <td>28766.0</td>\n",
       "      <td>\\n\\n\\n     DATE: [**2644-1-19**] 12:09 PM\\n   ...</td>\n",
       "      <td>\\n     \\n     marked improvement in left perih...</td>\n",
       "    </tr>\n",
       "  </tbody>\n",
       "</table>\n",
       "</div>"
      ],
      "text/plain": [
       "   subject_id  hadm_id                                               text  \\\n",
       "0          56  28766.0  \\n\\n\\n     DATE: [**2644-1-17**] 10:53 AM\\n   ...   \n",
       "1          56  28766.0  \\n\\n\\n     DATE: [**2644-1-17**] 10:53 AM\\n   ...   \n",
       "2          56  28766.0  \\n\\n\\n     DATE: [**2644-1-17**] 10:43 AM\\n   ...   \n",
       "3          56  28766.0  \\n\\n\\n     DATE: [**2644-1-17**] 6:37 AM\\n    ...   \n",
       "4          56  28766.0  \\n\\n\\n     DATE: [**2644-1-19**] 12:09 PM\\n   ...   \n",
       "\n",
       "                                          impression  \n",
       "0  \\n\\n\\n     date: [**dddd-d-dd**] dd:dd am\\n   ...  \n",
       "1  \\n\\n\\n     date: [**dddd-d-dd**] dd:dd am\\n   ...  \n",
       "2    stable appearance of right parietal lobe and...  \n",
       "3  \\n     \\n     cardiomegaly and mild chf.  naso...  \n",
       "4  \\n     \\n     marked improvement in left perih...  "
      ]
     },
     "execution_count": 18,
     "metadata": {},
     "output_type": "execute_result"
    }
   ],
   "source": [
    "rad_data.head()"
   ]
  },
  {
   "cell_type": "code",
   "execution_count": 19,
   "metadata": {},
   "outputs": [
    {
     "name": "stdout",
     "output_type": "stream",
     "text": [
      "\n",
      "     d)  there is a somewhat well-circumscribed but subtle opacity immediately\n",
      "     adjacent to the external portion of the catheter overlying the right upper\n",
      "     lobe.  this may be related to the catheter itself but it is difficult to\n",
      "     exclude an underlying opacity in this region.  correlation with physical exam\n",
      "     recommended.\n",
      "\n",
      "\n"
     ]
    }
   ],
   "source": [
    "print(rad_data.iloc[20][\"impression\"])"
   ]
  },
  {
   "cell_type": "code",
   "execution_count": 36,
   "metadata": {},
   "outputs": [
    {
     "name": "stderr",
     "output_type": "stream",
     "text": [
      "/opt/conda/lib/python3.5/runpy.py:184: DeprecationWarning: Positional arguments to Doc.merge are deprecated. Instead, use the keyword arguments, for example tag=, lemma= or ent_type=.\n",
      "  \"__main__\", mod_spec)\n",
      "/opt/conda/lib/python3.5/runpy.py:184: DeprecationWarning: Positional arguments to Doc.merge are deprecated. Instead, use the keyword arguments, for example tag=, lemma= or ent_type=.\n",
      "  \"__main__\", mod_spec)\n",
      "/opt/conda/lib/python3.5/runpy.py:184: DeprecationWarning: Positional arguments to Doc.merge are deprecated. Instead, use the keyword arguments, for example tag=, lemma= or ent_type=.\n",
      "  \"__main__\", mod_spec)\n",
      "/opt/conda/lib/python3.5/runpy.py:184: DeprecationWarning: Positional arguments to Doc.merge are deprecated. Instead, use the keyword arguments, for example tag=, lemma= or ent_type=.\n",
      "  \"__main__\", mod_spec)\n"
     ]
    },
    {
     "data": {
      "text/html": [
       "<svg xmlns=\"http://www.w3.org/2000/svg\" xmlns:xlink=\"http://www.w3.org/1999/xlink\" id=\"0\" class=\"displacy\" width=\"1450\" height=\"487.0\" style=\"max-width: none; height: 487.0px; color: #000000; background: #ffffff; font-family: Arial\">\n",
       "<text class=\"displacy-token\" fill=\"currentColor\" text-anchor=\"middle\" y=\"397.0\">\n",
       "    <tspan class=\"displacy-word\" fill=\"currentColor\" x=\"50\">Rats</tspan>\n",
       "    <tspan class=\"displacy-tag\" dy=\"2em\" fill=\"currentColor\" x=\"50\">NNS</tspan>\n",
       "</text>\n",
       "\n",
       "<text class=\"displacy-token\" fill=\"currentColor\" text-anchor=\"middle\" y=\"397.0\">\n",
       "    <tspan class=\"displacy-word\" fill=\"currentColor\" x=\"225\">are</tspan>\n",
       "    <tspan class=\"displacy-tag\" dy=\"2em\" fill=\"currentColor\" x=\"225\">VBP</tspan>\n",
       "</text>\n",
       "\n",
       "<text class=\"displacy-token\" fill=\"currentColor\" text-anchor=\"middle\" y=\"397.0\">\n",
       "    <tspan class=\"displacy-word\" fill=\"currentColor\" x=\"400\">various</tspan>\n",
       "    <tspan class=\"displacy-tag\" dy=\"2em\" fill=\"currentColor\" x=\"400\">JJ</tspan>\n",
       "</text>\n",
       "\n",
       "<text class=\"displacy-token\" fill=\"currentColor\" text-anchor=\"middle\" y=\"397.0\">\n",
       "    <tspan class=\"displacy-word\" fill=\"currentColor\" x=\"575\">medium-</tspan>\n",
       "    <tspan class=\"displacy-tag\" dy=\"2em\" fill=\"currentColor\" x=\"575\">NN</tspan>\n",
       "</text>\n",
       "\n",
       "<text class=\"displacy-token\" fill=\"currentColor\" text-anchor=\"middle\" y=\"397.0\">\n",
       "    <tspan class=\"displacy-word\" fill=\"currentColor\" x=\"750\">sized,</tspan>\n",
       "    <tspan class=\"displacy-tag\" dy=\"2em\" fill=\"currentColor\" x=\"750\">JJ</tspan>\n",
       "</text>\n",
       "\n",
       "<text class=\"displacy-token\" fill=\"currentColor\" text-anchor=\"middle\" y=\"397.0\">\n",
       "    <tspan class=\"displacy-word\" fill=\"currentColor\" x=\"925\">long-</tspan>\n",
       "    <tspan class=\"displacy-tag\" dy=\"2em\" fill=\"currentColor\" x=\"925\">RB</tspan>\n",
       "</text>\n",
       "\n",
       "<text class=\"displacy-token\" fill=\"currentColor\" text-anchor=\"middle\" y=\"397.0\">\n",
       "    <tspan class=\"displacy-word\" fill=\"currentColor\" x=\"1100\">tailed</tspan>\n",
       "    <tspan class=\"displacy-tag\" dy=\"2em\" fill=\"currentColor\" x=\"1100\">VBN</tspan>\n",
       "</text>\n",
       "\n",
       "<text class=\"displacy-token\" fill=\"currentColor\" text-anchor=\"middle\" y=\"397.0\">\n",
       "    <tspan class=\"displacy-word\" fill=\"currentColor\" x=\"1275\">rodents.</tspan>\n",
       "    <tspan class=\"displacy-tag\" dy=\"2em\" fill=\"currentColor\" x=\"1275\">NNS</tspan>\n",
       "</text>\n",
       "\n",
       "<g class=\"displacy-arrow\">\n",
       "    <path class=\"displacy-arc\" id=\"arrow-0-0\" stroke-width=\"2px\" d=\"M70,352.0 C70,264.5 210.0,264.5 210.0,352.0\" fill=\"none\" stroke=\"currentColor\"/>\n",
       "    <text dy=\"1.25em\" style=\"font-size: 0.8em; letter-spacing: 1px\">\n",
       "        <textPath xlink:href=\"#arrow-0-0\" class=\"displacy-label\" startOffset=\"50%\" fill=\"currentColor\" text-anchor=\"middle\">nsubj</textPath>\n",
       "    </text>\n",
       "    <path class=\"displacy-arrowhead\" d=\"M70,354.0 L62,342.0 78,342.0\" fill=\"currentColor\"/>\n",
       "</g>\n",
       "\n",
       "<g class=\"displacy-arrow\">\n",
       "    <path class=\"displacy-arc\" id=\"arrow-0-1\" stroke-width=\"2px\" d=\"M420,352.0 C420,89.5 1270.0,89.5 1270.0,352.0\" fill=\"none\" stroke=\"currentColor\"/>\n",
       "    <text dy=\"1.25em\" style=\"font-size: 0.8em; letter-spacing: 1px\">\n",
       "        <textPath xlink:href=\"#arrow-0-1\" class=\"displacy-label\" startOffset=\"50%\" fill=\"currentColor\" text-anchor=\"middle\">amod</textPath>\n",
       "    </text>\n",
       "    <path class=\"displacy-arrowhead\" d=\"M420,354.0 L412,342.0 428,342.0\" fill=\"currentColor\"/>\n",
       "</g>\n",
       "\n",
       "<g class=\"displacy-arrow\">\n",
       "    <path class=\"displacy-arc\" id=\"arrow-0-2\" stroke-width=\"2px\" d=\"M595,352.0 C595,264.5 735.0,264.5 735.0,352.0\" fill=\"none\" stroke=\"currentColor\"/>\n",
       "    <text dy=\"1.25em\" style=\"font-size: 0.8em; letter-spacing: 1px\">\n",
       "        <textPath xlink:href=\"#arrow-0-2\" class=\"displacy-label\" startOffset=\"50%\" fill=\"currentColor\" text-anchor=\"middle\">amod</textPath>\n",
       "    </text>\n",
       "    <path class=\"displacy-arrowhead\" d=\"M595,354.0 L587,342.0 603,342.0\" fill=\"currentColor\"/>\n",
       "</g>\n",
       "\n",
       "<g class=\"displacy-arrow\">\n",
       "    <path class=\"displacy-arc\" id=\"arrow-0-3\" stroke-width=\"2px\" d=\"M770,352.0 C770,177.0 1265.0,177.0 1265.0,352.0\" fill=\"none\" stroke=\"currentColor\"/>\n",
       "    <text dy=\"1.25em\" style=\"font-size: 0.8em; letter-spacing: 1px\">\n",
       "        <textPath xlink:href=\"#arrow-0-3\" class=\"displacy-label\" startOffset=\"50%\" fill=\"currentColor\" text-anchor=\"middle\">amod</textPath>\n",
       "    </text>\n",
       "    <path class=\"displacy-arrowhead\" d=\"M770,354.0 L762,342.0 778,342.0\" fill=\"currentColor\"/>\n",
       "</g>\n",
       "\n",
       "<g class=\"displacy-arrow\">\n",
       "    <path class=\"displacy-arc\" id=\"arrow-0-4\" stroke-width=\"2px\" d=\"M945,352.0 C945,264.5 1085.0,264.5 1085.0,352.0\" fill=\"none\" stroke=\"currentColor\"/>\n",
       "    <text dy=\"1.25em\" style=\"font-size: 0.8em; letter-spacing: 1px\">\n",
       "        <textPath xlink:href=\"#arrow-0-4\" class=\"displacy-label\" startOffset=\"50%\" fill=\"currentColor\" text-anchor=\"middle\">advmod</textPath>\n",
       "    </text>\n",
       "    <path class=\"displacy-arrowhead\" d=\"M945,354.0 L937,342.0 953,342.0\" fill=\"currentColor\"/>\n",
       "</g>\n",
       "\n",
       "<g class=\"displacy-arrow\">\n",
       "    <path class=\"displacy-arc\" id=\"arrow-0-5\" stroke-width=\"2px\" d=\"M1120,352.0 C1120,264.5 1260.0,264.5 1260.0,352.0\" fill=\"none\" stroke=\"currentColor\"/>\n",
       "    <text dy=\"1.25em\" style=\"font-size: 0.8em; letter-spacing: 1px\">\n",
       "        <textPath xlink:href=\"#arrow-0-5\" class=\"displacy-label\" startOffset=\"50%\" fill=\"currentColor\" text-anchor=\"middle\">amod</textPath>\n",
       "    </text>\n",
       "    <path class=\"displacy-arrowhead\" d=\"M1120,354.0 L1112,342.0 1128,342.0\" fill=\"currentColor\"/>\n",
       "</g>\n",
       "\n",
       "<g class=\"displacy-arrow\">\n",
       "    <path class=\"displacy-arc\" id=\"arrow-0-6\" stroke-width=\"2px\" d=\"M245,352.0 C245,2.0 1275.0,2.0 1275.0,352.0\" fill=\"none\" stroke=\"currentColor\"/>\n",
       "    <text dy=\"1.25em\" style=\"font-size: 0.8em; letter-spacing: 1px\">\n",
       "        <textPath xlink:href=\"#arrow-0-6\" class=\"displacy-label\" startOffset=\"50%\" fill=\"currentColor\" text-anchor=\"middle\">attr</textPath>\n",
       "    </text>\n",
       "    <path class=\"displacy-arrowhead\" d=\"M1275.0,354.0 L1283.0,342.0 1267.0,342.0\" fill=\"currentColor\"/>\n",
       "</g>\n",
       "</svg>"
      ],
      "text/plain": [
       "<IPython.core.display.HTML object>"
      ]
     },
     "metadata": {},
     "output_type": "display_data"
    }
   ],
   "source": [
    "import spacy\n",
    "from spacy import displacy\n",
    "\n",
    "doc = nlp(u'Rats are various medium-sized, long-tailed rodents.')\n",
    "displacy.render(doc, style='dep', jupyter=True)"
   ]
  },
  {
   "cell_type": "code",
   "execution_count": 73,
   "metadata": {},
   "outputs": [
    {
     "data": {
      "text/html": [
       "<div class=\"entities\" style=\"line-height: 2.5\"> decrease in the size of the left-sided pleural effusion. et tube\n",
       "     tip approximately d cm above the carina. persistent retrocardiac opacity\n",
       "     representing atelectasis vs. consolidation.\n",
       "\n",
       "</div>"
      ],
      "text/plain": [
       "<IPython.core.display.HTML object>"
      ]
     },
     "metadata": {},
     "output_type": "display_data"
    }
   ],
   "source": [
    "doc2 = nlp(rad_data.iloc[3987][\"impression\"])\n",
    "displacy.render(doc2, style='ent', jupyter=True)"
   ]
  },
  {
   "cell_type": "code",
   "execution_count": 76,
   "metadata": {},
   "outputs": [
    {
     "name": "stdout",
     "output_type": "stream",
     "text": [
      " decrease in the size of the left-sided pleural effusion.\n",
      " decrease in the size of the left-sided pleural effusion. \n",
      "------------------------------------------\n",
      "et tube\n",
      "     tip approximately d cm above the carina.\n",
      "et tube\n",
      "     tip approximately d cm above the carina. \n",
      "------------------------------------------\n",
      "persistent retrocardiac opacity\n",
      "     representing atelectasis vs. consolidation.\n",
      "\n",
      "\n",
      "persistent retrocardiac opacity\n",
      "     representing atelectasis vs. consolidation.\n",
      "\n",
      "\n",
      "------------------------------------------\n"
     ]
    }
   ],
   "source": [
    "for s in doc2.sents:\n",
    "    #print(\" \".join(s))\n",
    "    #print(s.words)\n",
    "    print(s)\n",
    "    print(s.string)\n",
    "    print(\"-\"*42)"
   ]
  },
  {
   "cell_type": "code",
   "execution_count": 78,
   "metadata": {},
   "outputs": [
    {
     "data": {
      "text/plain": [
       "'persistent retrocardiac opacity\\n     representing atelectasis vs. consolidation.'"
      ]
     },
     "execution_count": 78,
     "metadata": {},
     "output_type": "execute_result"
    }
   ],
   "source": [
    "s.lower_"
   ]
  },
  {
   "cell_type": "code",
   "execution_count": 68,
   "metadata": {
    "collapsed": true
   },
   "outputs": [],
   "source": [
    "rclean = re.compile(r\"\"\"\\W+\"\"\")"
   ]
  },
  {
   "cell_type": "code",
   "execution_count": 69,
   "metadata": {},
   "outputs": [
    {
     "data": {
      "text/plain": [
       "'correlation with physical exam recommended '"
      ]
     },
     "execution_count": 69,
     "metadata": {},
     "output_type": "execute_result"
    }
   ],
   "source": [
    "rclean.sub(\" \",s.string)"
   ]
  },
  {
   "cell_type": "code",
   "execution_count": 48,
   "metadata": {},
   "outputs": [
    {
     "name": "stdout",
     "output_type": "stream",
     "text": [
      "\n",
      "     ->\n",
      "     \n",
      "d->have\n",
      ")->)\n",
      " -> \n",
      "there->there\n",
      "is->be\n",
      "a->a\n",
      "somewhat->somewhat\n",
      "well->good\n",
      "-->-\n",
      "circumscribed->circumscribe\n",
      "but->but\n",
      "subtle->subtle\n",
      "opacity->opacity\n",
      "immediately->immediately\n",
      "\n",
      "     ->\n",
      "     \n",
      "adjacent->adjacent\n",
      "to->to\n",
      "the->the\n",
      "external->external\n",
      "portion->portion\n",
      "of->of\n",
      "the->the\n",
      "catheter->catheter\n",
      "overlying->overlie\n",
      "the->the\n",
      "right->right\n",
      "upper->upper\n",
      "\n",
      "     ->\n",
      "     \n",
      "lobe->lobe\n",
      ".->.\n",
      " -> \n"
     ]
    }
   ],
   "source": [
    "for word in s:\n",
    "    print(\"%s->%s\"%(word, word.lemma_))"
   ]
  },
  {
   "cell_type": "code",
   "execution_count": 28,
   "metadata": {},
   "outputs": [
    {
     "name": "stdout",
     "output_type": "stream",
     "text": [
      " d)  there is a somewhat well-circumscribed but subtle opacity immediately\n",
      "     adjacent to the external portion of the catheter overlying the right upper\n",
      "     lobe.  this may be related to the catheter itself but it is difficult to\n",
      "     exclude an underlying opacity in this region.  correlation with physical exam\n",
      "     recommended.\n"
     ]
    }
   ],
   "source": [
    "print(\"\"\" d)  there is a somewhat well-circumscribed but subtle opacity immediately\n",
    "     adjacent to the external portion of the catheter overlying the right upper\n",
    "     lobe.  this may be related to the catheter itself but it is difficult to\n",
    "     exclude an underlying opacity in this region.  correlation with physical exam\n",
    "     recommended.\"\"\")"
   ]
  },
  {
   "cell_type": "code",
   "execution_count": 30,
   "metadata": {},
   "outputs": [
    {
     "name": "stdout",
     "output_type": "stream",
     "text": [
      "\r\n",
      "\u001b[93m    Compatibility error\u001b[0m\r\n",
      "    No compatible model found for 'custom_ner_model' (spaCy v2.0.2).\r\n",
      "\r\n"
     ]
    }
   ],
   "source": [
    "!python -m spacy download custom_ner_model"
   ]
  },
  {
   "cell_type": "code",
   "execution_count": 32,
   "metadata": {},
   "outputs": [
    {
     "data": {
      "text/html": [
       "<div class=\"entities\" style=\"line-height: 2.5\">But \n",
       "<mark class=\"entity\" style=\"background: #7aecec; padding: 0.45em 0.6em; margin: 0 0.25em; line-height: 1; border-radius: 0.35em; box-decoration-break: clone; -webkit-box-decoration-break: clone\">\n",
       "    Google\n",
       "    <span style=\"font-size: 0.8em; font-weight: bold; line-height: 1; border-radius: 0.35em; text-transform: uppercase; vertical-align: middle; margin-left: 0.5rem\">ORG</span>\n",
       "</mark>\n",
       " is starting from behind. The company made a late push\n",
       "<mark class=\"entity\" style=\"background: #feca74; padding: 0.45em 0.6em; margin: 0 0.25em; line-height: 1; border-radius: 0.35em; box-decoration-break: clone; -webkit-box-decoration-break: clone\">\n",
       "    \n",
       "\n",
       "    <span style=\"font-size: 0.8em; font-weight: bold; line-height: 1; border-radius: 0.35em; text-transform: uppercase; vertical-align: middle; margin-left: 0.5rem\">GPE</span>\n",
       "</mark>\n",
       "into hardware, and \n",
       "<mark class=\"entity\" style=\"background: #7aecec; padding: 0.45em 0.6em; margin: 0 0.25em; line-height: 1; border-radius: 0.35em; box-decoration-break: clone; -webkit-box-decoration-break: clone\">\n",
       "    Apple\n",
       "    <span style=\"font-size: 0.8em; font-weight: bold; line-height: 1; border-radius: 0.35em; text-transform: uppercase; vertical-align: middle; margin-left: 0.5rem\">ORG</span>\n",
       "</mark>\n",
       "’s Siri, available on \n",
       "<mark class=\"entity\" style=\"background: #bfeeb7; padding: 0.45em 0.6em; margin: 0 0.25em; line-height: 1; border-radius: 0.35em; box-decoration-break: clone; -webkit-box-decoration-break: clone\">\n",
       "    iPhones\n",
       "    <span style=\"font-size: 0.8em; font-weight: bold; line-height: 1; border-radius: 0.35em; text-transform: uppercase; vertical-align: middle; margin-left: 0.5rem\">PRODUCT</span>\n",
       "</mark>\n",
       ", and \n",
       "<mark class=\"entity\" style=\"background: #7aecec; padding: 0.45em 0.6em; margin: 0 0.25em; line-height: 1; border-radius: 0.35em; box-decoration-break: clone; -webkit-box-decoration-break: clone\">\n",
       "    Amazon\n",
       "    <span style=\"font-size: 0.8em; font-weight: bold; line-height: 1; border-radius: 0.35em; text-transform: uppercase; vertical-align: middle; margin-left: 0.5rem\">ORG</span>\n",
       "</mark>\n",
       "’s \n",
       "<mark class=\"entity\" style=\"background: #7aecec; padding: 0.45em 0.6em; margin: 0 0.25em; line-height: 1; border-radius: 0.35em; box-decoration-break: clone; -webkit-box-decoration-break: clone\">\n",
       "    Alexa\n",
       "\n",
       "    <span style=\"font-size: 0.8em; font-weight: bold; line-height: 1; border-radius: 0.35em; text-transform: uppercase; vertical-align: middle; margin-left: 0.5rem\">ORG</span>\n",
       "</mark>\n",
       "software, which runs on its \n",
       "<mark class=\"entity\" style=\"background: #feca74; padding: 0.45em 0.6em; margin: 0 0.25em; line-height: 1; border-radius: 0.35em; box-decoration-break: clone; -webkit-box-decoration-break: clone\">\n",
       "    Echo\n",
       "    <span style=\"font-size: 0.8em; font-weight: bold; line-height: 1; border-radius: 0.35em; text-transform: uppercase; vertical-align: middle; margin-left: 0.5rem\">GPE</span>\n",
       "</mark>\n",
       " and \n",
       "<mark class=\"entity\" style=\"background: #7aecec; padding: 0.45em 0.6em; margin: 0 0.25em; line-height: 1; border-radius: 0.35em; box-decoration-break: clone; -webkit-box-decoration-break: clone\">\n",
       "    Dot\n",
       "    <span style=\"font-size: 0.8em; font-weight: bold; line-height: 1; border-radius: 0.35em; text-transform: uppercase; vertical-align: middle; margin-left: 0.5rem\">ORG</span>\n",
       "</mark>\n",
       " devices, have clear leads in\n",
       "<mark class=\"entity\" style=\"background: #feca74; padding: 0.45em 0.6em; margin: 0 0.25em; line-height: 1; border-radius: 0.35em; box-decoration-break: clone; -webkit-box-decoration-break: clone\">\n",
       "    \n",
       "\n",
       "    <span style=\"font-size: 0.8em; font-weight: bold; line-height: 1; border-radius: 0.35em; text-transform: uppercase; vertical-align: middle; margin-left: 0.5rem\">GPE</span>\n",
       "</mark>\n",
       "consumer adoption.</div>"
      ],
      "text/plain": [
       "<IPython.core.display.HTML object>"
      ]
     },
     "metadata": {},
     "output_type": "display_data"
    }
   ],
   "source": [
    "text = \"\"\"But Google is starting from behind. The company made a late push\n",
    "into hardware, and Apple’s Siri, available on iPhones, and Amazon’s Alexa\n",
    "software, which runs on its Echo and Dot devices, have clear leads in\n",
    "consumer adoption.\"\"\"\n",
    "\n",
    "nlp = spacy.load('en')\n",
    "doc = nlp(text)\n",
    "displacy.render(doc, style='ent', jupyter=True)"
   ]
  },
  {
   "cell_type": "code",
   "execution_count": 35,
   "metadata": {},
   "outputs": [
    {
     "data": {
      "text/html": [
       "<div class=\"entities\" style=\"line-height: 2.5\">\n",
       "<mark class=\"entity\" style=\"background: #c887fb; padding: 0.45em 0.6em; margin: 0 0.25em; line-height: 1; border-radius: 0.35em; box-decoration-break: clone; -webkit-box-decoration-break: clone\">\n",
       "     \n",
       "    <span style=\"font-size: 0.8em; font-weight: bold; line-height: 1; border-radius: 0.35em; text-transform: uppercase; vertical-align: middle; margin-left: 0.5rem\">NORP</span>\n",
       "</mark>\n",
       "air fluid levels in the sphenoid sinus and in the mastoid air\n",
       "<mark class=\"entity\" style=\"background: #aa9cfc; padding: 0.45em 0.6em; margin: 0 0.25em; line-height: 1; border-radius: 0.35em; box-decoration-break: clone; -webkit-box-decoration-break: clone\">\n",
       "    \n",
       "     \n",
       "    <span style=\"font-size: 0.8em; font-weight: bold; line-height: 1; border-radius: 0.35em; text-transform: uppercase; vertical-align: middle; margin-left: 0.5rem\">PERSON</span>\n",
       "</mark>\n",
       "cells.  this could be consistent with sinusitis/mastoiditis. \n",
       "<mark class=\"entity\" style=\"background: #c887fb; padding: 0.45em 0.6em; margin: 0 0.25em; line-height: 1; border-radius: 0.35em; box-decoration-break: clone; -webkit-box-decoration-break: clone\">\n",
       "     \n",
       "    <span style=\"font-size: 0.8em; font-weight: bold; line-height: 1; border-radius: 0.35em; text-transform: uppercase; vertical-align: middle; margin-left: 0.5rem\">NORP</span>\n",
       "</mark>\n",
       "clinical\n",
       "<mark class=\"entity\" style=\"background: #aa9cfc; padding: 0.45em 0.6em; margin: 0 0.25em; line-height: 1; border-radius: 0.35em; box-decoration-break: clone; -webkit-box-decoration-break: clone\">\n",
       "    \n",
       "     \n",
       "    <span style=\"font-size: 0.8em; font-weight: bold; line-height: 1; border-radius: 0.35em; text-transform: uppercase; vertical-align: middle; margin-left: 0.5rem\">PERSON</span>\n",
       "</mark>\n",
       "correlation recommended.\n",
       "\n",
       "</div>"
      ],
      "text/plain": [
       "<IPython.core.display.HTML object>"
      ]
     },
     "metadata": {},
     "output_type": "display_data"
    }
   ],
   "source": [
    "text = \"\"\"But Google is starting from behind. The company made a late push\n",
    "into hardware, and Apple’s Siri, available on iPhones, and Amazon’s Alexa\n",
    "software, which runs on its Echo and Dot devices, have clear leads in\n",
    "consumer adoption.\"\"\"\n",
    "\n",
    "nlp = spacy.load('en')\n",
    "doc = nlp(rad_data.iloc[2000][\"impression\"])\n",
    "displacy.render(doc, style='ent', jupyter=True)"
   ]
  },
  {
   "cell_type": "markdown",
   "metadata": {},
   "source": [
    "### How many unique words occur in the corpus?\n",
    "\n",
    "#### Hint\n",
    "\n",
    "1. Use TextBlob\n",
    "1. Put all the reports into a single string\n",
    "\n",
    "#### I got 8658"
   ]
  },
  {
   "cell_type": "code",
   "execution_count": null,
   "metadata": {
    "collapsed": true
   },
   "outputs": [],
   "source": [
    "#\" \".join(rad_data[\"impression\"])"
   ]
  },
  {
   "cell_type": "code",
   "execution_count": null,
   "metadata": {},
   "outputs": [],
   "source": [
    "unique_impression_words = set(TextBlob(\" \".join([report for report in rad_data[\"impression\"]])).words)\n",
    "len(unique_impression_words)\n",
    "\n"
   ]
  },
  {
   "cell_type": "code",
   "execution_count": null,
   "metadata": {
    "collapsed": true
   },
   "outputs": [],
   "source": [
    "#unique_impression_words"
   ]
  },
  {
   "cell_type": "code",
   "execution_count": null,
   "metadata": {},
   "outputs": [],
   "source": [
    "from gensim.parsing.preprocessing import STOPWORDS\n",
    "STOPWORDS"
   ]
  },
  {
   "cell_type": "code",
   "execution_count": null,
   "metadata": {
    "collapsed": true
   },
   "outputs": [],
   "source": [
    "my_stop_words = frozenset([\"a\", \"am\", \"an\", \"and\", \"are\", \"as\", \"at\", \"be\", \"for\", \"is\", \"the\", \"is\", \"of\", \"which\", ])"
   ]
  },
  {
   "cell_type": "markdown",
   "metadata": {},
   "source": [
    "## Create a single string with all the reports\n",
    "\n",
    "#### Hints, etc.\n",
    "* Use List Comprehension\n",
    "* Use string joins\n",
    "* Iterate over the rows of the data frame"
   ]
  },
  {
   "cell_type": "code",
   "execution_count": null,
   "metadata": {
    "collapsed": true
   },
   "outputs": [],
   "source": []
  },
  {
   "cell_type": "markdown",
   "metadata": {},
   "source": [
    "### Define a vector space for the radiology corpus\n",
    "\n",
    "#### Hints\n",
    "\n",
    "1. How would you build a corpus from words only occuring more than N times?"
   ]
  },
  {
   "cell_type": "markdown",
   "metadata": {},
   "source": [
    "### Create a new column named `\"impression no stops\"` where [stop words](https://en.wikipedia.org/wiki/Stop_words) have been dropped from the impression\n",
    "\n",
    "* The gensim package has stop words defined (``from gensim.parsing.preprocessing import STOPWORDS``\n",
    "\n",
    "#### Hints\n",
    "1. Do you agree with dropping all the stop words?\n",
    "1. How could we create a new stopwords frozen set absent the terms we wan't to keep (double negative?)\n",
    "1. You could use a regular expressions substitution or token the report first and operate on the list of words."
   ]
  },
  {
   "cell_type": "code",
   "execution_count": null,
   "metadata": {
    "collapsed": true
   },
   "outputs": [],
   "source": [
    "rad_data[\"impression no stops\"] = \\\n",
    "rad_data.apply(lambda row: \" \".join([word for word in row[\"impression\"].split() \\\n",
    "                            if word not in my_stop_words]), axis=1)"
   ]
  },
  {
   "cell_type": "code",
   "execution_count": null,
   "metadata": {},
   "outputs": [],
   "source": [
    "rad_data.iloc[0][\"impression\"]"
   ]
  },
  {
   "cell_type": "code",
   "execution_count": null,
   "metadata": {},
   "outputs": [],
   "source": [
    "rad_data.iloc[0][\"impression no stops\"]"
   ]
  },
  {
   "cell_type": "code",
   "execution_count": null,
   "metadata": {
    "collapsed": true
   },
   "outputs": [],
   "source": [
    "unique_impression_words = set(TextBlob(\" \".join(rad_data[\"impression no stops\"])).words)\n"
   ]
  },
  {
   "cell_type": "code",
   "execution_count": null,
   "metadata": {
    "collapsed": true
   },
   "outputs": [],
   "source": [
    "word_map = dict(zip(unique_impression_words,range(len(unique_impression_words))))"
   ]
  },
  {
   "cell_type": "code",
   "execution_count": null,
   "metadata": {},
   "outputs": [],
   "source": [
    "len(word_map)"
   ]
  },
  {
   "cell_type": "code",
   "execution_count": null,
   "metadata": {},
   "outputs": [],
   "source": [
    "word_map"
   ]
  },
  {
   "cell_type": "code",
   "execution_count": null,
   "metadata": {
    "collapsed": true
   },
   "outputs": [],
   "source": []
  }
 ],
 "metadata": {
  "kernelspec": {
   "display_name": "Python 3",
   "language": "python",
   "name": "python3"
  },
  "language_info": {
   "codemirror_mode": {
    "name": "ipython",
    "version": 3
   },
   "file_extension": ".py",
   "mimetype": "text/x-python",
   "name": "python",
   "nbconvert_exporter": "python",
   "pygments_lexer": "ipython3",
   "version": "3.5.2"
  }
 },
 "nbformat": 4,
 "nbformat_minor": 1
}
