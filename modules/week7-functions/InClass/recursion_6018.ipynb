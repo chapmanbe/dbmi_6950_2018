{
 "cells": [
  {
   "cell_type": "markdown",
   "metadata": {},
   "source": [
    "## Solving the problem using recursion\n",
    "\n",
    "Recursive functions are functions that call themselves. This is usually done instead of a implementing a loop. Recursion is not usually a great idea in Python, but sometimes it is a good choice and it is good to be aware of.\n",
    "\n",
    "In designing a recursive function we need to recognize what are our **base cases**: these are the cases where our recursion will stop"
   ]
  },
  {
   "cell_type": "markdown",
   "metadata": {},
   "source": [
    "### [factorial](https://en.wikipedia.org/wiki/Factorial): A famous recursive function\n",
    "\n",
    "The factorial function (usually depicted as $n!$), is the product of all non-negative integers less than $n$. $0!$ is defined to be 1 ($0! := 1$).\n",
    "\n",
    "* The domain of the factorial function is?\n",
    "* The range of the factorial function is?\n",
    "\n",
    "\n",
    "#### Before we start, what are our base cases?"
   ]
  },
  {
   "cell_type": "code",
   "execution_count": null,
   "metadata": {},
   "outputs": [],
   "source": [
    "def factorial(n):\n",
    "    pass"
   ]
  },
  {
   "cell_type": "markdown",
   "metadata": {},
   "source": [
    "### [Fibonacci Numbers](https://en.wikipedia.org/wiki/Fibonacci_number): Famous recursive numbers\n",
    "\n",
    "\\begin{eqnarray}\n",
    "F_n = F_{n-1} + F_{n-2}\\\\\n",
    "F_1 = 1\\\\\n",
    "F_2 = 1 \\\\\n",
    "n \\ge 1\n",
    "\\end{eqnarray}\n",
    "\n"
   ]
  },
  {
   "cell_type": "code",
   "execution_count": null,
   "metadata": {},
   "outputs": [],
   "source": [
    "def fibonacci(n):\n",
    "    pass"
   ]
  },
  {
   "cell_type": "code",
   "execution_count": null,
   "metadata": {},
   "outputs": [],
   "source": [
    "[fibonacci(n) for n in range(10)]"
   ]
  },
  {
   "cell_type": "code",
   "execution_count": null,
   "metadata": {},
   "outputs": [],
   "source": [
    "factorial(2)"
   ]
  },
  {
   "cell_type": "markdown",
   "metadata": {},
   "source": [
    "## Modify `get_pos_integer_take2` to get a positive integer from the user using recursion\n",
    "\n",
    "#### What is our base case?"
   ]
  },
  {
   "cell_type": "code",
   "execution_count": null,
   "metadata": {
    "deletable": false,
    "nbgrader": {
     "checksum": "10a62a413587993175db1a62879adeba",
     "grade": false,
     "grade_id": "cell-c44acabc93ef7176",
     "locked": false,
     "schema_version": 1,
     "solution": true
    }
   },
   "outputs": [],
   "source": [
    "def get_pos_integer_take2(prompt=\"Enter a positive integer\"):\n",
    "    # YOUR CODE HERE\n",
    "    raise NotImplementedError()"
   ]
  },
  {
   "cell_type": "code",
   "execution_count": null,
   "metadata": {},
   "outputs": [],
   "source": [
    "get_pos_integer_take2()"
   ]
  },
  {
   "cell_type": "code",
   "execution_count": null,
   "metadata": {
    "internals": {
     "slide_helper": "subslide_end"
    },
    "slide_helper": "slide_end",
    "slideshow": {
     "slide_type": "-"
    }
   },
   "outputs": [],
   "source": []
  },
  {
   "cell_type": "code",
   "execution_count": null,
   "metadata": {
    "nbgrader": {
     "checksum": "cfbda11c13523f60d0464be9b4729ebd",
     "grade": false,
     "grade_id": "cell-bf1f36045aa3e197",
     "locked": true,
     "schema_version": 1,
     "solution": false
    }
   },
   "outputs": [],
   "source": [
    "import random\n",
    "import seaborn as sns\n",
    "from nose.tools import assert_equal, assert_true, assert_false, assert_almost_equal"
   ]
  },
  {
   "cell_type": "markdown",
   "metadata": {
    "nbgrader": {
     "checksum": "b27cb09fce27292d87abae7d3216eddc",
     "grade": false,
     "grade_id": "cell-9dc49741f974413c",
     "locked": true,
     "schema_version": 1,
     "solution": false
    }
   },
   "source": [
    "Use recursion to write a function `double_every_other` that takes as an argument a sequence of numbers (list or tuple) and returns a tuple with ever other element (starting from the second element) doubled (e.g. [0,1,2,3,4,5]->[0,2,2,6,4,10]).\n",
    "\n",
    "**Hints:** \n",
    "\n",
    "There will be two base cases:\n",
    "\n",
    "1. When the list is empty\n",
    "2. When the list has only one element in it\n",
    "\n",
    "Use slicing and concatenation."
   ]
  },
  {
   "cell_type": "code",
   "execution_count": null,
   "metadata": {
    "nbgrader": {
     "checksum": "9bfde203765e517a354be6a14dbb8c29",
     "grade": false,
     "grade_id": "cell-0e669bc20815a9f7",
     "locked": false,
     "schema_version": 1,
     "solution": true
    }
   },
   "outputs": [],
   "source": [
    "def double_every_other(xs):\n",
    "   pass"
   ]
  },
  {
   "cell_type": "code",
   "execution_count": null,
   "metadata": {},
   "outputs": [],
   "source": [
    "double_every_other([1,2,3,4,5,6])"
   ]
  },
  {
   "cell_type": "code",
   "execution_count": null,
   "metadata": {
    "nbgrader": {
     "checksum": "01d4ea2dbf8869655b523390acd7f8c7",
     "grade": true,
     "grade_id": "cell-798764d5e1611e8d",
     "locked": true,
     "points": 0,
     "schema_version": 1,
     "solution": false
    }
   },
   "outputs": [],
   "source": [
    "assert_equal(double_every_other([1,2,3,4]), [1, 4, 3, 8])\n",
    "assert_equal(double_every_other([7,3,1,5,0,2,-3,4]), [7, 6, 1, 10, 0, 4, -3, 8])"
   ]
  },
  {
   "cell_type": "markdown",
   "metadata": {
    "nbgrader": {
     "checksum": "2bd59f51d880f360d94ce6b496629d10",
     "grade": false,
     "grade_id": "cell-01b79029f56166cd",
     "locked": true,
     "schema_version": 1,
     "solution": false
    }
   },
   "source": [
    "The factorial function (usually denoted with a $!$ as in $5!$) is defined as \n",
    "\\begin{equation}\n",
    "n! = 1\\times 2 \\times \\cdots \\times (n-1) \\times n\n",
    "\\end{equation}\n",
    "\n",
    "Defining $0!=1$, we can express the factorial function recursively\n",
    "\n",
    "$$\n",
    " n! = \n",
    "  \\begin{cases} \n",
    "   0 & \\text{if } n=0 \\\\\n",
    "   n\\cdot(n-1)!       & \\text{otherwise }\n",
    "  \\end{cases}\n",
    "$$"
   ]
  },
  {
   "cell_type": "code",
   "execution_count": null,
   "metadata": {
    "nbgrader": {
     "checksum": "d90e92e15aa047fac9976394ce32eef1",
     "grade": false,
     "grade_id": "cell-f1f6960566eac179",
     "locked": false,
     "schema_version": 1,
     "solution": true
    }
   },
   "outputs": [],
   "source": [
    "# YOUR CODE HERE\n",
    "d"
   ]
  },
  {
   "cell_type": "code",
   "execution_count": null,
   "metadata": {
    "nbgrader": {
     "checksum": "a8f90d20c2df25b7b0c6f2709ef7faa3",
     "grade": true,
     "grade_id": "cell-3647176a91d5d012",
     "locked": true,
     "points": 0,
     "schema_version": 1,
     "solution": false
    }
   },
   "outputs": [],
   "source": [
    "assert_equal(factorial(5), 120)\n",
    "assert_equal(factorial(23),25852016738884976640000)"
   ]
  },
  {
   "cell_type": "markdown",
   "metadata": {
    "nbgrader": {
     "checksum": "73dbfcf0689ca366f0930a18104ac2e8",
     "grade": false,
     "grade_id": "cell-8e97e763523f1917",
     "locked": true,
     "schema_version": 1,
     "solution": false
    }
   },
   "source": [
    "Write a function `product` that computes the product of all the values in a list."
   ]
  },
  {
   "cell_type": "code",
   "execution_count": null,
   "metadata": {
    "nbgrader": {
     "checksum": "692fafd8d12b978b0a6be7d5d3b6916c",
     "grade": false,
     "grade_id": "cell-0aa434ef4196b47f",
     "locked": false,
     "schema_version": 1,
     "solution": true
    }
   },
   "outputs": [],
   "source": [
    "def product(xs):\n",
    "    pass"
   ]
  },
  {
   "cell_type": "code",
   "execution_count": null,
   "metadata": {
    "nbgrader": {
     "checksum": "f860c4bb52f6eed1ce93b29306e24740",
     "grade": true,
     "grade_id": "cell-a286bd335ae68929",
     "locked": true,
     "points": 0,
     "schema_version": 1,
     "solution": false
    }
   },
   "outputs": [],
   "source": [
    "assert_equal(product([1,2,3]),6)\n",
    "assert_equal(product([1,1,3,4,3,2]),72)"
   ]
  },
  {
   "cell_type": "markdown",
   "metadata": {
    "nbgrader": {
     "checksum": "9bbb24ae14286439d2da9a9e90ae38ff",
     "grade": false,
     "grade_id": "cell-cd799da19f2e69f7",
     "locked": true,
     "schema_version": 1,
     "solution": false
    }
   },
   "source": [
    "Write a function `drop` that takes a list and and an integer N and returns a list with the first N elements dropped."
   ]
  },
  {
   "cell_type": "code",
   "execution_count": null,
   "metadata": {
    "nbgrader": {
     "checksum": "df576ab874fd8d660c65baed3e3fb79b",
     "grade": false,
     "grade_id": "cell-7aad3abe169ad963",
     "locked": false,
     "schema_version": 1,
     "solution": true
    }
   },
   "outputs": [],
   "source": [
    "# YOUR CODE HERE\n",
    "raise NotImplementedError()"
   ]
  },
  {
   "cell_type": "code",
   "execution_count": null,
   "metadata": {
    "nbgrader": {
     "checksum": "ceb05e7c3a66a2ff6cc6df535f539df8",
     "grade": true,
     "grade_id": "cell-b4f14c2b0ac62696",
     "locked": true,
     "points": 0,
     "schema_version": 1,
     "solution": false
    }
   },
   "outputs": [],
   "source": [
    "assert_equal(drop([1,2,3,4,5],2), [3,4,5])\n",
    "assert_equal(drop([5,4,3,2,1],0), [5, 4, 3, 2, 1])\n",
    "assert_equal(drop([1,2,3,4,5],9),[])"
   ]
  },
  {
   "cell_type": "markdown",
   "metadata": {
    "nbgrader": {
     "checksum": "1be8f662e2945fda7186c5f942fd817a",
     "grade": false,
     "grade_id": "cell-b790930f49c5ec25",
     "locked": true,
     "schema_version": 1,
     "solution": false
    }
   },
   "source": [
    "Write a function `zipper` that takes two sequences, `xs` and `ys`, and returns a sequence of the corresponding pairs ---[(x[0],ys[0]), (xs[1],ys[1]),...]---from `xs` and `ys` until one of the sequences is exhausted."
   ]
  },
  {
   "cell_type": "code",
   "execution_count": null,
   "metadata": {
    "nbgrader": {
     "checksum": "de3e702a0a9e2852d058ab647f584207",
     "grade": false,
     "grade_id": "cell-2f8dd69e7c628c8a",
     "locked": false,
     "schema_version": 1,
     "solution": true
    }
   },
   "outputs": [],
   "source": [
    "# YOUR CODE HERE\n",
    "raise NotImplementedError()"
   ]
  },
  {
   "cell_type": "code",
   "execution_count": null,
   "metadata": {
    "nbgrader": {
     "checksum": "2be3cb7e76c9850fd4b10ff42410e037",
     "grade": true,
     "grade_id": "cell-e579ddbca10a7fa1",
     "locked": true,
     "points": 0,
     "schema_version": 1,
     "solution": false
    }
   },
   "outputs": [],
   "source": [
    "assert_equal(zipper([1,2,3],[1,2]), [(1, 1), (2, 2)])\n",
    "assert_equal(zipper([1,2],[1,2,3]), [(1, 1), (2, 2)])\n",
    "assert_equal(zipper([1,2,3],[]),[])\n",
    "assert_equal(zipper([1,2,3,4],[4,3,2,1]), [(1, 4), (2, 3), (3, 2), (4, 1)])\n",
    "assert_equal(zipper(\"Brian\", \"Chapman\"), [('B', 'C'), ('r', 'h'), ('i', 'a'), ('a', 'p'), ('n', 'm')])"
   ]
  },
  {
   "cell_type": "code",
   "execution_count": null,
   "metadata": {},
   "outputs": [],
   "source": []
  }
 ],
 "metadata": {
  "celltoolbar": "Edit Metadata",
  "kernelspec": {
   "display_name": "Python [default]",
   "language": "python",
   "name": "python3"
  },
  "language_info": {
   "codemirror_mode": {
    "name": "ipython",
    "version": 3
   },
   "file_extension": ".py",
   "mimetype": "text/x-python",
   "name": "python",
   "nbconvert_exporter": "python",
   "pygments_lexer": "ipython3",
   "version": "3.6.4"
  }
 },
 "nbformat": 4,
 "nbformat_minor": 1
}
