{
 "cells": [
  {
   "cell_type": "markdown",
   "metadata": {
    "internals": {
     "slide_helper": "subslide_end",
     "slide_type": "subslide"
    },
    "slide_helper": "slide_end",
    "slideshow": {
     "slide_type": "slide"
    }
   },
   "source": [
    "# Week 2: Practicing with Functions\n",
    "\n"
   ]
  },
  {
   "cell_type": "code",
   "execution_count": null,
   "metadata": {
    "nbgrader": {
     "checksum": "20237d7072264a022f7e65a5171291ac",
     "grade": false,
     "grade_id": "cell-d9a47efa79347e83",
     "locked": true,
     "schema_version": 1,
     "solution": false
    }
   },
   "outputs": [],
   "source": [
    "from nose.tools import (assert_true, \n",
    "                        assert_equal, \n",
    "                        assert_false, \n",
    "                        assert_almost_equal, \n",
    "                        assert_raises)\n",
    "import math\n",
    "import pandas as pd\n",
    "import seaborn as sns\n",
    "import copy\n",
    "import matplotlib.pyplot as plt\n",
    "import numpy as np\n",
    "import numbers\n"
   ]
  },
  {
   "cell_type": "markdown",
   "metadata": {},
   "source": [
    "## Class-wide Problem\n",
    "### Led by Yucheng\n",
    "\n",
    "\n",
    "A really old way is known as the [Sieve of Eratosthenes](https://en.wikipedia.org/wiki/Sieve_of_Eratosthenes)\n",
    "\n",
    "Write a function `sieve_prime` that finds primes numbers less than `N` using teh Sieve of Eratosthenes.\n",
    "\n",
    "The approach here is to create an array of numbers and cross out any number that is a multiple of a prime. As we loop through the array, any number that is not crossed out is a prime.\n",
    "\n",
    "1. Allocate an array of integers (`nums`) between 2 and N+1\n",
    "1. Start with i=0\n",
    "1. Look at the ith number in the array (`nums[i]`), if it is not crossed out it is a prime.\n",
    "    1. Add `nums[i]` to our list of primes\n",
    "    1. Cross out all the multiples of `nums[i]`\n",
    "    1. Increment i"
   ]
  },
  {
   "cell_type": "code",
   "execution_count": null,
   "metadata": {},
   "outputs": [],
   "source": [
    "def sieve_prime(N):\n",
    "    pass"
   ]
  },
  {
   "cell_type": "code",
   "execution_count": null,
   "metadata": {},
   "outputs": [],
   "source": [
    "assert_equal(sieve_prime(10), [2, 3, 5, 7])\n",
    "assert_equal(sieve_prime(20), [2, 3, 5, 7, 11, 13, 17, 19])"
   ]
  },
  {
   "cell_type": "markdown",
   "metadata": {},
   "source": [
    "#### Exercise\n",
    "\n",
    "Write a function `inrange` that takes a positional argument `val` that is a numeric value and a keyword argument `range` that is a two-tuple of lower and upper values defining a range. The function should return `True` if val lies within the range (inclusive) and `False` otherwise."
   ]
  },
  {
   "cell_type": "code",
   "execution_count": null,
   "metadata": {},
   "outputs": [],
   "source": [
    "def inrange(val, range=[0,1]):\n",
    "    pass"
   ]
  },
  {
   "cell_type": "code",
   "execution_count": null,
   "metadata": {},
   "outputs": [],
   "source": [
    "assert_true(inrange(0.5))\n",
    "assert_true(inrange(-math.pi, range=(-6,math.sqrt(2))))\n",
    "assert_false(inrange(2))\n",
    "assert_true(inrange(0))\n",
    "assert_true(inrange(2, (0.5,2)))"
   ]
  },
  {
   "cell_type": "markdown",
   "metadata": {},
   "source": [
    "### Let's write some alternative functions for finding primes\n",
    "\n",
    "## Exercise:\n",
    "\n",
    "Write a function `isprime` to check whether a number is prime. \n",
    "\n",
    "The function should take an integer as input and return a Boolean.\n",
    "\n",
    "* Use `if` statements to test for the special cases \n",
    "    * $n<2$\n",
    "    * $n=2$\n",
    "    * $n\\mod2=0$ \n",
    "* Use a for loop and the range function \n",
    "    * $\\text{range}(3,1+\\sqrt{n}, 2)$\n",
    "    * Why $3$? \n",
    "    * Why $2$?"
   ]
  },
  {
   "cell_type": "code",
   "execution_count": null,
   "metadata": {},
   "outputs": [],
   "source": [
    "def isprime(n):\n",
    "    pass"
   ]
  },
  {
   "cell_type": "code",
   "execution_count": null,
   "metadata": {
    "nbgrader": {
     "checksum": "e58c045365466c34686a1ce03f1f6089",
     "grade": true,
     "grade_id": "cell-d7f0ae1402b7514b",
     "locked": true,
     "points": 0,
     "schema_version": 1,
     "solution": false
    }
   },
   "outputs": [],
   "source": [
    "assert_true(isprime(47))\n",
    "assert_false(isprime(49))"
   ]
  },
  {
   "cell_type": "markdown",
   "metadata": {},
   "source": [
    "## Exercise\n",
    "\n",
    "Write a function `get_value`. `get_value` takes as arguments:\n",
    "\n",
    "1. A positional argument `converter` that is a function that takes as input a string and returns the desired value\n",
    "1. A positional argument `tester` that is a function that takes as input a value and returns `True` or `False` depending on whether a desired condition is satisfied.\n",
    "1. A keyword argument `prompt` that is the prompt to use with `input`.\n",
    "\n",
    "Test the function with `get_number` and `isprime`."
   ]
  },
  {
   "cell_type": "code",
   "execution_count": null,
   "metadata": {},
   "outputs": [],
   "source": [
    "def get_number(x):\n",
    "    try:\n",
    "        return int(x)\n",
    "    except ValueError:\n",
    "        try:\n",
    "            return float(x)\n",
    "        except:\n",
    "                return complex(x)\n"
   ]
  },
  {
   "cell_type": "code",
   "execution_count": null,
   "metadata": {},
   "outputs": [],
   "source": [
    "def get_value(converter, tester, prompt=\"Enter a prime number\"):\n",
    "    pass\n",
    "        \n",
    "    "
   ]
  },
  {
   "cell_type": "code",
   "execution_count": null,
   "metadata": {},
   "outputs": [],
   "source": [
    "get_value(get_number, isprime)"
   ]
  },
  {
   "cell_type": "markdown",
   "metadata": {
    "nbgrader": {
     "checksum": "4ef7fb92a497e522ddf13ad8c3972e0f",
     "grade": false,
     "grade_id": "cell-65973a5510970aab",
     "locked": true,
     "schema_version": 1,
     "solution": false
    }
   },
   "source": [
    "## Exercise\n",
    "\n",
    "Write a function ``addthings`` that takes a variable number of arguments.\n",
    "\n",
    "If no arguments are provided, return `None`.\n",
    "\n",
    "If the first argument is a number, return the sum of all the arguments.\n",
    "\n",
    "If the first argument is a string, return a concatenation of all the arguments. \n",
    "\n",
    "**Hint:** Everything in Python can be converted to a string.\n",
    "\n",
    "**Note:** This is a problematic function because what is its domain and what is its range?"
   ]
  },
  {
   "cell_type": "code",
   "execution_count": null,
   "metadata": {
    "internals": {
     "slide_helper": "subslide_end"
    },
    "nbgrader": {
     "checksum": "b61cfa0375771e616de9aa4f905d370c",
     "grade": false,
     "grade_id": "cell-e7d16b80330ab587",
     "locked": false,
     "schema_version": 1,
     "solution": true
    },
    "slide_helper": "slide_end",
    "slideshow": {
     "slide_type": "-"
    }
   },
   "outputs": [],
   "source": [
    "def addthings(*xs):\n",
    "    pass"
   ]
  },
  {
   "cell_type": "code",
   "execution_count": null,
   "metadata": {
    "nbgrader": {
     "checksum": "bc1d162c6aaa50718cb1a1c70eee2b8c",
     "grade": true,
     "grade_id": "cell-28f6eb94cc2d3bbc",
     "locked": true,
     "points": 0,
     "schema_version": 1,
     "solution": false
    }
   },
   "outputs": [],
   "source": [
    "assert_equal(addthings(\"Brian\",2,\"Wendy\"),\"Brian2Wendy\")\n",
    "assert_equal(addthings(1),1)\n",
    "assert_equal(addthings(1,2,3),6)\n",
    "assert_equal(addthings(),None)\n"
   ]
  },
  {
   "cell_type": "markdown",
   "metadata": {
    "nbgrader": {
     "checksum": "ab9310d53e8381ccaaf92690373874b3",
     "grade": false,
     "grade_id": "cell-1c5ee197b9cb2f7e",
     "locked": true,
     "schema_version": 1,
     "solution": false
    }
   },
   "source": [
    "### Variable number of keyword arguments\n",
    "\n",
    "Write a function `get_numeric_items` that takes a variable number of keyword arguments and returns a dictionary of all the arguments with numeric values.\n",
    "\n",
    "In order to test whether the item is numeric, use the `numbers` library and the `isinstance function`.\n",
    "\n",
    "```Python\n",
    "import numbers\n",
    "isinstance(2.0,numbers.Number)\n",
    "True\n",
    "\n",
    "isinstance(5,numbers.Number)\n",
    "True\n",
    "\n",
    "isinstance(\"five\",numbers.Number)\n",
    "False\n",
    "```"
   ]
  },
  {
   "cell_type": "code",
   "execution_count": null,
   "metadata": {},
   "outputs": [],
   "source": [
    "import numbers\n",
    "isinstance(\"five\",numbers.Number)"
   ]
  },
  {
   "cell_type": "code",
   "execution_count": null,
   "metadata": {},
   "outputs": [],
   "source": [
    "def get_numeric_items(**kwargs):\n",
    "    pass"
   ]
  },
  {
   "cell_type": "code",
   "execution_count": null,
   "metadata": {},
   "outputs": [],
   "source": [
    "assert_equal(get_numeric_items(falling_object=\"Brian\", acceleration=9.8, \n",
    "                  acc_units=\"m/s2\",\n",
    "                  mass=88.4, mass_units=\"kg\",\n",
    "                  v0=25, v0_units=\"mph\"), \n",
    "{'acceleration': 9.8, 'mass': 88.4, 'v0': 25})\n",
    "\n",
    "assert_equal(get_numeric_items(bowie=\"david\",\n",
    "                               townsend=\"pete\",\n",
    "                               young=\"neil\"), \n",
    "             {})\n",
    "\n",
    "assert_equal(get_numeric_items(one=1, two=2, three=3), \n",
    "            {'three': 3, 'two': 2, 'one': 1 })"
   ]
  },
  {
   "cell_type": "markdown",
   "metadata": {
    "nbgrader": {
     "checksum": "e90da069e816e7f40ed5c1f26cbc3d85",
     "grade": false,
     "grade_id": "cell-508d26509e1cb74a",
     "locked": true,
     "schema_version": 1,
     "solution": false
    }
   },
   "source": [
    "## Exercise\n",
    "\n",
    "Write a function `pop` that takes as a positional argument a list (`mylist`) and as a keyword argument index (`index=-1`) and returns two values:\n",
    "\n",
    "1. The value located at `mylist[index]`\n",
    "1. A list equal to `mylist` with the value at `index` removed.\n",
    "1. `mylist` remains **unmodified**\n",
    "\n",
    "That is, we are implementing a function that recreates the `pop` method of a list but do not modify `mylist`\n",
    "\n",
    "**Hint:** You could use slicing or you could make a copy of `mylist` inside `pop` (either with slicing or with the [copy](https://docs.python.org/3/library/copy.html) module."
   ]
  },
  {
   "cell_type": "code",
   "execution_count": null,
   "metadata": {
    "nbgrader": {
     "checksum": "a389cec361d0757e0be23da9fd59b0d0",
     "grade": false,
     "grade_id": "cell-c2718d63cb4d7f12",
     "locked": false,
     "schema_version": 1,
     "solution": true
    }
   },
   "outputs": [],
   "source": [
    "# Two approaches\n",
    "\n",
    "def pop(mylist, index=-1):\n",
    "    pass"
   ]
  },
  {
   "cell_type": "code",
   "execution_count": null,
   "metadata": {
    "nbgrader": {
     "checksum": "b3938d72bf76a9930a31169a524efa6d",
     "grade": true,
     "grade_id": "cell-d628d4056e1d600a",
     "locked": true,
     "points": 0,
     "schema_version": 1,
     "solution": false
    }
   },
   "outputs": [],
   "source": [
    "test_list = [1,2,3,4,5]\n",
    "assert_equal(pop(test_list), (5,[1,2,3,4]))\n",
    "assert_equal(pop(test_list, index=2), (3,[1, 2, 4, 5]))\n",
    "assert_equal(pop(test_list, index=0), (1,[ 2, 3, 4, 5]))\n",
    "assert_equal(pop(test_list, index=-2), (4,[1, 2, 3, 5]))\n",
    "\n",
    "assert_equal(test_list, [1,2,3,4,5])\n"
   ]
  },
  {
   "cell_type": "markdown",
   "metadata": {
    "nbgrader": {
     "checksum": "14e32295be1e3acb85de5b68a3a0a319",
     "grade": false,
     "grade_id": "cell-79a09f326e5a2c84",
     "locked": true,
     "schema_version": 1,
     "solution": false
    }
   },
   "source": [
    "## [Gilbreath's Conjecture](https://en.wikipedia.org/wiki/Gilbreath%27s_conjecture)\n",
    "\n",
    ">Gilbreath's conjecture is a conjecture in number theory regarding the sequences generated by applying the forward difference operator to consecutive prime numbers and leaving the results unsigned, and then repeating this process on consecutive terms in the resulting sequence, and so forth. The statement is named after mathematician Norman L. Gilbreath who, in 1958, presented it to the mathematical community after observing the pattern by chance while doing arithmetic on a napkin. In 1878, eighty years before Gilbreath's discovery, François Proth had, however, published the same observations along with an attempted proof, which was later shown to be false."
   ]
  },
  {
   "cell_type": "markdown",
   "metadata": {
    "nbgrader": {
     "checksum": "249d7a0f67d92c07ed2eb5a3666a258f",
     "grade": false,
     "grade_id": "cell-9d0e778eff9b39a5",
     "locked": true,
     "schema_version": 1,
     "solution": false
    }
   },
   "source": [
    "#### Write a function ``seq_diff`` that computes the absolute value of the forward difference of a sequence of primes\n",
    "\n",
    "**Hints:**\n",
    "1. The `math` library defines an `fabs` which returns a floating point value for the absolute value.\n",
    "1. Use the `range` function.\n",
    "    1. What do you want for the starting value for `range`?\n",
    "    1. What do you want for the ending value for `range`?\n",
    "1. How will the length of the output differ from the length of the input?"
   ]
  },
  {
   "cell_type": "code",
   "execution_count": null,
   "metadata": {
    "nbgrader": {
     "checksum": "1be1d2406f74c996f25ee9ec630e7f10",
     "grade": false,
     "grade_id": "cell-db3bfe56e4780385",
     "locked": false,
     "schema_version": 1,
     "solution": true
    }
   },
   "outputs": [],
   "source": [
    "def seq_diff(seq):\n",
    "    pass\n"
   ]
  },
  {
   "cell_type": "code",
   "execution_count": null,
   "metadata": {
    "nbgrader": {
     "checksum": "530a89558331ebc541f620a99a9e5886",
     "grade": true,
     "grade_id": "cell-686cd642a626638c",
     "locked": true,
     "points": 0,
     "schema_version": 1,
     "solution": false
    }
   },
   "outputs": [],
   "source": [
    "seq = [2, 3, 5, 7, 11, 13, 17, 19, 23, 29, 31, 37, 41, 43, 47]\n",
    "assert_equal(seq_diff(seq), [1, 2, 2, 4, 2, 4, 2, 4, 6, 2, 6, 4, 2, 4])\n",
    "assert_equal(seq_diff(seq_diff(seq)), [1, 0, 2, 2, 2, 2, 2, 2, 4, 4, 2, 2, 2])"
   ]
  },
  {
   "cell_type": "code",
   "execution_count": null,
   "metadata": {},
   "outputs": [],
   "source": [
    "seq = [n for n in range(1,50) if isprime(n)]\n",
    "print(seq)\n",
    "while True:\n",
    "    if not seq:\n",
    "        break   \n",
    "    seq = seq_diff(seq)\n",
    "    print(seq)"
   ]
  },
  {
   "cell_type": "markdown",
   "metadata": {},
   "source": [
    "## Playing with Large Measured Data: [Benford's Law](https://en.wikipedia.org/wiki/Benford%27s_law)"
   ]
  },
  {
   "cell_type": "markdown",
   "metadata": {},
   "source": [
    "### We are going to use census data"
   ]
  },
  {
   "cell_type": "code",
   "execution_count": null,
   "metadata": {},
   "outputs": [],
   "source": [
    "pd.read_csv(\"PEP_2016_PEPANNRSIP.US12A_with_ann.csv\", skiprows=1)"
   ]
  },
  {
   "cell_type": "code",
   "execution_count": null,
   "metadata": {
    "nbgrader": {
     "checksum": "74384156722745b52174cff11f9568f7",
     "grade": false,
     "grade_id": "cell-0d02257f2238db8c",
     "locked": true,
     "schema_version": 1,
     "solution": false
    }
   },
   "outputs": [],
   "source": [
    "city_populations = list(pd.read_csv(\"PEP_2016_PEPANNRSIP.US12A_with_ann.csv\", skiprows=1)[\"Population Estimate (as of July 1) - 2016\"])"
   ]
  },
  {
   "cell_type": "markdown",
   "metadata": {
    "nbgrader": {
     "checksum": "d004144db902d92b13328d5cf1162f3c",
     "grade": false,
     "grade_id": "cell-07c5bbe1f9ad4691",
     "locked": true,
     "schema_version": 1,
     "solution": false
    }
   },
   "source": [
    "## `city_populations` is a list of integers that are the populations of USA cities"
   ]
  },
  {
   "cell_type": "markdown",
   "metadata": {},
   "source": [
    "### Create a list of all the populations greater than or equal to 100000\n",
    "\n",
    "Use list comprehension."
   ]
  },
  {
   "cell_type": "code",
   "execution_count": null,
   "metadata": {
    "nbgrader": {
     "checksum": "ef8d6f5de1daa60a2cd8be4d35fe2378",
     "grade": false,
     "grade_id": "cell-0324eead7bbbaddc",
     "locked": false,
     "schema_version": 1,
     "solution": true
    }
   },
   "outputs": [],
   "source": [
    "city_populations = None \n"
   ]
  },
  {
   "cell_type": "markdown",
   "metadata": {},
   "source": [
    "#### Write a function `first_digits`\n",
    "\n",
    "`first_digits` takes a list of numbers and returns a list of integers corresponding to the first digit (left most, most significant) for each of those numbers."
   ]
  },
  {
   "cell_type": "code",
   "execution_count": null,
   "metadata": {},
   "outputs": [],
   "source": [
    "def first_digits(xs):\n",
    "    pass"
   ]
  },
  {
   "cell_type": "markdown",
   "metadata": {
    "nbgrader": {
     "checksum": "9094cd345ed80d17398a43c3a60c7622",
     "grade": false,
     "grade_id": "cell-900d1a820e031e2a",
     "locked": true,
     "schema_version": 1,
     "solution": false
    }
   },
   "source": [
    "### Create a list named `city_populations_first_digits` consisting of the first digit in each number converted to an int"
   ]
  },
  {
   "cell_type": "code",
   "execution_count": null,
   "metadata": {
    "nbgrader": {
     "checksum": "3822ce518ecce9ffd4fe96fbc41ba082",
     "grade": false,
     "grade_id": "cell-007a102e12198872",
     "locked": false,
     "schema_version": 1,
     "solution": true
    }
   },
   "outputs": [],
   "source": [
    "### BEGIN SOLUTION\n",
    "city_populations_first_digits = first_digits(city_populations)\n",
    "### END SOLUTION"
   ]
  },
  {
   "cell_type": "code",
   "execution_count": null,
   "metadata": {},
   "outputs": [],
   "source": [
    "from collections import Counter"
   ]
  },
  {
   "cell_type": "markdown",
   "metadata": {},
   "source": [
    "### What does the distribution of first digits look like?\n",
    "\n",
    "#### It should look like this\n",
    "![digit distribution](./population_digits.png)"
   ]
  },
  {
   "cell_type": "code",
   "execution_count": null,
   "metadata": {
    "nbgrader": {
     "checksum": "d37623d2f2ce028bb89f89ac11334a2d",
     "grade": false,
     "grade_id": "cell-a3c7b5cfb8cdee04",
     "locked": true,
     "schema_version": 1,
     "solution": false
    }
   },
   "outputs": [],
   "source": [
    "sns.distplot(city_populations_first_digits, kde=False)\n",
    "plt.savefig(\"population_digits.png\")"
   ]
  },
  {
   "cell_type": "markdown",
   "metadata": {},
   "source": [
    "## How does this differ from randomly generated numbers?\n",
    "\n",
    "### We have to duplicate all our prior code...\n",
    "### ...Unless we put all the functionality in functions.\n",
    "\n",
    "The resulting distribution should look something this:\n",
    "\n",
    "![random digits](./random_digits.png)"
   ]
  },
  {
   "cell_type": "code",
   "execution_count": null,
   "metadata": {
    "nbgrader": {
     "checksum": "5fb907d8dbf77baf0562b9c56a314e6b",
     "grade": false,
     "grade_id": "cell-b90c49f4f13506ec",
     "locked": true,
     "schema_version": 1,
     "solution": false
    }
   },
   "outputs": [],
   "source": [
    "random_numbers = np.random.random_integers(99999, 10000000, len(city_populations_strings))"
   ]
  },
  {
   "cell_type": "code",
   "execution_count": null,
   "metadata": {},
   "outputs": [],
   "source": [
    "sns.distplot(first_digits(random_numbers), kde=False)\n"
   ]
  },
  {
   "cell_type": "code",
   "execution_count": null,
   "metadata": {},
   "outputs": [],
   "source": []
  },
  {
   "cell_type": "markdown",
   "metadata": {},
   "source": [
    "#### Write a lambda expression\n",
    "\n",
    "Write a lambda expression for the function\n",
    "\n",
    "\\begin{equation}\n",
    "f(x) = \\frac{x}{1+x^2}\n",
    "\\end{equation}\n",
    "\n",
    "Use this lambda expression, list comprehension, and the numpy [arange](https://docs.scipy.org/doc/numpy/reference/generated/numpy.arange.html) function to create a list of values for this function for $x$ values between 1 (inclusive) and 2 (exclusive) in 0.05 increments.my"
   ]
  },
  {
   "cell_type": "code",
   "execution_count": null,
   "metadata": {},
   "outputs": [],
   "source": [
    "my_result = None\n"
   ]
  },
  {
   "cell_type": "code",
   "execution_count": null,
   "metadata": {},
   "outputs": [],
   "source": [
    "assert_true(np.allclose(my_result,\n",
    "                        [0.5, 0.49940546967895366, 0.49773755656108604, 0.49515608180839615, \n",
    "                         0.49180327868852458, 0.48780487804878042, 0.48327137546468402, \n",
    "                         0.47829937998228522, 0.47297297297297297, 0.46736502820306197, \n",
    "                         0.46153846153846151, 0.45554739162380598, 0.44943820224719094, \n",
    "                         0.44325050369375413, 0.43701799485861176, 0.43076923076923074, \n",
    "                         0.42452830188679241, 0.41831543244771047, 0.41214750542299339, \n",
    "                         0.40603852160333148]))"
   ]
  },
  {
   "cell_type": "markdown",
   "metadata": {},
   "source": [
    "### Write a lambda expression\n",
    "\n",
    "Use a lambda expression to sort the list data by the sum of the values for each tuple"
   ]
  },
  {
   "cell_type": "code",
   "execution_count": null,
   "metadata": {},
   "outputs": [],
   "source": [
    "data = [(1,(1,2,3)),(2,(3,2)),(3,(4,5,-1,5,6)),(4,{1,2,3})]"
   ]
  },
  {
   "cell_type": "code",
   "execution_count": null,
   "metadata": {},
   "outputs": [],
   "source": [
    "data.sort(key=None)"
   ]
  },
  {
   "cell_type": "markdown",
   "metadata": {},
   "source": [
    "### [Fibonacci Numbers](https://en.wikipedia.org/wiki/Fibonacci_number): Famous recursive numbers\n",
    "\n",
    "\\begin{eqnarray}\n",
    "F_n = F_{n-1} + F_{n-2}\\\\\n",
    "F_1 = 1\\\\\n",
    "F_2 = 1 \\\\\n",
    "n \\ge 1\n",
    "\\end{eqnarray}\n",
    "\n"
   ]
  },
  {
   "cell_type": "code",
   "execution_count": null,
   "metadata": {},
   "outputs": [],
   "source": [
    "def fibonacci(n):\n",
    "    pass"
   ]
  },
  {
   "cell_type": "code",
   "execution_count": null,
   "metadata": {},
   "outputs": [],
   "source": [
    "assert_equal([fibonacci(n) for n in range(1,10)],\n",
    "             [1, 1, 2, 3, 5, 8, 13, 21, 34])"
   ]
  },
  {
   "cell_type": "markdown",
   "metadata": {
    "nbgrader": {
     "checksum": "9bbb24ae14286439d2da9a9e90ae38ff",
     "grade": false,
     "grade_id": "cell-cd799da19f2e69f7",
     "locked": true,
     "schema_version": 1,
     "solution": false
    }
   },
   "source": [
    "Write a function `drop` that takes a sequence and and an integer N and returns the sequence with the first N elements dropped."
   ]
  },
  {
   "cell_type": "code",
   "execution_count": null,
   "metadata": {
    "nbgrader": {
     "checksum": "df576ab874fd8d660c65baed3e3fb79b",
     "grade": false,
     "grade_id": "cell-7aad3abe169ad963",
     "locked": false,
     "schema_version": 1,
     "solution": true
    }
   },
   "outputs": [],
   "source": [
    "def drop(xs,n):\n",
    "    pass\n",
    "        "
   ]
  },
  {
   "cell_type": "code",
   "execution_count": null,
   "metadata": {
    "nbgrader": {
     "checksum": "ceb05e7c3a66a2ff6cc6df535f539df8",
     "grade": true,
     "grade_id": "cell-b4f14c2b0ac62696",
     "locked": true,
     "points": 0,
     "schema_version": 1,
     "solution": false
    }
   },
   "outputs": [],
   "source": [
    "assert_equal(drop([1,2,3,4,5],2), [3,4,5])\n",
    "assert_equal(drop([5,4,3,2,1],0), [5, 4, 3, 2, 1])\n",
    "assert_equal(drop([1,2,3,4,5],9),[])"
   ]
  },
  {
   "cell_type": "markdown",
   "metadata": {
    "nbgrader": {
     "checksum": "1be8f662e2945fda7186c5f942fd817a",
     "grade": false,
     "grade_id": "cell-b790930f49c5ec25",
     "locked": true,
     "schema_version": 1,
     "solution": false
    }
   },
   "source": [
    "Write a function `zipper` that takes two sequences, `xs` and `ys`, and returns a sequence of the corresponding pairs ---[(x[0],ys[0]), (xs[1],ys[1]),...]---from `xs` and `ys` until one of the sequences is exhausted."
   ]
  },
  {
   "cell_type": "code",
   "execution_count": null,
   "metadata": {
    "nbgrader": {
     "checksum": "de3e702a0a9e2852d058ab647f584207",
     "grade": false,
     "grade_id": "cell-2f8dd69e7c628c8a",
     "locked": false,
     "schema_version": 1,
     "solution": true
    }
   },
   "outputs": [],
   "source": [
    "def zipper(xs, ys):\n",
    "    pass"
   ]
  },
  {
   "cell_type": "code",
   "execution_count": null,
   "metadata": {
    "nbgrader": {
     "checksum": "2be3cb7e76c9850fd4b10ff42410e037",
     "grade": true,
     "grade_id": "cell-e579ddbca10a7fa1",
     "locked": true,
     "points": 0,
     "schema_version": 1,
     "solution": false
    }
   },
   "outputs": [],
   "source": [
    "assert_equal(zipper([1,2,3],[1,2]), [(1, 1), (2, 2)])\n",
    "assert_equal(zipper([1,2],[1,2,3]), [(1, 1), (2, 2)])\n",
    "assert_equal(zipper([1,2,3],[]),[])\n",
    "assert_equal(zipper([1,2,3,4],[4,3,2,1]), [(1, 4), (2, 3), (3, 2), (4, 1)])\n",
    "assert_equal(zipper(\"Brian\", \"Chapman\"), [('B', 'C'), ('r', 'h'), ('i', 'a'), ('a', 'p'), ('n', 'm')])"
   ]
  },
  {
   "cell_type": "code",
   "execution_count": null,
   "metadata": {},
   "outputs": [],
   "source": []
  },
  {
   "cell_type": "code",
   "execution_count": null,
   "metadata": {},
   "outputs": [],
   "source": []
  }
 ],
 "metadata": {
  "anaconda-cloud": {},
  "celltoolbar": "Edit Metadata",
  "kernelspec": {
   "display_name": "Python [default]",
   "language": "python",
   "name": "python3"
  },
  "language_info": {
   "codemirror_mode": {
    "name": "ipython",
    "version": 3
   },
   "file_extension": ".py",
   "mimetype": "text/x-python",
   "name": "python",
   "nbconvert_exporter": "python",
   "pygments_lexer": "ipython3",
   "version": "3.6.4"
  }
 },
 "nbformat": 4,
 "nbformat_minor": 1
}
