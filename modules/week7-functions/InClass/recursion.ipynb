{
 "cells": [
  {
   "cell_type": "markdown",
   "metadata": {},
   "source": [
    "## Solving the problem using recursion\n",
    "\n",
    "Recursive functions are functions that call themselves. This is usually done instead of a implementing a loop. Recursion is not usually a great idea in Python, but sometimes it is a good choice and it is good to be aware of.\n",
    "\n",
    "In designing a recursive function we need to recognize what are our **base cases**: these are the cases where our recursion will stop"
   ]
  },
  {
   "cell_type": "markdown",
   "metadata": {},
   "source": [
    "### [factorial](https://en.wikipedia.org/wiki/Factorial): A famous recursive function\n",
    "\n",
    "The factorial function (usually depicted as $n!$), is the product of all non-negative integers less than $n$. $0!$ is defined to be 1 ($0! := 1$).\n",
    "\n",
    "* The domain of the factorial function is?\n",
    "* The range of the factorial function is?\n",
    "\n",
    "\n",
    "#### Before we start, what are our base cases?"
   ]
  },
  {
   "cell_type": "code",
   "execution_count": 1,
   "metadata": {},
   "outputs": [],
   "source": [
    "def factorial(n):\n",
    "    pass"
   ]
  },
  {
   "cell_type": "markdown",
   "metadata": {},
   "source": [
    "### [Fibonacci Numbers](https://en.wikipedia.org/wiki/Fibonacci_number): Famous recursive numbers\n",
    "\n",
    "\\begin{eqnarray}\n",
    "F_n = F_{n-1} + F_{n-2}\\\\\n",
    "F_1 = 1\\\\\n",
    "F_2 = 1 \\\\\n",
    "n \\ge 1\n",
    "\\end{eqnarray}\n",
    "\n"
   ]
  },
  {
   "cell_type": "code",
   "execution_count": 2,
   "metadata": {},
   "outputs": [],
   "source": [
    "def fibonacci(n):\n",
    "    pass"
   ]
  },
  {
   "cell_type": "code",
   "execution_count": null,
   "metadata": {
    "collapsed": true
   },
   "outputs": [],
   "source": [
    "[fibonacci(n) for n in range(10)]"
   ]
  },
  {
   "cell_type": "code",
   "execution_count": null,
   "metadata": {
    "collapsed": true
   },
   "outputs": [],
   "source": [
    "factorial(2)"
   ]
  },
  {
   "cell_type": "markdown",
   "metadata": {},
   "source": [
    "## Modify `get_pos_integer_take2` to get a positive integer from the user using recursion\n",
    "\n",
    "#### What is our base case?"
   ]
  },
  {
   "cell_type": "code",
   "execution_count": null,
   "metadata": {
    "collapsed": true,
    "deletable": false,
    "nbgrader": {
     "checksum": "10a62a413587993175db1a62879adeba",
     "grade": false,
     "grade_id": "cell-c44acabc93ef7176",
     "locked": false,
     "schema_version": 1,
     "solution": true
    }
   },
   "outputs": [],
   "source": [
    "def get_pos_integer_take2(prompt=\"Enter a positive integer\"):\n",
    "    # YOUR CODE HERE\n",
    "    raise NotImplementedError()"
   ]
  },
  {
   "cell_type": "code",
   "execution_count": null,
   "metadata": {
    "collapsed": true
   },
   "outputs": [],
   "source": [
    "get_pos_integer_take2()"
   ]
  },
  {
   "cell_type": "code",
   "execution_count": null,
   "metadata": {
    "collapsed": true,
    "internals": {
     "slide_helper": "subslide_end"
    },
    "slide_helper": "slide_end",
    "slideshow": {
     "slide_type": "-"
    }
   },
   "outputs": [],
   "source": []
  }
 ],
 "metadata": {
  "kernelspec": {
   "display_name": "Python [default]",
   "language": "python",
   "name": "python3"
  },
  "language_info": {
   "codemirror_mode": {
    "name": "ipython",
    "version": 3
   },
   "file_extension": ".py",
   "mimetype": "text/x-python",
   "name": "python",
   "nbconvert_exporter": "python",
   "pygments_lexer": "ipython3",
   "version": "3.6.4"
  }
 },
 "nbformat": 4,
 "nbformat_minor": 1
}
