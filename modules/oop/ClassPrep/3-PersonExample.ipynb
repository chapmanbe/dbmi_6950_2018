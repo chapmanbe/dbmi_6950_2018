{
 "cells": [
  {
   "cell_type": "code",
   "execution_count": 1,
   "metadata": {},
   "outputs": [
    {
     "data": {
      "image/jpeg": "[encoded data removed]",
      "text/html": [
       "\n",
       "        <iframe\n",
       "            width=\"400\"\n",
       "            height=\"300\"\n",
       "            src=\"https://www.youtube.com/embed/gUZ8zIiOVio\"\n",
       "            frameborder=\"0\"\n",
       "            allowfullscreen\n",
       "        ></iframe>\n",
       "        "
      ],
      "text/plain": [
       "<IPython.lib.display.YouTubeVideo at 0x7f574c71b470>"
      ]
     },
     "execution_count": 1,
     "metadata": {},
     "output_type": "execute_result"
    }
   ],
   "source": [
    "from IPython.display import YouTubeVideo\n",
    "\n",
    "YouTubeVideo(\"gUZ8zIiOVio\")"
   ]
  },
  {
   "cell_type": "code",
   "execution_count": 2,
   "metadata": {},
   "outputs": [],
   "source": [
    "import datetime\n",
    "import dateutil\n",
    "import time"
   ]
  },
  {
   "cell_type": "markdown",
   "metadata": {},
   "source": [
    "# Modeling Persons and Patients\n",
    "\n",
    "Compare and contrast this example with the similar problem presented in \"8.1.2 Using Classes to Keep Track of Students and Faculty\" in *Introduction to Computation and Programming Using Python: With Application to Understanding Data* "
   ]
  },
  {
   "cell_type": "code",
   "execution_count": 3,
   "metadata": {
    "internals": {
     "frag_helper": "fragment_end",
     "frag_number": 23,
     "slide_helper": "subslide_end",
     "slide_type": "subslide"
    },
    "slide_helper": "subslide_end",
    "slideshow": {
     "slide_type": "slide"
    }
   },
   "outputs": [],
   "source": [
    "class Person(object): \n",
    "    def __init__(self,first_name=None,last_name=None,\n",
    "                 middle_name='',sex='F',dob=None, **kwargs):\n",
    "        self.sex = sex\n",
    "        self.first_name = first_name\n",
    "        self.middle_name = middle_name\n",
    "        self.last_name = last_name\n",
    "        if dob == None:\n",
    "            self.__dob = None\n",
    "        elif isinstance(dob,str):\n",
    "            try:\n",
    "                self.__dob = dateutil.parser.parse(dob)\n",
    "            except Exception as error:\n",
    "                print(error)\n",
    "                self.__dob = None\n",
    "        elif isinstance(dob.datetime.date):\n",
    "            self.__dob = dob\n",
    "        else:\n",
    "            raise TypeError(\"Invalid date of birth specification\")\n",
    "        \n",
    "        \n",
    "    @property\n",
    "    def dob(self):\n",
    "        return self.__dob\n",
    "    @property\n",
    "    def age(self):\n",
    "        td = datetime.datetime.now()-self.__dob\n",
    "        return {\"years\":td.days//365, \"months\":td.days%365//30}\n",
    "        \n",
    "    @property\n",
    "    def sex(self):\n",
    "        return self.__sex\n",
    "    @sex.setter\n",
    "    def sex(self, value):\n",
    "        if not isinstance(value,str):\n",
    "            raise TypeError(\"Sex must be a string\")\n",
    "        if not value.upper()[0] in \"MF\":\n",
    "            raise ValueError(\"Sex must be Male or Female\")\n",
    "        self.__sex = value.upper()[0]\n",
    "    @property \n",
    "    def first_name(self):\n",
    "        return self.__first_name\n",
    "    @first_name.setter\n",
    "    def first_name(self, value):\n",
    "        if value == None:\n",
    "            if self.sex == 'F':\n",
    "                value = \"Jane\"\n",
    "            else:\n",
    "                value = \"John\"\n",
    "        if not isinstance(value,str):\n",
    "            raise TypeError(\"first name must be a string\")\n",
    "        self.__first_name = value\n",
    "    @property \n",
    "    def last_name(self):\n",
    "        return self.__last_name\n",
    "    @last_name.setter\n",
    "    def last_name(self, value):\n",
    "        if value == None:\n",
    "            value = \"Doe\"\n",
    "        if not isinstance(value,str):\n",
    "            raise TypeError(\"last name must be a string\")\n",
    "        self.__last_name = value\n",
    "        \n",
    "    @property \n",
    "    def middle_name(self):\n",
    "        return self.__middle_name\n",
    "    @middle_name.setter\n",
    "    def middle_name(self, value):\n",
    "\n",
    "        if not isinstance(value,str):\n",
    "            raise TypeError(\"last name must be a string\")\n",
    "        self.__middle_name = value\n",
    "    def get_full_name(self):\n",
    "        name = \"%s %s %s\"%(self.first_name,\n",
    "                           self.middle_name,\n",
    "                           self.last_name)\n",
    "        return name\n",
    "        \n",
    "    def get_characteristics(self):\n",
    "        \"\"\"Get the individual characteristics in a string\"\"\"\n",
    "        txt = \"\"\"First Name=%s\\n\"\"\"%self.first_name\n",
    "        txt += \"\"\"Middle Name=%s\\n\"\"\"%self.middle_name\n",
    "        txt +=\"\"\"Last Name=%s\\n\"\"\"%self.last_name\n",
    "        txt += \"\"\"Sex=%s\\n\"\"\"%self.sex\n",
    "        txt += \"Age=%d years, %d months\\n\"%(self.age[\"years\"],\n",
    "                                            self.age[\"months\"])\n",
    "        return txt\n",
    "        "
   ]
  },
  {
   "cell_type": "code",
   "execution_count": 72,
   "metadata": {},
   "outputs": [
    {
     "name": "stdout",
     "output_type": "stream",
     "text": [
      "Brian E. Chapman\n",
      "First Name=Brian\n",
      "Middle Name=E.\n",
      "Last Name=Chapman\n",
      "Sex=M\n",
      "Age=49 years, 5 months\n",
      "\n"
     ]
    }
   ],
   "source": [
    "me = Person(first_name=\"Brian\", middle_name=\"E.\", \n",
    "            last_name=\"Chapman\", sex=\"Male\", dob=\"May 24, 68\")\n",
    "print(me.get_full_name())\n",
    "print(me.get_characteristics())"
   ]
  },
  {
   "cell_type": "markdown",
   "metadata": {
    "internals": {
     "frag_helper": "fragment_end",
     "frag_number": 23,
     "slide_helper": "subslide_end",
     "slide_type": "subslide"
    },
    "slide_helper": "subslide_end",
    "slideshow": {
     "slide_type": "subslide"
    }
   },
   "source": [
    "# Defining an Inherited Class: Patient\n",
    "\n",
    "Since I'm inheriting properties from person, I want to pass all non-patient specific keyword arguments provided in `__init__` to the `Person` contructor via `super`"
   ]
  },
  {
   "cell_type": "code",
   "execution_count": 73,
   "metadata": {
    "collapsed": true,
    "internals": {
     "frag_helper": "fragment_end",
     "frag_number": 23,
     "slide_helper": "subslide_end",
     "slide_type": "subslide"
    },
    "slide_helper": "subslide_end",
    "slideshow": {
     "slide_type": "subslide"
    }
   },
   "outputs": [],
   "source": [
    "class Patient(Person):\n",
    "    def __init__(self,PCP=None,\n",
    "                 chief_complaint=None, MRN=0, **kwargs):\n",
    "        super(Patient,self).__init__(**kwargs)\n",
    "        self.PCP = PCP\n",
    "        self.chief_complaint = chief_complaint\n",
    "        self.MRN = MRN\n",
    "        \n",
    "        @property\n",
    "        def PCP(self):\n",
    "            return self.__PCP\n",
    "        @PCP.setter\n",
    "        def PCP(self,value):\n",
    "            if not isinstance(value, str):\n",
    "                raise TypeError(\"PCP must be a string\")\n",
    "            self.__PCP = value\n",
    "        @property\n",
    "        def chief_complaint(self):\n",
    "            return self.__chief_complaint\n",
    "        @chief_complaint.setter\n",
    "        def chief_complaint(self, value):\n",
    "            self.__chief_complaint = value\n",
    "        @property\n",
    "        def MRN(self):\n",
    "            return self.__MRN\n",
    "        @MRN.setter\n",
    "        def MRN(self, value):\n",
    "            if not isinstance(value,str):\n",
    "                raise TypeError(\"MRN must be a string\")\n",
    "            if len(value) != 12:\n",
    "                return ValueError(\"MRN must be 12 characters long\")\n",
    "            self.__MRN = value\n",
    "        \n",
    "        \n",
    "    def get_characteristics(self):\n",
    "        \"\"\"Get the patient characteristics in a string\"\"\"\n",
    "        txt = super(Patient,self).get_characteristics()\n",
    "        txt += \"PCP=%s\\n\"%self.PCP\n",
    "        txt += \"Chief Complaint=%s\\n\"%self.chief_complaint\n",
    "        txt += \"MRN=%s\\n\"%self.MRN\n",
    "        return txt"
   ]
  },
  {
   "cell_type": "code",
   "execution_count": 74,
   "metadata": {},
   "outputs": [
    {
     "name": "stdout",
     "output_type": "stream",
     "text": [
      "{'months': 5, 'years': 49}\n",
      "First Name=Brian\n",
      "Middle Name=Earl\n",
      "Last Name=Chapman\n",
      "Sex=M\n",
      "Age=49 years, 5 months\n",
      "\n"
     ]
    }
   ],
   "source": [
    "brian = Person(first_name='Brian',\n",
    "                          last_name='Chapman',\n",
    "                          middle_name='Earl',\n",
    "                          sex='M',\n",
    "               dob=\"5/24/1968\")\n",
    "print(brian.age)\n",
    "print (brian.get_characteristics())"
   ]
  },
  {
   "cell_type": "code",
   "execution_count": 75,
   "metadata": {
    "internals": {
     "frag_helper": "fragment_end",
     "frag_number": 23,
     "slide_helper": "subslide_end",
     "slide_type": "subslide"
    },
    "slide_helper": "slide_end",
    "slideshow": {
     "slide_type": "subslide"
    }
   },
   "outputs": [
    {
     "name": "stdout",
     "output_type": "stream",
     "text": [
      "First Name=Brian\n",
      "Middle Name=Earl\n",
      "Last Name=Chapman\n",
      "Sex=M\n",
      "Age=49 years, 5 months\n",
      "PCP=Barry Stults\n",
      "Chief Complaint=Research\n",
      "MRN=731510008ZXY\n",
      "\n",
      "<class '__main__.Patient'>\n"
     ]
    }
   ],
   "source": [
    "patient_brian = Patient(first_name='Brian',\n",
    "                        last_name='Chapman',\n",
    "                        middle_name='Earl',\n",
    "                        sex='M',\n",
    "                        dob=\"5/24/1968\",\n",
    "                        PCP='Barry Stults',\n",
    "                        chief_complaint='Research',\n",
    "                        MRN=\"731510008ZXY\")\n",
    "\n",
    "print (patient_brian.get_characteristics())\n",
    "print (type(patient_brian))"
   ]
  },
  {
   "cell_type": "markdown",
   "metadata": {
    "internals": {
     "frag_helper": "fragment_end",
     "frag_number": 23,
     "slide_helper": "subslide_end",
     "slide_type": "subslide"
    },
    "slide_helper": "subslide_end",
    "slideshow": {
     "slide_type": "slide"
    }
   },
   "source": [
    "## **[issubclass](http://docs.python.org/3/library/functions.html#issubclass)** and **[isinstance](http://docs.python.org/3/library/functions.html#isinstance)**"
   ]
  },
  {
   "cell_type": "code",
   "execution_count": 76,
   "metadata": {},
   "outputs": [
    {
     "name": "stdout",
     "output_type": "stream",
     "text": [
      "Is person a patient? False\n"
     ]
    }
   ],
   "source": [
    "print (\"Is person a patient?\",issubclass(Person,Patient))"
   ]
  },
  {
   "cell_type": "code",
   "execution_count": 77,
   "metadata": {},
   "outputs": [
    {
     "name": "stdout",
     "output_type": "stream",
     "text": [
      "Is patient a person? True\n"
     ]
    }
   ],
   "source": [
    "print (\"Is patient a person?\",issubclass(Patient,Person))"
   ]
  },
  {
   "cell_type": "code",
   "execution_count": 78,
   "metadata": {},
   "outputs": [
    {
     "name": "stdout",
     "output_type": "stream",
     "text": [
      "Is brian a person? True\n"
     ]
    }
   ],
   "source": [
    "print (\"Is brian a person?\",isinstance(brian,Person))"
   ]
  },
  {
   "cell_type": "code",
   "execution_count": 79,
   "metadata": {},
   "outputs": [
    {
     "name": "stdout",
     "output_type": "stream",
     "text": [
      "Is patient_brian a person? True\n"
     ]
    }
   ],
   "source": [
    "print (\"Is patient_brian a person?\",isinstance(patient_brian,Person))"
   ]
  },
  {
   "cell_type": "code",
   "execution_count": 80,
   "metadata": {},
   "outputs": [
    {
     "name": "stdout",
     "output_type": "stream",
     "text": [
      "Is brian a patient? False\n"
     ]
    }
   ],
   "source": [
    "print (\"Is brian a patient?\",isinstance(brian,Patient))"
   ]
  },
  {
   "cell_type": "code",
   "execution_count": 81,
   "metadata": {
    "internals": {
     "frag_helper": "fragment_end",
     "frag_number": 23,
     "slide_helper": "subslide_end",
     "slide_type": "subslide"
    },
    "slide_helper": "slide_end",
    "slideshow": {
     "slide_type": "subslide"
    }
   },
   "outputs": [
    {
     "name": "stdout",
     "output_type": "stream",
     "text": [
      "Is patient_brian a patient? True\n"
     ]
    }
   ],
   "source": [
    "print (\"Is patient_brian a patient?\",isinstance(patient_brian,Patient))"
   ]
  },
  {
   "cell_type": "code",
   "execution_count": null,
   "metadata": {
    "collapsed": true
   },
   "outputs": [],
   "source": []
  }
 ],
 "metadata": {
  "kernelspec": {
   "display_name": "Python [default]",
   "language": "python",
   "name": "python3"
  },
  "language_info": {
   "codemirror_mode": {
    "name": "ipython",
    "version": 3
   },
   "file_extension": ".py",
   "mimetype": "text/x-python",
   "name": "python",
   "nbconvert_exporter": "python",
   "pygments_lexer": "ipython3",
   "version": "3.6.4"
  }
 },
 "nbformat": 4,
 "nbformat_minor": 1
}
