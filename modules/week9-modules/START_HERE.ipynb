{
 "cells": [
  {
   "cell_type": "markdown",
   "metadata": {},
   "source": [
    "# Modules and Packages\n",
    "\n",
    "## ClassPrep\n",
    "\n",
    "* [Modules](ClassPrep/Modules.ipynb)\n",
    "* [Packages](ClassPrep/Packages.ipynb)\n",
    "* [Importing Packages](ClassPrep/importing_packages.ipynb)\n",
    "* [Standard Library](ClassPrep/StandardLibrary.ipynb)\n",
    "\n",
    "## Readings\n",
    "\n",
    "* Read the [\"Modules\"](https://docs.python.org/3/tutorial/modules.html) section of the official Python tutorial\n",
    "* *Introduction to Computation and Programming Using Python*, Section 4.5 \"Modules\"\n",
    "\n",
    "## Resources\n",
    "\n",
    "* [Additional notes](Resources/additional_notes.md)\n",
    "\n"
   ]
  },
  {
   "cell_type": "code",
   "execution_count": null,
   "metadata": {
    "collapsed": true
   },
   "outputs": [],
   "source": []
  }
 ],
 "metadata": {
  "kernelspec": {
   "display_name": "Python [default]",
   "language": "python",
   "name": "python3"
  },
  "language_info": {
   "codemirror_mode": {
    "name": "ipython",
    "version": 3
   },
   "file_extension": ".py",
   "mimetype": "text/x-python",
   "name": "python",
   "nbconvert_exporter": "python",
   "pygments_lexer": "ipython3",
   "version": "3.6.4"
  }
 },
 "nbformat": 4,
 "nbformat_minor": 1
}
