{
 "cells": [
  {
   "cell_type": "code",
   "execution_count": 3,
   "metadata": {},
   "outputs": [
    {
     "data": {
      "text/html": [
       "\n",
       "        <iframe\n",
       "            width=\"700\"\n",
       "            height=\"300\"\n",
       "            src=\"https://www.youtube.com/embed/sUHVeewvg1o\"\n",
       "            frameborder=\"0\"\n",
       "            allowfullscreen\n",
       "        ></iframe>\n",
       "        "
      ],
      "text/plain": [
       "<IPython.lib.display.YouTubeVideo at 0x7ff9e01e3080>"
      ]
     },
     "execution_count": 3,
     "metadata": {},
     "output_type": "execute_result"
    }
   ],
   "source": [
    "from IPython.display import YouTubeVideo\n",
    "YouTubeVideo(\"sUHVeewvg1o\", width=700)"
   ]
  },
  {
   "cell_type": "markdown",
   "metadata": {
    "internals": {
     "frag_helper": "fragment_end",
     "frag_number": 13,
     "slide_helper": "subslide_end",
     "slide_type": "subslide"
    },
    "slide_helper": "subslide_end",
    "slideshow": {
     "slide_type": "slide"
    }
   },
   "source": [
    "# Packages\n",
    "\n",
    "## Packages allow you to organize modules into related collections\n",
    "* The packages can contain \n",
    "    * modules (files)  \n",
    "    * sub-packages (sub directories)\n",
    "* In Python < 3.3 in order to be defined as a package, the directory must contain an **``__init__.py``** file\n",
    "    * Even though not required in Python 3.5, the ``__init__.py`` is valuable for configuring how the package works."
   ]
  },
  {
   "cell_type": "markdown",
   "metadata": {
    "internals": {
     "frag_helper": "fragment_end",
     "frag_number": 13,
     "slide_helper": "subslide_end",
     "slide_type": "subslide"
    },
    "slide_helper": "slide_end",
    "slideshow": {
     "slide_type": "subslide"
    }
   },
   "source": [
    "## The **\\_\\_init\\_\\_.py** File"
   ]
  },
  {
   "cell_type": "markdown",
   "metadata": {},
   "source": [
    ">The ``__init__.py`` files can contain Python code, just like normal module files. Their names are special because their code is run automatically the first time a Python program imports a directory, and thus serves primarily as a hook for performing initialization steps required by the package. These files can also be completely empty, though, and sometimes have additional roles—as the next section explains. (Mark Lutz. *Learning Python*) \n",
    "\n",
    ">the requirement of packages to have a file named ``__init__.py`` has been lifted as of Python 3.3. In that release and later, directories of modules with no such file may be imported as single-directory namespace packages, which work the same but run no initialization-time code file. Prior to Python 3.3, though, and in all of Python 2.X, packages still require ``__init__.py`` files. As described ahead, in 3.3 and later these files also provide a performance advantage when used. (Mark Lutz. *Learning Python.*)"
   ]
  },
  {
   "cell_type": "markdown",
   "metadata": {
    "internals": {
     "frag_helper": "fragment_end",
     "frag_number": 13,
     "slide_helper": "subslide_end",
     "slide_type": "subslide"
    },
    "slide_helper": "subslide_end",
    "slideshow": {
     "slide_type": "slide"
    }
   },
   "source": [
    "* **``__init__.py``** can be empty (absolutely empty)\n",
    "* But can contain arbitrary Python code.\n",
    "* Common content includes\n",
    "    * docstring for the package\n",
    "    * version information\n",
    "    * Code executed dependent on platform\n",
    "    * ``__all__`` = [\"echo\", \"surround\", \"reverse\"]\n",
    "        * defines what is imported with a ``from PACKAGE import *`` statement\n",
    "```Python\n",
    "from PACKAGE import * \n",
    "```\n",
    "        * statement\n",
    "        * If ``__all__`` is not defined, then the ``from X import *`` only imports what is defiend in ``__init__.py``\n",
    "    "
   ]
  },
  {
   "cell_type": "code",
   "execution_count": 4,
   "metadata": {},
   "outputs": [
    {
     "data": {
      "text/html": [
       "\n",
       "        <iframe\n",
       "            width=\"700\"\n",
       "            height=\"300\"\n",
       "            src=\"https://www.youtube.com/embed/mPXiP2igM3Y\"\n",
       "            frameborder=\"0\"\n",
       "            allowfullscreen\n",
       "        ></iframe>\n",
       "        "
      ],
      "text/plain": [
       "<IPython.lib.display.YouTubeVideo at 0x7ff9e01e30b8>"
      ]
     },
     "execution_count": 4,
     "metadata": {},
     "output_type": "execute_result"
    }
   ],
   "source": [
    "YouTubeVideo(\"mPXiP2igM3Y\", width=700)"
   ]
  },
  {
   "cell_type": "markdown",
   "metadata": {
    "internals": {
     "frag_helper": "fragment_end",
     "frag_number": 13,
     "slide_type": "subslide"
    },
    "slideshow": {
     "slide_type": "subslide"
    }
   },
   "source": [
    "## I've created an example module named chapmanbe"
   ]
  },
  {
   "cell_type": "code",
   "execution_count": 1,
   "metadata": {
    "internals": {
     "frag_helper": "fragment_end",
     "frag_number": 19
    },
    "slideshow": {
     "slide_type": "fragment"
    }
   },
   "outputs": [],
   "source": [
    "import chapmanbe"
   ]
  },
  {
   "cell_type": "markdown",
   "metadata": {
    "internals": {
     "frag_helper": "fragment_end",
     "frag_number": 21,
     "slide_helper": "subslide_end"
    },
    "slide_helper": "subslide_end",
    "slideshow": {
     "slide_type": "-"
    }
   },
   "source": [
    "### Note that strings is **NOT** currently visible"
   ]
  },
  {
   "cell_type": "code",
   "execution_count": 2,
   "metadata": {
    "internals": {
     "frag_helper": "fragment_end",
     "frag_number": 21,
     "slide_helper": "subslide_end",
     "slide_type": "subslide"
    },
    "slide_helper": "subslide_end",
    "slideshow": {
     "slide_type": "subslide"
    }
   },
   "outputs": [
    {
     "name": "stdout",
     "output_type": "stream",
     "text": [
      "('NAMPAHC', 'NAIRB')\n"
     ]
    }
   ],
   "source": [
    "print(chapmanbe.my_favorite_functions.reverseMyName(\"Brian\",\"Chapman\"))"
   ]
  },
  {
   "cell_type": "code",
   "execution_count": 3,
   "metadata": {
    "internals": {
     "frag_helper": "fragment_end",
     "frag_number": 21,
     "slide_helper": "subslide_end",
     "slide_type": "subslide"
    },
    "slide_helper": "subslide_end",
    "slideshow": {
     "slide_type": "subslide"
    }
   },
   "outputs": [
    {
     "name": "stdout",
     "output_type": "stream",
     "text": [
      "Help on package chapmanbe:\n",
      "\n",
      "NAME\n",
      "    chapmanbe - This is the __init__ file for the chapmanbe package\n",
      "\n",
      "PACKAGE CONTENTS\n",
      "    hello (package)\n",
      "    my_favorite_functions\n",
      "    myclass (package)\n",
      "    strings\n",
      "\n",
      "DATA\n",
      "    __all__ = ['my_favorite_functions']\n",
      "\n",
      "FILE\n",
      "    /home/jovyan/work/6018_2017/modules/m8-modules/ClassPrep/chapmanbe/__init__.py\n",
      "\n",
      "\n"
     ]
    }
   ],
   "source": [
    "help(chapmanbe)\n"
   ]
  },
  {
   "cell_type": "code",
   "execution_count": 4,
   "metadata": {
    "internals": {
     "frag_helper": "fragment_end",
     "frag_number": 21,
     "slide_type": "subslide"
    },
    "slideshow": {
     "slide_type": "subslide"
    }
   },
   "outputs": [
    {
     "name": "stdout",
     "output_type": "stream",
     "text": [
      "('NAMPAHC', 'NAIRB')\n",
      "Help on module chapmanbe.my_favorite_functions in chapmanbe:\n",
      "\n",
      "NAME\n",
      "    chapmanbe.my_favorite_functions - These are not really my favorite functions.\n",
      "\n",
      "FUNCTIONS\n",
      "    reverseMyName(firstName, lastName)\n",
      "    \n",
      "    whatIsTheMeainingOfLife()\n",
      "    \n",
      "    whatIsTheMeaningOfLifeString()\n",
      "\n",
      "FILE\n",
      "    /home/jovyan/work/6018_2017/modules/m8-modules/ClassPrep/chapmanbe/my_favorite_functions.py\n",
      "\n",
      "\n"
     ]
    }
   ],
   "source": [
    "import chapmanbe.my_favorite_functions as mff\n",
    "print(mff.reverseMyName(\"Brian\",\"Chapman\"))\n",
    "help(mff)"
   ]
  },
  {
   "cell_type": "markdown",
   "metadata": {
    "internals": {
     "frag_helper": "fragment_end",
     "frag_number": 21,
     "slide_helper": "subslide_end"
    },
    "slide_helper": "slide_end",
    "slideshow": {
     "slide_type": "-"
    }
   },
   "source": [
    "[Guide to Packaging](https://packaging.python.org/en/latest/)"
   ]
  },
  {
   "cell_type": "code",
   "execution_count": null,
   "metadata": {
    "internals": {
     "frag_helper": "fragment_end",
     "frag_number": 37,
     "slide_helper": "subslide_end"
    },
    "slide_helper": "slide_end",
    "slideshow": {
     "slide_type": "-"
    }
   },
   "outputs": [],
   "source": []
  }
 ],
 "metadata": {
  "kernelspec": {
   "display_name": "Python [default]",
   "language": "python",
   "name": "python3"
  },
  "language_info": {
   "codemirror_mode": {
    "name": "ipython",
    "version": 3
   },
   "file_extension": ".py",
   "mimetype": "text/x-python",
   "name": "python",
   "nbconvert_exporter": "python",
   "pygments_lexer": "ipython3",
   "version": "3.6.4"
  }
 },
 "nbformat": 4,
 "nbformat_minor": 1
}
