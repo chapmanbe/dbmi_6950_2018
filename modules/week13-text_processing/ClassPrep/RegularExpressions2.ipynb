{
 "cells": [
  {
   "cell_type": "markdown",
   "metadata": {},
   "source": [
    "# Regular Expressions Part 2\n",
    "### My goto reference is the [Regular Expression How To](http://docs.python.org/3/howto/regex.html) webpage.\n",
    "\n",
    "## What this notebook covers\n",
    "\n",
    "1. Groups\n",
    "1. Match Objects\n",
    "3. Named Groups\n",
    "4. Modifying Strings with Regular Expressions"
   ]
  },
  {
   "cell_type": "markdown",
   "metadata": {},
   "source": [
    "### Groups\n",
    "* Individual parts of a regular expression can be identified using parentheses **()**. \n",
    "* These are then known as *GROUPS*. \n",
    "* Groups can be made optional by putting a question mark **(?)** after the group. \n"
   ]
  },
  {
   "cell_type": "markdown",
   "metadata": {},
   "source": [
    "# Examples"
   ]
  },
  {
   "cell_type": "code",
   "execution_count": 1,
   "metadata": {},
   "outputs": [
    {
     "data": {
      "text/plain": [
       "\"Br. Chapman died yesterday. Brian Chapman, much beloved, Brian E. Chapman Brian Earl Chapman \\nWendy Webber Chapman Clare \\n1234 4321.1234 Clare A Chapman python python.org \\nhttp://python.org www.python.org jython zython Brad Bob cpython brian http://www.python.org perl Perl PERL\\nhttps://www.utah.edu\\n\\nhttps://www.python.org\""
      ]
     },
     "execution_count": 1,
     "metadata": {},
     "output_type": "execute_result"
    }
   ],
   "source": [
    "testString = \"\"\"\n",
    "Br. Chapman died yesterday. Brian Chapman, much beloved, Brian E. Chapman Brian Earl Chapman \n",
    "Wendy Webber Chapman Clare \n",
    "1234 4321.1234 Clare A Chapman python python.org \n",
    "http://python.org www.python.org jython zython Brad Bob cpython brian http://www.python.org perl Perl PERL\n",
    "https://www.utah.edu\n",
    "\n",
    "https://www.python.org\"\"\""
   ]
  },
  {
   "cell_type": "markdown",
   "metadata": {},
   "source": [
    "### Here is a regular expression to match `python` or `perl`\n",
    "```Python\n",
    "r\"\"\"(p(ython|erl))\"\"\"\n",
    "```\n",
    "#### This uses a group `ython|erl` within a larger group"
   ]
  },
  {
   "cell_type": "code",
   "execution_count": 2,
   "metadata": {},
   "outputs": [
    {
     "name": "stdout",
     "output_type": "stream",
     "text": [
      "SubString{String}[\"python\",\"python\",\"python\",\"python\",\"python\",\"python\",\"perl\",\"python\"]\n"
     ]
    }
   ],
   "source": [
    "e4 = r\"\"\"(p(ython|erl))\"\"\"\n",
    "println(matchall(e4, testString))\n",
    "\n"
   ]
  },
  {
   "cell_type": "markdown",
   "metadata": {},
   "source": [
    "### Optional Groups\n",
    "#### Here is a regular expression to match pars of the python web address\n",
    "#### All groups are optional except for `python`"
   ]
  },
  {
   "cell_type": "code",
   "execution_count": 21,
   "metadata": {},
   "outputs": [
    {
     "name": "stdout",
     "output_type": "stream",
     "text": [
      "python\n",
      "SubString{String}\n",
      "**********\n",
      "python.org\n",
      "SubString{String}\n",
      "**********\n",
      "http://python.org\n",
      "SubString{String}\n",
      "**********\n",
      "www.python.org\n",
      "SubString{String}\n",
      "**********\n",
      "python\n",
      "SubString{String}\n",
      "**********\n",
      "http://www.python.org\n",
      "SubString{String}\n",
      "**********\n",
      "https://www.python.org\n",
      "SubString{String}\n",
      "**********\n"
     ]
    }
   ],
   "source": [
    "r1 = r\"\"\"(http[s]*://)?(www\\.)?(python)(\\.org)?\"\"\"\n",
    "for m in matchall(r1, testString)\n",
    "    println(m)\n",
    "    println(typeof(m))\n",
    "    println(\"**********\")\n",
    "end"
   ]
  },
  {
   "cell_type": "markdown",
   "metadata": {},
   "source": [
    "## Matched Objects\n",
    "### `matchall` is useful: it returns the strings we matched. But...\n",
    "### There is a more powerful way of working with what we've matched\n",
    "* [`eachmatch`]()\n",
    "* [`match`]()\n",
    "* The match object contains methods that describe the attribute of the matched string, for example, the span of the matched string."
   ]
  },
  {
   "cell_type": "code",
   "execution_count": 22,
   "metadata": {},
   "outputs": [
    {
     "name": "stdout",
     "output_type": "stream",
     "text": [
      "RegexMatch\n"
     ]
    }
   ],
   "source": [
    "m = match(r1, testString)\n",
    "println(typeof(m))"
   ]
  },
  {
   "cell_type": "code",
   "execution_count": 28,
   "metadata": {},
   "outputs": [
    {
     "name": "stdout",
     "output_type": "stream",
     "text": [
      "RegexMatch(\"python\", 1=nothing, 2=nothing, 3=\"python\", 4=nothing)\n",
      "python\n",
      "nothing nothing python nothing\n",
      "***************\n",
      "RegexMatch(\"python.org\", 1=nothing, 2=nothing, 3=\"python\", 4=\".org\")\n",
      "python.org\n",
      "nothing nothing python .org\n",
      "***************\n",
      "RegexMatch(\"http://python.org\", 1=\"http://\", 2=nothing, 3=\"python\", 4=\".org\")\n",
      "http://python.org\n",
      "http:// nothing python .org\n",
      "***************\n",
      "RegexMatch(\"www.python.org\", 1=nothing, 2=\"www.\", 3=\"python\", 4=\".org\")\n",
      "www.python.org\n",
      "nothing www. python .org\n",
      "***************\n",
      "RegexMatch(\"python\", 1=nothing, 2=nothing, 3=\"python\", 4=nothing)\n",
      "python\n",
      "nothing nothing python nothing\n",
      "***************\n",
      "RegexMatch(\"http://www.python.org\", 1=\"http://\", 2=\"www.\", 3=\"python\", 4=\".org\")\n",
      "http://www.python.org\n",
      "http:// www. python .org\n",
      "***************\n",
      "RegexMatch(\"https://www.python.org\", 1=\"https://\", 2=\"www.\", 3=\"python\", 4=\".org\")\n",
      "https://www.python.org\n",
      "https:// www. python .org\n",
      "***************\n"
     ]
    }
   ],
   "source": [
    "for m in eachmatch(r1, testString)\n",
    "    println(m)\n",
    "    println(m.match)\n",
    "    println(m[1], \" \", m[2], \" \", m[3], \" \", m[4])\n",
    "    println(\"***************\")\n",
    "end"
   ]
  },
  {
   "cell_type": "code",
   "execution_count": 33,
   "metadata": {},
   "outputs": [
    {
     "name": "stdout",
     "output_type": "stream",
     "text": [
      "302 [302,310,314,320]\n"
     ]
    }
   ],
   "source": [
    "println(m.offset, \" \", m.offsets)"
   ]
  },
  {
   "cell_type": "code",
   "execution_count": 34,
   "metadata": {},
   "outputs": [
    {
     "data": {
      "text/plain": [
       "1:4"
      ]
     },
     "execution_count": 34,
     "metadata": {},
     "output_type": "execute_result"
    }
   ],
   "source": [
    "range(1,4)"
   ]
  },
  {
   "cell_type": "code",
   "execution_count": 38,
   "metadata": {},
   "outputs": [
    {
     "name": "stdout",
     "output_type": "stream",
     "text": [
      "RegexMatch(\"python\", 1=nothing, 2=nothing, 3=\"python\", 4=nothing)\n",
      "python 154\n",
      "***************\n",
      "RegexMatch(\"python.org\", 1=nothing, 2=nothing, 3=\"python\", 4=\".org\")\n",
      "python 161\n",
      ".org 167\n",
      "***************\n",
      "RegexMatch(\"http://python.org\", 1=\"http://\", 2=nothing, 3=\"python\", 4=\".org\")\n",
      "http:// 173\n",
      "python 180\n",
      ".org 186\n",
      "***************\n",
      "RegexMatch(\"www.python.org\", 1=nothing, 2=\"www.\", 3=\"python\", 4=\".org\")\n",
      "www. 191\n",
      "python 195\n",
      ".org 201\n",
      "***************\n",
      "RegexMatch(\"python\", 1=nothing, 2=nothing, 3=\"python\", 4=nothing)\n",
      "python 230\n",
      "***************\n",
      "RegexMatch(\"http://www.python.org\", 1=\"http://\", 2=\"www.\", 3=\"python\", 4=\".org\")\n",
      "http:// 243\n",
      "www. 250\n",
      "python 254\n",
      ".org 260\n",
      "***************\n",
      "RegexMatch(\"https://www.python.org\", 1=\"https://\", 2=\"www.\", 3=\"python\", 4=\".org\")\n",
      "https:// 302\n",
      "www. 310\n",
      "python 314\n",
      ".org 320\n",
      "***************\n"
     ]
    }
   ],
   "source": [
    "for m in eachmatch(r1, testString)\n",
    "    println(m)\n",
    "    for i in range(1,4) \n",
    "        if m[i] != nothing\n",
    "            println(m[i], \" \", m.offsets[i])\n",
    "        end\n",
    "    end\n",
    "    println(\"***************\")\n",
    "end"
   ]
  },
  {
   "cell_type": "markdown",
   "metadata": {},
   "source": [
    "## Named Groups\n",
    "* As we've defined groups so far, the individual groups can be accessed through indexing\n",
    "* Groups can be named as follows:\n",
    "```python   \n",
    "    (?P<frame>[0-9]+)\n",
    "```    \n",
    "\n",
    "### Named groups can be accessed either through index or name"
   ]
  },
  {
   "cell_type": "code",
   "execution_count": 40,
   "metadata": {},
   "outputs": [
    {
     "name": "stdout",
     "output_type": "stream",
     "text": [
      "d[1]=nothing; d[2]=nothing; d[3]=python; d[4]=nothing\n",
      "d[1]=nothing; d[2]=nothing; d[3]=python; d[4]=.org\n",
      "d[1]=http://; d[2]=nothing; d[3]=python; d[4]=.org\n",
      "d[1]=nothing; d[2]=www.; d[3]=python; d[4]=.org\n",
      "d[1]=nothing; d[2]=nothing; d[3]=python; d[4]=nothing\n",
      "d[1]=http://; d[2]=www.; d[3]=python; d[4]=.org\n",
      "d[1]=https://; d[2]=www.; d[3]=python; d[4]=.org\n"
     ]
    }
   ],
   "source": [
    "r1 = r\"\"\"(?P<protocol>http[s]*://)?(?P<prefix>www\\.)?(?P<name>python)(?P<suffix>\\.org)?\"\"\"\n",
    "for d in eachmatch(r1, testString)\n",
    "    println(\"d[1]=$(d[1]); d[2]=$(d[2]); d[3]=$(d[3]); d[4]=$(d[4])\")\n",
    "end"
   ]
  },
  {
   "cell_type": "code",
   "execution_count": 42,
   "metadata": {},
   "outputs": [
    {
     "name": "stdout",
     "output_type": "stream",
     "text": [
      "d[:protocol]=nothing; d[:prefix]=nothing; d[:name]=python; d[:suffix]=nothing\n",
      "d[:protocol]=nothing; d[:prefix]=nothing; d[:name]=python; d[:suffix]=.org\n",
      "d[:protocol]=http://; d[:prefix]=nothing; d[:name]=python; d[:suffix]=.org\n",
      "d[:protocol]=nothing; d[:prefix]=www.; d[:name]=python; d[:suffix]=.org\n",
      "d[:protocol]=nothing; d[:prefix]=nothing; d[:name]=python; d[:suffix]=nothing\n",
      "d[:protocol]=http://; d[:prefix]=www.; d[:name]=python; d[:suffix]=.org\n",
      "d[:protocol]=https://; d[:prefix]=www.; d[:name]=python; d[:suffix]=.org\n"
     ]
    }
   ],
   "source": [
    "for d in eachmatch(r1, testString)\n",
    "    println(\"d[:protocol]=$(d[:protocol]); d[:prefix]=$(d[:prefix]); d[:name]=$(d[:name]); d[:suffix]=$(d[:suffix])\")\n",
    "end    \n"
   ]
  },
  {
   "cell_type": "code",
   "execution_count": 46,
   "metadata": {},
   "outputs": [
    {
     "name": "stdout",
     "output_type": "stream",
     "text": [
      "Brian Chapman <29, 42>\n",
      "Chapman, Brian\n",
      "Brian E. Chapman <58, 74>\n",
      "Chapman, Brian\n",
      "Brian Earl Chapman <75, 93>\n",
      "Chapman, Brian\n",
      "Wendy Webber Chapman <95, 115>\n",
      "Chapman, Wendy\n",
      "Clare A Chapman <138, 153>\n",
      "Chapman, Clare\n",
      "Brad Bob <220, 228>\n",
      "Bob, Brad\n",
      "Perl PERL <270, 279>\n",
      "PERL, Perl\n"
     ]
    }
   ],
   "source": [
    "name = r\"\"\"((?P<fname>[A-Z][a-z]+)\\s((?P<mname>[A-Z][A-Za-z\\.]*)\\s)?(?P<lname>[A-Z][A-Za-z]+))\"\"\"\n",
    "\n",
    "for n in eachmatch(name, testString)\n",
    "    println(\"$(n.match) <$(n.offset), $(n.offset+length(n.match))>\")\n",
    "    println(\"$(n[:lname]), $(n[:fname])\")\n",
    "    #print (\"*\"*42)\n",
    "end"
   ]
  },
  {
   "cell_type": "markdown",
   "metadata": {},
   "source": [
    "## Modifying Strings with re\n",
    "* Regular expressions can also be used to modify text\n",
    "* Here is an example where we are identifying multiple white spaces, including tabs and newlines, and replacing them with a single space."
   ]
  },
  {
   "cell_type": "code",
   "execution_count": 49,
   "metadata": {},
   "outputs": [
    {
     "name": "stdout",
     "output_type": "stream",
     "text": [
      "Brian E.     Chapman\t\n",
      " has many bikes, including    a Big  Dummy, which  is probably the\t\t\n",
      "bike with   the    best name.\n",
      "******************************************\n",
      "Brian E. Chapman has many bikes, including a Big Dummy, which is probably the bike with the best name.\n"
     ]
    },
    {
     "name": "stderr",
     "output_type": "stream",
     "text": [
      "WARNING: Method definition cleanText(Any) in module Main at In[48]:6 overwritten at In[49]:6.\n",
      "\u001b[1m\u001b[31mWARNING: replacing docs for 'cleanText :: Tuple{Any}' in module 'Main'.\u001b[0m\n"
     ]
    }
   ],
   "source": [
    "test = \"\"\"Brian E.     Chapman\\t\\n has many bikes, including    a Big  Dummy, which  is probably the\\t\\t\\nbike with   the    best name.\"\"\"\n",
    "\n",
    "\"\"\"cleans up whitepsaces in text by replacing series of all whitespaces with a single space\"\"\"\n",
    "function cleanText(txt)\n",
    "    \n",
    "    txt2 = replace(txt, r\"\\s+\", \" \"\"\")\n",
    "    return txt2\n",
    "end    \n",
    "println(test)\n",
    "println(\"*\"^42)\n",
    "println(cleanText(test))"
   ]
  },
  {
   "cell_type": "markdown",
   "metadata": {},
   "source": []
  },
  {
   "cell_type": "code",
   "execution_count": null,
   "metadata": {
    "collapsed": true
   },
   "outputs": [],
   "source": []
  }
 ],
 "metadata": {
  "anaconda-cloud": {},
  "kernelspec": {
   "display_name": "Julia 0.6.2",
   "language": "julia",
   "name": "julia-0.6"
  },
  "language_info": {
   "file_extension": ".jl",
   "mimetype": "application/julia",
   "name": "julia",
   "version": "0.6.2"
  }
 },
 "nbformat": 4,
 "nbformat_minor": 1
}
