{
 "cells": [
  {
   "cell_type": "markdown",
   "metadata": {},
   "source": [
    "# Text Processing with TextBlob"
   ]
  },
  {
   "cell_type": "code",
   "execution_count": 1,
   "metadata": {},
   "outputs": [],
   "source": [
    "%matplotlib inline"
   ]
  },
  {
   "cell_type": "markdown",
   "metadata": {},
   "source": [
    "#### TextBlob is already installed but we need data files "
   ]
  },
  {
   "cell_type": "code",
   "execution_count": 2,
   "metadata": {},
   "outputs": [
    {
     "name": "stdout",
     "output_type": "stream",
     "text": [
      "[nltk_data] Downloading package brown to /home/jovyan/nltk_data...\n",
      "[nltk_data]   Unzipping corpora/brown.zip.\n",
      "[nltk_data] Downloading package punkt to /home/jovyan/nltk_data...\n",
      "[nltk_data]   Unzipping tokenizers/punkt.zip.\n",
      "[nltk_data] Downloading package wordnet to /home/jovyan/nltk_data...\n",
      "[nltk_data]   Unzipping corpora/wordnet.zip.\n",
      "[nltk_data] Downloading package averaged_perceptron_tagger to\n",
      "[nltk_data]     /home/jovyan/nltk_data...\n",
      "[nltk_data]   Unzipping taggers/averaged_perceptron_tagger.zip.\n",
      "[nltk_data] Downloading package conll2000 to /home/jovyan/nltk_data...\n",
      "[nltk_data]   Unzipping corpora/conll2000.zip.\n",
      "[nltk_data] Downloading package movie_reviews to\n",
      "[nltk_data]     /home/jovyan/nltk_data...\n",
      "[nltk_data]   Unzipping corpora/movie_reviews.zip.\n",
      "Finished.\n"
     ]
    }
   ],
   "source": [
    "!python -m textblob.download_corpora"
   ]
  },
  {
   "cell_type": "markdown",
   "metadata": {},
   "source": [
    "### Now import some modules"
   ]
  },
  {
   "cell_type": "code",
   "execution_count": 3,
   "metadata": {},
   "outputs": [],
   "source": [
    "import sqlite3 as sqlite\n",
    "import pandas as pd\n",
    "import os\n",
    "from textblob import TextBlob, Word\n",
    "from ipywidgets import widgets, interact, interactive, fixed\n",
    "\n",
    "from IPython.display import clear_output, display, HTML\n",
    "import time\n"
   ]
  },
  {
   "cell_type": "code",
   "execution_count": null,
   "metadata": {},
   "outputs": [],
   "source": []
  },
  {
   "cell_type": "code",
   "execution_count": 10,
   "metadata": {},
   "outputs": [],
   "source": [
    "with open(os.path.join(\"..\", \"Resources\",\"atlantic_article.txt\")) as f0:\n",
    "    article = f0.read()"
   ]
  },
  {
   "cell_type": "code",
   "execution_count": 11,
   "metadata": {},
   "outputs": [
    {
     "data": {
      "text/plain": [
       "'Eggs are back, indeed, as many headlines are celebrating today. And aspartame is probably okay in moderation, though artificial sweeteners should not be promoted in approaches to weight loss. Coffee and tea get a more conclusive pass, as does moderate alcohol, though no one is encouraged to start drinking if they don\\'t already. But the most important, most definitive tenets of eating well—according to new 2015 federal dietary recommendations, released today—are the time-tested basics: moderation and a focus on fruits, vegetables, and whole grains. Which sounds a little banal, but it\\'s also grounding in its consistency, in a world of sensational dietary trends and best-selling celebrity whims.\\n\\nBecause the body of evidence in nutrition science is constantly, insistently growing, the U.S. Departments of Agriculture and Health and Human Services convene experts from academic institutions across the country every five years to decide what exactly constitutes a healthy diet. The group\\'s mission is, specifically, to identify the \"foods and beverages that help [people to] achieve and maintain a healthy weight, promote health, and prevent disease.\"\\n\\nThe 15-person advisory committee\\'s new recommendations are emblematic of an essential ongoing shift in approaches to eating: focusing on whole foods, as opposed to avoiding or endorsing specific macronutrients (carbs, fat, or protein). Where nutrients are mentioned in the committee\\'s recommendations, there are a few notable moves. Cholesterol in food is no longer cause for concern—vindicating the once-forsaken egg yolk and its arbitrary \"62-percent daily value\" of cholesterol, as current nutrition labels read. Only certain kinds of dietary fat (trans and saturated) are to be minimized, and whole grains are—starkly counter to the national trend in low-carb and gluten-averse ideologies—second only to fruits and vegetables as the most \"health-promoting\" foods that a person can eat.\\n\\nEven for its 571 pages, the monograph will disappoint Americans who are looking for exact foods to be eaten in precise quantities. The guidelines for a diet that will minimize undue weight gain, for example, are emblematic of the group\\'s recommendations, wherein people are encouraged to follow diets that simply:\\n\\n\"are higher in vegetables, fruits, and whole grains;\\ninclude seafood and legumes;\\nare moderate in dairy products (with an emphasis on low- and non-fat dairy);\\nare moderate in alcohol;\\nare lower in meats (including red and processed meats);\\nare lower in sugar-sweetened foods and beverages; and\\nare lower in refined grains.\"\\nSimilarly open-ended in terms of execution, the report continues, \"This can be achieved through a variety of evidence-based dietary patterns ... Strategies should be based on the individual’s preferences and health status and consider the sociocultural influences on lifestyle behaviors that relate to long-term behavior maintenance.\" Which is to say, not everyone should be held to a single standard, because there are a lot of variables in individual lives, but here are the basic principles that everyone can try to accommodate if they want to be healthy.\\n\\nApart from the weight-minimizing recommendations, there are also guidelines for eating patterns that may help to lower risks for particular diseases—though they vary little from one to the next. For example, the recommendations for optimizing mental health and reducing risk of dementia are, simply, \"emphasizing vegetables, fruits, seafood, legumes, and nuts.\"\\n\\nVegetables and fruits were the only dietary elements that proved beneficial in preventing or treating every disease that the committee included in its review of scientific evidence. They were followed by whole grains, which had moderate-to-strong evidence for their consumption in every case. The evidence was largely against any diet that is high in sugar-sweetened foods and refined grains. Other elements common to diets proven to prevent certain diseases were being high in low- or non-fat dairy, seafood, legumes, and nuts; moderate in alcohol; and lower in processed meat and red meat.\\n\\nIn order for people to consume enough seafood to meet these dietary recommendations, the committee concedes, both farm-raised and wild-caught seafood will need to be part of the food supply. And actually, contrary to popular understanding, of the species evaluated in the committee\\'s review, \"farm-raised seafood had as much or more EPA and DHA [omega-3 fatty acids] per serving as wild-caught.\" The risks of exposure to mercury and organic pollutants in farm-raised fish did not, in most fish species, outweigh the health benefits of seafood consumption. In all cases, people should focus on eating \"high-trophic\" seafood, like salmon, for its beneficial omega-3 fatty acids, as opposed to low-trophic catfish or crawfish.\\n\\nIn the past, these federal guidelines have been divisive and, in the case of the now infamous 1992 USDA food pyramid, widely blamed for increases in obesity and chronic diseases. The distrust and sense of dietary anarchy that ensued led to the process being refined and held under scrutiny in recent iterations, sticking to what is known from a consensus of the best available evidence. If there is to be an empirically produced standard of what is known about how to eat well at the moment, this would seem to be it.\\n\\nThe most divisive element of the recommendations since their announcement earlier today has been the committee\\'s approach to saturated fat, reflected particularly in the low-fat dairy endorsement. Saturated fat is recommended only in moderate amounts—to constitute, at most, 10 percent of a person\\'s daily calories—despite the assertions of experts like the Cleveland Clinic\\'s chair of cardiovascular medicine Steven Nissen, journalist Nina Teicholz, and flocks of Paleo-diet loyalists who believe that higher saturated-fat intake seems to be within the purview of human gastronomy.\\n\\nThe recommendations will not be finalized until the end of the year, following an immediate two-month comment period, during which you can go to health.gov and tell them exactly what you think of all this. [Cut to Paleo dieters typing frantically.]\\n\\nThis article available online at:\\n\\nhttp://www.theatlantic.com/health/archive/2015/02/eggs-are-back-the-earnest-simplicity-of-the-new-nutrition-guidelines/385659/\\n\\nCopyright © 2015 by The Atlantic Monthly Group. All Rights Reserved.\\n'"
      ]
     },
     "execution_count": 11,
     "metadata": {},
     "output_type": "execute_result"
    }
   ],
   "source": [
    "article"
   ]
  },
  {
   "cell_type": "code",
   "execution_count": 12,
   "metadata": {},
   "outputs": [
    {
     "data": {
      "text/html": [
       "Eggs are back, indeed, as many headlines are celebrating today. And aspartame is probably okay in moderation, though artificial sweeteners should not be promoted in approaches to weight loss. Coffee and tea get a more conclusive pass, as does moderate alcohol, though no one is encouraged to start drinking if they don't already. But the most important, most definitive tenets of eating well—according to new 2015 federal dietary recommendations, released today—are the time-tested basics: moderation and a focus on fruits, vegetables, and whole grains. Which sounds a little banal, but it's also grounding in its consistency, in a world of sensational dietary trends and best-selling celebrity whims.</br></br>Because the body of evidence in nutrition science is constantly, insistently growing, the U.S. Departments of Agriculture and Health and Human Services convene experts from academic institutions across the country every five years to decide what exactly constitutes a healthy diet. The group's mission is, specifically, to identify the \"foods and beverages that help [people to] achieve and maintain a healthy weight, promote health, and prevent disease.\"</br></br>The 15-person advisory committee's new recommendations are emblematic of an essential ongoing shift in approaches to eating: focusing on whole foods, as opposed to avoiding or endorsing specific macronutrients (carbs, fat, or protein). Where nutrients are mentioned in the committee's recommendations, there are a few notable moves. Cholesterol in food is no longer cause for concern—vindicating the once-forsaken egg yolk and its arbitrary \"62-percent daily value\" of cholesterol, as current nutrition labels read. Only certain kinds of dietary fat (trans and saturated) are to be minimized, and whole grains are—starkly counter to the national trend in low-carb and gluten-averse ideologies—second only to fruits and vegetables as the most \"health-promoting\" foods that a person can eat.</br></br>Even for its 571 pages, the monograph will disappoint Americans who are looking for exact foods to be eaten in precise quantities. The guidelines for a diet that will minimize undue weight gain, for example, are emblematic of the group's recommendations, wherein people are encouraged to follow diets that simply:</br></br>\"are higher in vegetables, fruits, and whole grains;</br>include seafood and legumes;</br>are moderate in dairy products (with an emphasis on low- and non-fat dairy);</br>are moderate in alcohol;</br>are lower in meats (including red and processed meats);</br>are lower in sugar-sweetened foods and beverages; and</br>are lower in refined grains.\"</br>Similarly open-ended in terms of execution, the report continues, \"This can be achieved through a variety of evidence-based dietary patterns ... Strategies should be based on the individual’s preferences and health status and consider the sociocultural influences on lifestyle behaviors that relate to long-term behavior maintenance.\" Which is to say, not everyone should be held to a single standard, because there are a lot of variables in individual lives, but here are the basic principles that everyone can try to accommodate if they want to be healthy.</br></br>Apart from the weight-minimizing recommendations, there are also guidelines for eating patterns that may help to lower risks for particular diseases—though they vary little from one to the next. For example, the recommendations for optimizing mental health and reducing risk of dementia are, simply, \"emphasizing vegetables, fruits, seafood, legumes, and nuts.\"</br></br>Vegetables and fruits were the only dietary elements that proved beneficial in preventing or treating every disease that the committee included in its review of scientific evidence. They were followed by whole grains, which had moderate-to-strong evidence for their consumption in every case. The evidence was largely against any diet that is high in sugar-sweetened foods and refined grains. Other elements common to diets proven to prevent certain diseases were being high in low- or non-fat dairy, seafood, legumes, and nuts; moderate in alcohol; and lower in processed meat and red meat.</br></br>In order for people to consume enough seafood to meet these dietary recommendations, the committee concedes, both farm-raised and wild-caught seafood will need to be part of the food supply. And actually, contrary to popular understanding, of the species evaluated in the committee's review, \"farm-raised seafood had as much or more EPA and DHA [omega-3 fatty acids] per serving as wild-caught.\" The risks of exposure to mercury and organic pollutants in farm-raised fish did not, in most fish species, outweigh the health benefits of seafood consumption. In all cases, people should focus on eating \"high-trophic\" seafood, like salmon, for its beneficial omega-3 fatty acids, as opposed to low-trophic catfish or crawfish.</br></br>In the past, these federal guidelines have been divisive and, in the case of the now infamous 1992 USDA food pyramid, widely blamed for increases in obesity and chronic diseases. The distrust and sense of dietary anarchy that ensued led to the process being refined and held under scrutiny in recent iterations, sticking to what is known from a consensus of the best available evidence. If there is to be an empirically produced standard of what is known about how to eat well at the moment, this would seem to be it.</br></br>The most divisive element of the recommendations since their announcement earlier today has been the committee's approach to saturated fat, reflected particularly in the low-fat dairy endorsement. Saturated fat is recommended only in moderate amounts—to constitute, at most, 10 percent of a person's daily calories—despite the assertions of experts like the Cleveland Clinic's chair of cardiovascular medicine Steven Nissen, journalist Nina Teicholz, and flocks of Paleo-diet loyalists who believe that higher saturated-fat intake seems to be within the purview of human gastronomy.</br></br>The recommendations will not be finalized until the end of the year, following an immediate two-month comment period, during which you can go to health.gov and tell them exactly what you think of all this. [Cut to Paleo dieters typing frantically.]</br></br>This article available online at:</br></br>http://www.theatlantic.com/health/archive/2015/02/eggs-are-back-the-earnest-simplicity-of-the-new-nutrition-guidelines/385659/</br></br>Copyright © 2015 by The Atlantic Monthly Group. All Rights Reserved.</br>"
      ],
      "text/plain": [
       "<IPython.core.display.HTML object>"
      ]
     },
     "metadata": {},
     "output_type": "display_data"
    }
   ],
   "source": [
    "display(HTML( article.replace('\\n',\"</br>\")))"
   ]
  },
  {
   "cell_type": "markdown",
   "metadata": {},
   "source": [
    "### Create a TextBlob Object\n",
    "\n",
    "When we create a ``TextBlob`` object it does a lot of behind the scence processing for us, such as\n",
    "\n",
    "* Breaking the text into sentences\n",
    "* Breaking the text into words\n",
    "* Breaking the text into tokens"
   ]
  },
  {
   "cell_type": "code",
   "execution_count": 13,
   "metadata": {},
   "outputs": [],
   "source": [
    "blob = TextBlob(article)"
   ]
  },
  {
   "cell_type": "markdown",
   "metadata": {},
   "source": [
    "## TextBlob can tokenize (break into pieces) the Text"
   ]
  },
  {
   "cell_type": "code",
   "execution_count": 14,
   "metadata": {},
   "outputs": [
    {
     "name": "stdout",
     "output_type": "stream",
     "text": [
      "Eggs are back, indeed, as many headlines are celebrating today.\n",
      "------------------------------------------\n",
      "And aspartame is probably okay in moderation, though artificial sweeteners should not be promoted in approaches to weight loss.\n",
      "------------------------------------------\n",
      "Coffee and tea get a more conclusive pass, as does moderate alcohol, though no one is encouraged to start drinking if they don't already.\n",
      "------------------------------------------\n",
      "But the most important, most definitive tenets of eating well—according to new 2015 federal dietary recommendations, released today—are the time-tested basics: moderation and a focus on fruits, vegetables, and whole grains.\n",
      "------------------------------------------\n",
      "Which sounds a little banal, but it's also grounding in its consistency, in a world of sensational dietary trends and best-selling celebrity whims.\n",
      "------------------------------------------\n"
     ]
    }
   ],
   "source": [
    "for s in blob.sentences[:5]:\n",
    "    print (s)\n",
    "    print(\"-\"*42)"
   ]
  },
  {
   "cell_type": "markdown",
   "metadata": {},
   "source": [
    "### Print out the words"
   ]
  },
  {
   "cell_type": "code",
   "execution_count": 15,
   "metadata": {},
   "outputs": [
    {
     "name": "stdout",
     "output_type": "stream",
     "text": [
      "Eggs\n",
      "are\n",
      "back\n",
      "indeed\n",
      "as\n",
      "many\n",
      "headlines\n",
      "are\n",
      "celebrating\n",
      "today\n",
      "And\n",
      "aspartame\n",
      "is\n",
      "probably\n",
      "okay\n",
      "in\n",
      "moderation\n",
      "though\n",
      "artificial\n",
      "sweeteners\n",
      "should\n",
      "not\n",
      "be\n",
      "promoted\n",
      "in\n",
      "approaches\n",
      "to\n",
      "weight\n",
      "loss\n",
      "Coffee\n",
      "and\n",
      "tea\n",
      "get\n",
      "a\n",
      "more\n",
      "conclusive\n",
      "pass\n",
      "as\n",
      "does\n",
      "moderate\n"
     ]
    }
   ],
   "source": [
    "for w in blob.words[:40]:\n",
    "    print (w)"
   ]
  },
  {
   "cell_type": "markdown",
   "metadata": {},
   "source": [
    "### Tokens include punctuation"
   ]
  },
  {
   "cell_type": "code",
   "execution_count": 16,
   "metadata": {},
   "outputs": [
    {
     "name": "stdout",
     "output_type": "stream",
     "text": [
      "Eggs\n",
      "are\n",
      "back\n",
      ",\n",
      "indeed\n",
      ",\n",
      "as\n",
      "many\n",
      "headlines\n",
      "are\n",
      "celebrating\n",
      "today\n",
      ".\n",
      "And\n",
      "aspartame\n",
      "is\n",
      "probably\n",
      "okay\n",
      "in\n",
      "moderation\n",
      ",\n",
      "though\n",
      "artificial\n",
      "sweeteners\n",
      "should\n",
      "not\n",
      "be\n",
      "promoted\n",
      "in\n",
      "approaches\n",
      "to\n",
      "weight\n",
      "loss\n",
      ".\n",
      "Coffee\n",
      "and\n",
      "tea\n",
      "get\n",
      "a\n",
      "more\n"
     ]
    }
   ],
   "source": [
    "for t in blob.tokens[:40]:\n",
    "    print (t)"
   ]
  },
  {
   "cell_type": "markdown",
   "metadata": {},
   "source": [
    "## [Sentiment Analysis](http://en.wikipedia.org/wiki/Sentiment_analysis)"
   ]
  },
  {
   "cell_type": "markdown",
   "metadata": {},
   "source": [
    ">Generally speaking, sentiment analysis aims to determine the attitude of a speaker or a writer with respect to some topic or the overall contextual polarity of a document. The attitude may be his or her judgment or evaluation (see appraisal theory), affective state (that is to say, the emotional state of the author when writing), or the intended emotional communication (that is to say, the emotional effect the author wishes to have on the reader). (Wikipedia)"
   ]
  },
  {
   "cell_type": "markdown",
   "metadata": {},
   "source": [
    "### Sentiment Analysis"
   ]
  },
  {
   "cell_type": "markdown",
   "metadata": {},
   "source": [
    ">A basic task in sentiment analysis is classifying the polarity of a given text at the document, sentence, or feature/aspect level — whether the expressed opinion in a document, a sentence or an entity feature/aspect is positive, negative, or neutral. (Wikipedia)"
   ]
  },
  {
   "cell_type": "markdown",
   "metadata": {},
   "source": [
    ">Another research direction is subjectivity/objectivity identification. This task is commonly[8] defined as classifying a given text (usually a sentence) into one of two classes: objective or subjective. (Wikipedia)"
   ]
  },
  {
   "cell_type": "markdown",
   "metadata": {},
   "source": [
    "### TextBlob does Some Sentiment Analysis\n",
    "#### Sentiment can be computed on a document and sentence level"
   ]
  },
  {
   "cell_type": "code",
   "execution_count": null,
   "metadata": {},
   "outputs": [],
   "source": [
    "blob.sentiment"
   ]
  },
  {
   "cell_type": "code",
   "execution_count": null,
   "metadata": {},
   "outputs": [],
   "source": [
    "for s in blob.sentences:\n",
    "    print (s)\n",
    "    print (s.sentiment)\n",
    "    print ('-'*42)"
   ]
  },
  {
   "cell_type": "markdown",
   "metadata": {},
   "source": [
    "### Pre-processing Words\n",
    "\n",
    "* We often want to transform all the variations of words into a single form"
   ]
  },
  {
   "cell_type": "markdown",
   "metadata": {},
   "source": [
    "#### TextBlob Can Singularize and Pluralize Words, But Not Well"
   ]
  },
  {
   "cell_type": "code",
   "execution_count": null,
   "metadata": {},
   "outputs": [],
   "source": [
    "s = blob.sentences[5]"
   ]
  },
  {
   "cell_type": "code",
   "execution_count": null,
   "metadata": {},
   "outputs": [],
   "source": [
    "for w in s.words:\n",
    "    print (w,w.singularize(),w.pluralize())\n",
    "    print(\"-\"*42)"
   ]
  },
  {
   "cell_type": "markdown",
   "metadata": {},
   "source": [
    "#### TextBlob Can Lemmatize Words"
   ]
  },
  {
   "cell_type": "markdown",
   "metadata": {},
   "source": [
    ">Lemmatisation (or lemmatization) in linguistics is the process of grouping together the different inflected forms of a word so they can be analysed as a single item.[1] (Wikipedia)"
   ]
  },
  {
   "cell_type": "code",
   "execution_count": null,
   "metadata": {},
   "outputs": [],
   "source": [
    "s = blob.sentences[15]\n",
    "for w in s.words:\n",
    "    if w != w.lemmatize():\n",
    "        print (\"Modified:\\t\",w,\"->\",w.lemmatize())\n",
    "    else:\n",
    "        print(\"Unchanged:\\t\",w)"
   ]
  },
  {
   "cell_type": "markdown",
   "metadata": {},
   "source": [
    "### We can guide the lemmatization by telling word type"
   ]
  },
  {
   "cell_type": "code",
   "execution_count": null,
   "metadata": {},
   "outputs": [],
   "source": [
    "ww = Word(\"imagining\")\n",
    "print(ww.lemmatize('v'))\n"
   ]
  },
  {
   "cell_type": "markdown",
   "metadata": {},
   "source": [
    "### TextBlob will do part-of-speech tagging\n",
    "\n",
    "A list of part-of-speech tag abbreviations can be seen [here](https://www.ling.upenn.edu/courses/Fall_2003/ling001/penn_treebank_pos.html)."
   ]
  },
  {
   "cell_type": "code",
   "execution_count": null,
   "metadata": {},
   "outputs": [],
   "source": [
    "type(blob.tags)"
   ]
  },
  {
   "cell_type": "code",
   "execution_count": null,
   "metadata": {},
   "outputs": [],
   "source": [
    "t = dict(blob.tags)\n",
    "for item in list(t.items())[0:20]:\n",
    "    print(item)"
   ]
  },
  {
   "cell_type": "markdown",
   "metadata": {},
   "source": [
    "### TextBlob Can (try) to Provide Definitions\n",
    "\n",
    "If we do not provide a part-of-speech, TextBlob will try to return definitions for all parts-of-speech. Definitions are returned as a [synset](https://en.wikipedia.org/wiki/Synonym_ring)\n",
    "\n",
    ">In metadata a synonym ring or synset, is a group of data elements that are considered semantically equivalent for the purposes of information retrieval. These data elements are frequently found in different metadata registries. Although a group of terms can be considered equivalent, metadata registries store the synonyms at a central location called the preferred data element."
   ]
  },
  {
   "cell_type": "code",
   "execution_count": null,
   "metadata": {},
   "outputs": [],
   "source": [
    "for w in s.words:\n",
    "    print (w)\n",
    "    for d in w.definitions:\n",
    "        print(\"*\",d)\n",
    "    print ('-'*42)"
   ]
  },
  {
   "cell_type": "code",
   "execution_count": null,
   "metadata": {},
   "outputs": [],
   "source": [
    "w1 = Word('apical')"
   ]
  },
  {
   "cell_type": "code",
   "execution_count": null,
   "metadata": {},
   "outputs": [],
   "source": [
    "print(w1.definitions)\n",
    "w1.lemmatize('a')"
   ]
  },
  {
   "cell_type": "code",
   "execution_count": null,
   "metadata": {},
   "outputs": [],
   "source": [
    "blob.words.count(\"eggs\",case_sensitive=True)"
   ]
  },
  {
   "cell_type": "code",
   "execution_count": null,
   "metadata": {},
   "outputs": [],
   "source": [
    "blob.words.count(\"eggs\",case_sensitive=False)"
   ]
  },
  {
   "cell_type": "markdown",
   "metadata": {},
   "source": [
    "### TextBlob can try to translate\n",
    "#### NOTE: Google has eliminated their free translation service\n",
    "\n",
    "* Translation is done via Google Translate\n",
    "\n",
    "[Language Codes Can be Found Here](https://cloud.google.com/translate/v2/using_rest#language-params)"
   ]
  },
  {
   "cell_type": "code",
   "execution_count": null,
   "metadata": {},
   "outputs": [],
   "source": [
    "codes = [l.split(\"\\t\") for l in \"\"\"Afrikaans \taf\n",
    "Albanian \tsq\n",
    "Arabic \tar\n",
    "Armenian \thy\n",
    "Azerbaijani \taz\n",
    "Basque \teu\n",
    "Belarusian \tbe\n",
    "Bengali \tbn\n",
    "Bosnian \tbs\n",
    "Bulgarian \tbg\n",
    "Catalan \tca\n",
    "Cebuano \tceb\n",
    "Chichewa \tny\n",
    "Chinese Simplified \tzh-CN\n",
    "Chinese Traditional \tzh-TW\n",
    "Croatian \thr\n",
    "Czech \tcs\n",
    "Danish \tda\n",
    "Dutch \tnl\n",
    "English \ten\n",
    "Esperanto \teo\n",
    "Estonian \tet\n",
    "Filipino \ttl\n",
    "Finnish \tfi\n",
    "French \tfr\n",
    "Galician \tgl\n",
    "Georgian \tka\n",
    "German \tde\n",
    "Greek \tel\n",
    "Gujarati \tgu\n",
    "Haitian Creole \tht\n",
    "Hausa \tha\n",
    "Hebrew \tiw\n",
    "Hindi \thi\n",
    "Hmong \thmn\n",
    "Hungarian \thu\n",
    "Icelandic \tis\n",
    "Igbo \tig\n",
    "Indonesian \tid\n",
    "Irish \tga\n",
    "Italian \tit\n",
    "Japanese \tja\n",
    "Javanese \tjw\n",
    "Kannada \tkn\n",
    "Kazakh \tkk\n",
    "Khmer \tkm\n",
    "Korean \tko\n",
    "Lao \tlo\n",
    "Latin \tla\n",
    "Latvian \tlv\n",
    "Lithuanian \tlt\n",
    "Macedonian \tmk\n",
    "Malagasy \tmg\n",
    "Malay \tms\n",
    "Malayalam \tml\n",
    "Maltese \tmt\n",
    "Maori \tmi\n",
    "Marathi \tmr\n",
    "Mongolian \tmn\n",
    "Myanmar (Burmese) \tmy\n",
    "Nepali \tne\n",
    "Norwegian \tno\n",
    "Persian \tfa\n",
    "Polish \tpl\n",
    "Portuguese \tpt\n",
    "Punjabi \tma\n",
    "Romanian \tro\n",
    "Russian \tru\n",
    "Serbian \tsr\n",
    "Sesotho \tst\n",
    "Sinhala \tsi\n",
    "Slovak \tsk\n",
    "Slovenian \tsl\n",
    "Somali \tso\n",
    "Spanish \tes\n",
    "Sudanese \tsu\n",
    "Swahili \tsw\n",
    "Swedish \tsv\n",
    "Tajik \ttg\n",
    "Tamil \tta\n",
    "Telugu \tte\n",
    "Thai \tth\n",
    "Turkish \ttr\n",
    "Ukrainian \tuk\n",
    "Urdu \tur\n",
    "Uzbek \tuz\n",
    "Vietnamese \tvi\n",
    "Welsh \tcy\n",
    "Yiddish \tyi\n",
    "Yoruba \tyo\n",
    "Zulu \tzu\"\"\".split(\"\\n\")]\n",
    "codes"
   ]
  },
  {
   "cell_type": "code",
   "execution_count": null,
   "metadata": {},
   "outputs": [],
   "source": [
    "s = blob.sentences[0]\n",
    "type(s)\n",
    "type(s.raw)"
   ]
  },
  {
   "cell_type": "code",
   "execution_count": null,
   "metadata": {},
   "outputs": [],
   "source": [
    "@interact(s=[s.raw for s in blob.sentences],code={c[0]:c[1] for c in codes})\n",
    "def translate_sentence(s,code):\n",
    "    #clear_output()\n",
    "    blob = TextBlob(s)\n",
    "    try:\n",
    "        display(HTML(\"<h3>Original</h3><p>%s</p><h2>To: %s</h2>\"%(s,code[0])))\n",
    "        display(HTML(blob.sentences[0].translate(to=code).raw))\n",
    "    except Exception as error:\n",
    "        display(HTML(\"<h3>Could not translate: %s</h3>\"%error))\n",
    "\n",
    "    \n",
    "\n",
    "seq=\" \".join(list(\"\"\"AACGAACGCTGGCGGCATGCCTAACACATGCAAGTCGAACGAGACCTTCGGGTCTAGTGGCGCACGGGTGCGTAACGCGTGGGAA\"\"\"\\\n",
    "    +\"\"\"TCTGCCCTTGGGTACGGAATAACAGTTAGAAATGACTGCTAATACC\"\"\"))\n",
    "sblob = TextBlob(seq)"
   ]
  },
  {
   "cell_type": "markdown",
   "metadata": {},
   "source": [
    "## TextBlob can create n-grams (think k-mers)"
   ]
  },
  {
   "cell_type": "code",
   "execution_count": null,
   "metadata": {},
   "outputs": [],
   "source": [
    "for s in blob.sentences:\n",
    "    print( len(s.ngrams(2)),len(s.ngrams(3)),len(s.ngrams(4)))"
   ]
  },
  {
   "cell_type": "code",
   "execution_count": null,
   "metadata": {},
   "outputs": [],
   "source": [
    "seq=\" \".join(list(\"\"\"AACGAACGCTGGCGGCATGCCTAACACATGCAAGTCGAACGAGACCTTCGGGTCTAGTGGCGCACGGGTGCGTAACGCGTGGGAA\"\"\"\\\n",
    "    +\"\"\"TCTGCCCTTGGGTACGGAATAACAGTTAGAAATGACTGCTAATACC\"\"\"))\n",
    "sblob = TextBlob(seq)"
   ]
  },
  {
   "cell_type": "code",
   "execution_count": null,
   "metadata": {},
   "outputs": [],
   "source": [
    "sblob.words"
   ]
  },
  {
   "cell_type": "code",
   "execution_count": null,
   "metadata": {},
   "outputs": [],
   "source": [
    "ngrams=sblob.ngrams(7)\n",
    "ngrams.sort()"
   ]
  },
  {
   "cell_type": "code",
   "execution_count": null,
   "metadata": {},
   "outputs": [],
   "source": [
    "ngs = [''.join(n) for n in ngrams]\n",
    "print (len(ngs))\n",
    "for n in ngs:\n",
    "    print (n)"
   ]
  },
  {
   "cell_type": "code",
   "execution_count": null,
   "metadata": {
    "collapsed": true
   },
   "outputs": [],
   "source": []
  }
 ],
 "metadata": {
  "kernelspec": {
   "display_name": "Python [default]",
   "language": "python",
   "name": "python3"
  },
  "language_info": {
   "codemirror_mode": {
    "name": "ipython",
    "version": 3
   },
   "file_extension": ".py",
   "mimetype": "text/x-python",
   "name": "python",
   "nbconvert_exporter": "python",
   "pygments_lexer": "ipython3",
   "version": "3.6.4"
  }
 },
 "nbformat": 4,
 "nbformat_minor": 1
}
